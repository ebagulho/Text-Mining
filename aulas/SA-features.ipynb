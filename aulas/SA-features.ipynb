{
 "cells": [
  {
   "cell_type": "markdown",
   "metadata": {},
   "source": [
    "# Creating our own classifier\n",
    "Lets use [Sentiment Polarity Dataset 2.0](https://www.cs.cornell.edu/people/pabo/movie-review-data/), included in the `NLTK` library.<Br>\n",
    "It consists of 1000 positive and 1000 negative processed reviews. Introduced in Pang/Lee ACL 2004. Released June 2004."
   ]
  },
  {
   "cell_type": "code",
   "execution_count": 44,
   "metadata": {},
   "outputs": [],
   "source": [
    "import nltk\n",
    "from nltk.corpus import stopwords\n",
    "from collections import defaultdict\n",
    "from nltk import word_tokenize\n",
    "import string"
   ]
  },
  {
   "cell_type": "code",
   "execution_count": 45,
   "metadata": {},
   "outputs": [
    {
     "name": "stdout",
     "output_type": "stream",
     "text": [
      "The corpus contains 2000 reviews\n"
     ]
    }
   ],
   "source": [
    "from nltk.corpus import movie_reviews as mr\n",
    "print(\"The corpus contains %d reviews\"% len(mr.fileids()))"
   ]
  },
  {
   "cell_type": "code",
   "execution_count": 46,
   "metadata": {},
   "outputs": [
    {
     "name": "stdout",
     "output_type": "stream",
     "text": [
      "neg/cv461_21124.txt ==> neg\n",
      "neg/cv187_14112.txt ==> neg\n",
      "pos/cv137_15422.txt ==> pos\n",
      "pos/cv544_5108.txt ==> pos\n",
      "pos/cv464_15650.txt ==> pos\n",
      "pos/cv284_19119.txt ==> pos\n",
      "neg/cv458_9000.txt ==> neg\n",
      "pos/cv399_2877.txt ==> pos\n",
      "neg/cv721_28993.txt ==> neg\n",
      "pos/cv502_10406.txt ==> pos\n"
     ]
    }
   ],
   "source": [
    "for i in mr.fileids()[995:1005]: # Reviews 995 to 1005\n",
    "    print(i, \"==>\", i.split('/')[0])"
   ]
  },
  {
   "cell_type": "markdown",
   "metadata": {},
   "source": [
    "Let's see the content of one of these reviews"
   ]
  },
  {
   "cell_type": "code",
   "execution_count": 47,
   "metadata": {
    "scrolled": true
   },
   "outputs": [
    {
     "name": "stdout",
     "output_type": "stream",
     "text": [
      "the tagline on random hearts reads \" in a perfect world , they never would have met . \" \n",
      "in a perfect world , i never would have seen this movie . \n",
      "the biggest flaw is that 20 minutes into this film , kay chandler ( kristin scott thomas ) and dutch van den broeck ( harrison ford ) are the only two major characters alive ; resulting in little doubt that they will end up together at some point during the laborious two-hours-and-then-some production . \n",
      "dutch is a sergeant in internal affairs at the district of columbia police department . \n",
      "kay is a congresswoman from new hampshire . \n",
      "although they both think they are happily married , their spouses are cheating with each other behind their backs . \n",
      "dutch and kay are soon widowed when a plane goes down carrying their partners ; they subsequently discover the affair . \n",
      "the rest of the film is the pointless , unrealistic and often-times boring story of their researching the sexual relationship that they were blind to , and getting to know each other in the process . \n",
      "two sub plots are of little help to the already problematic film . \n",
      "dutch is trying to arrest a fellow officer , a task that seems rather ordinary for hollywood fare . \n",
      "all the great stereotypes get pulled , including my personal favorite of the key witness that makes bail and is murdered soon thereafter . \n",
      "kay's distraction from the film's primary focus is her campaign for re-election and attempts to shield her 15 year old daughter from the truth about the father she put on a pedestal . \n",
      "these sub plots could have made for semi-interesting points , but the film seems afraid to explore politics or mother-daughter relations in depth , and consequently suffers . \n",
      "random hearts' two primary characters seem to live in shells . \n",
      "although both kay and dutch are given their own sub plots , they seem to never deal with anyone other than themselves or each other . \n",
      "there is plenty of opportunity , dutch having a partner and kay having close friends and her daughter , but the movie shies away from exploring these relationships . \n",
      "veteran actor and director of this film sydney pollack , and critically acclaimed up-and-comer dylan baker both have cameo roles , but be careful not to blink too much or you will miss them both . \n",
      "other than its weak plot , it is hard to criticize random hearts . \n",
      "however , it is also hard to compliment it . \n",
      "had the film taken some small risks and more fully explored its extra characters and plots it may have tasted more like a well frosted cake , rather than the dry one that equates to be . \n",
      "\n"
     ]
    }
   ],
   "source": [
    "print(mr.raw(mr.fileids()[995]))"
   ]
  },
  {
   "cell_type": "markdown",
   "metadata": {},
   "source": [
    "### Checking wich are the most frequent words"
   ]
  },
  {
   "cell_type": "markdown",
   "metadata": {},
   "source": [
    "Calculating the frequency of each word in the document ..."
   ]
  },
  {
   "cell_type": "code",
   "execution_count": 48,
   "metadata": {},
   "outputs": [
    {
     "data": {
      "text/plain": [
       "FreqDist({',': 69, 'the': 40, 'to': 27, '.': 24, '\"': 22, 'a': 21, 'and': 20, 'of': 18, 'i': 14, 'in': 14, ...})"
      ]
     },
     "execution_count": 48,
     "metadata": {},
     "output_type": "execute_result"
    }
   ],
   "source": [
    "from nltk.probability import FreqDist\n",
    "FreqDist(mr.raw(mr.fileids()[1]).split())"
   ]
  },
  {
   "cell_type": "markdown",
   "metadata": {},
   "source": [
    "Lets take a look at the most frequent words in the corpus"
   ]
  },
  {
   "cell_type": "raw",
   "metadata": {},
   "source": [
    "wordfreq = FreqDist()\n",
    "for i in mr.fileids():\n",
    "    wordfreq += FreqDist(w.lower() for w in mr.raw(i).split())"
   ]
  },
  {
   "cell_type": "markdown",
   "metadata": {},
   "source": [
    "The previous code has flaws because split() is a very basic way of finding the words. Let's use `word_tokenize()` or `mr.words()` instead..."
   ]
  },
  {
   "cell_type": "code",
   "execution_count": 49,
   "metadata": {},
   "outputs": [
    {
     "name": "stdout",
     "output_type": "stream",
     "text": [
      "<FreqDist with 46462 samples and 1525039 outcomes>\n",
      "[(',', 77717), ('the', 76276), ('.', 65876), ('a', 37995), ('and', 35404), ('of', 33972), ('to', 31772), ('is', 26054), ('in', 21611), (\"'s\", 18128), ('``', 17625), ('it', 16059), ('that', 15912), (')', 11781), ('(', 11664), ('as', 11349), ('with', 10782), ('for', 9918), ('this', 9573), ('his', 9569), ('film', 9443), ('i', 8850), ('he', 8840), ('but', 8604), ('on', 7249), ('are', 7204), ('by', 6218), (\"n't\", 6217), ('be', 6083), ('an', 5742)]\n"
     ]
    }
   ],
   "source": [
    "wordfreq = FreqDist()\n",
    "for i in mr.fileids():\n",
    "    wordfreq += FreqDist(w.lower() for w in word_tokenize(mr.raw(i)))\n",
    "print(wordfreq)\n",
    "print(wordfreq.most_common(30))"
   ]
  },
  {
   "cell_type": "markdown",
   "metadata": {},
   "source": [
    "stop words and punctuation are causing trouble, lets remove them..."
   ]
  },
  {
   "cell_type": "code",
   "execution_count": 50,
   "metadata": {},
   "outputs": [
    {
     "name": "stdout",
     "output_type": "stream",
     "text": [
      "<FreqDist with 46290 samples and 746109 outcomes>\n",
      "[(\"'s\", 18128), ('``', 17625), ('film', 9443), (\"n't\", 6217), ('movie', 5671), ('one', 5582), ('like', 3547), ('even', 2556), ('good', 2316), ('time', 2282), ('would', 2264), ('story', 2146), ('--', 2055), ('much', 2024), ('character', 1996), ('also', 1965), ('get', 1925), ('characters', 1858), ('two', 1827), ('first', 1769), ('see', 1731), ('way', 1669), ('well', 1656), ('could', 1609), ('make', 1593), ('really', 1556), ('films', 1520), ('little', 1490), ('life', 1483), ('plot', 1460)]\n"
     ]
    }
   ],
   "source": [
    "stopw = stopwords.words('english')\n",
    "wordfreq = FreqDist()\n",
    "for i in mr.fileids():\n",
    "    wordfreq += FreqDist(w.lower() for w in word_tokenize(mr.raw(i)) \n",
    "        if w.lower() not in stopw and w.lower() not in string.punctuation)\n",
    "print(wordfreq)\n",
    "print(wordfreq.most_common(30))"
   ]
  },
  {
   "cell_type": "markdown",
   "metadata": {},
   "source": [
    "## Shuffling"
   ]
  },
  {
   "cell_type": "markdown",
   "metadata": {},
   "source": [
    "Lets shuffle the documents, otherwise they will remain sorted [\"neg\", \"neg\" ... \"pos\"]"
   ]
  },
  {
   "cell_type": "code",
   "execution_count": 51,
   "metadata": {
    "scrolled": true
   },
   "outputs": [],
   "source": [
    "import random"
   ]
  },
  {
   "cell_type": "markdown",
   "metadata": {},
   "source": [
    "Lets read each document into words ..."
   ]
  },
  {
   "cell_type": "code",
   "execution_count": 52,
   "metadata": {},
   "outputs": [],
   "source": [
    "docnames=mr.fileids()\n",
    "random.shuffle(docnames)\n",
    "documents=[]\n",
    "for i in docnames:\n",
    "    y = i.split('/')[0]\n",
    "    documents.append( (mr.raw(i), y) )"
   ]
  },
  {
   "cell_type": "markdown",
   "metadata": {},
   "source": [
    "Let's take a look at our documents..."
   ]
  },
  {
   "cell_type": "code",
   "execution_count": 53,
   "metadata": {
    "scrolled": true
   },
   "outputs": [
    {
     "name": "stdout",
     "output_type": "stream",
     "text": [
      "('in 1995 , brian singer and christopher mcquarrie dreamed up a simple concept : the audience isn\\'t stupid . \\nfrom that , they went on and created the most plot-driven , intricately pieced movie in the last 25 years . \\nthe result : the usual suspects , one hell of a movie that redefines the word plot twist . \\nthe story is convoluted , and is really confusing to read , although easy to follow on screen . \\nspecial investigator kujan ( chazz palminteri ) grills \" verbal \" kint ( kevin spacey ) , a crippled con-man who is the lone survivor of an la boat explosion that claimed more than 20 victims . \\nkujan wants to confirm that his nemesis , the rogue cop keaton ( gabriel byrne ) , is actually dead . \\nkint relates the majority of the film in flashback , beginning with the fateful day when five shifty guys meet in a police-station lineup in new york city . \\nalong with dour keaton , kint encounters cheerfully sociopathic mcmanus ( stephen baldwin ) , mordantly sarcastic hockney ( kevin pollak ) , and fenster ( benicio del toro ) , whose speech is virtually incomprehensible . \\ntogether they plot to steal a small fortune in gems from \" new york\\'s finest taxi service \" --crooked cops who provide escort service for visiting drug kingpins . \\nwhat follows is a shell-game of violence and betrayal , all hinging on the identity of a mysterious villain called keyser soze . \\nthe film is brilliantly compact : its the shortest 90 minutes you\\'ll ever spend in a movie theater . \\nthe cast is exceptional . \\npalminteri shines , he is brutally honest , a true cop , one who is going after the whole story because its there . \\nbyrne is terrific , his brooding character , his seriousness is needed to supplement the hysteria of benicio del toro , who is a riot as fenster . \\ndel toro is brilliant , his lines are a jumbled mess , you can\\'t understand a word the man says , but it sure is damn funny . \\nbaldwin is also very good , he is careful , methodical , and cold , a chilling character with a nasty streak of hot-blooded sarcasm . \\npollak is also terrific as usual , a very good character actor . \\nhowever , this will be forever known as the film that launched kevin spacey . \\nspacey is simply breathtaking , he is a force on screen , giving a magnetic performance that jars the senses at the end of this twisting maze . \\nspacey\\'s performance will be remembered for years , for it is the best of his career , it may be the best supporting actor performance in the last 50 years . \\nverbal kint is a clever storyteller , weak , oppressed , and gleefully evil to the bone , yet pitiful , one who draws sympathy . \\nthe film is a good one , a decent film until the last 10 minutes . \\nwhat this film boils down to is the greatest ending in cinematic history , for me at least . \\nthe revelation of keyser soze , the closing gunfights , it is something wondrous . \\nyou have to see this movie about 10 times to believe what they do . \\nkudos to mcquarrie and singer for giving the audience a delightful , fast-paced , furiously plot-driven movie with quirky characters , phenomenal acting , and some hilarious moments stuck in the middle . \\nmcquarrie refuses to believe the audience is dumb . \\nwithout furnishing too many details , he concocts his story and lets it run , hoping the audience gets it at the end . \\nwe do . \\nthis might just be the finest cinematic puzzle ever created . \\nkudos also to singer and john ottman , who created the score . \\nthey both create what is a true film-noir setting , carefully setting up this intricate puzzle until the final , jarring ending . \\nthere are flaws : more questions raised than answers , lack of character development , and no strong female characters ( save one ) . \\nhowever , the plot , and that stunning ending , make up for all the flaws and more . \\nif you haven\\'t seen the movie , rent it . \\nwatch it . \\nthen rewind the tape , and watch it again . \\ntrust me , you\\'ll be amazed . \\n', 'pos')\n",
      "(\"on april 12th , 1912 , the most astonishing shipwreck in the history of the world occurred . \\non that fateful night , the titanic sunk . \\nnow , more than 50 years later , a film has been made . \\nand what a film that is . \\njames cameron's newest movie is a landmark in storytelling , emotion , and special effects . \\nit starts in the present , where bill paxton and his band of scientists explore the depths of the ship's wreckage . \\nexploring an old chest , paxton comes across a nude drawing of a young woman . \\nthe drawing is televised and the woman ( gloria stuart ) whose portrait the painting is of comes forward and slowly but surely , the ship's story is told . \\nleonardo dicaprio stars as jack dawson , a young man with a sketch book , a heart of gold , an intelligent mind , and not much else . he wins his ticket aboard titanic in a poker game , and is the perfect match for rose dewitt bukater ( kate winslett ) . \\nshe grows to love jack , but seems unable to escape the slimy clutches of her arranged fiance' , cal hockley ( billy zane ) . \\nthe film takes its time , and by doing so , makes us care about its characters , and shows us the full aspects of human emotion . \\nthe leads shine ; there is no bad performance ; in fact , these do not seems like performances at all , but genuine people , trapped on the doomed vessel , facing certain death . \\nwatching this film , i was amazed at how vivid and real these situations feel : the time rose and jack spend together at a third-class-party ; the naivety that jack feels when he skecthes rose nude ; the terror felt by all onboard , as certain doom turns people into both cowards and heroes . \\nthis , the most expensive movie ever made , $200 million , is destined to make its profit back , and then some . \\nit also has more emotion and warmth than any other film this year . . even this decade . \\nit is also yet another first : the first $200 million dollar romance , and every critic in this country will agree that it was indeed , money extremely . . very \\n . . well \\nspent . \\n\", 'pos')\n"
     ]
    }
   ],
   "source": [
    "for docs in documents[0:2]:\n",
    "    print(docs)"
   ]
  },
  {
   "cell_type": "markdown",
   "metadata": {},
   "source": [
    "## Document representation"
   ]
  },
  {
   "cell_type": "markdown",
   "metadata": {},
   "source": [
    "Now, lets produce the final document representation, in the form of a Frequency Distribution ...\n",
    "\n",
    "First, without stop words and punctuation ... (you could use other technique, such as IDF)"
   ]
  },
  {
   "cell_type": "code",
   "execution_count": 54,
   "metadata": {},
   "outputs": [],
   "source": [
    "stopw = stopwords.words('english')\n",
    "docrep=[]\n",
    "for text,tag in documents:\n",
    "    features = FreqDist(w for w in word_tokenize(text) \n",
    "                        if w.lower() not in stopw and w.lower() not in string.punctuation)\n",
    "    docrep.append( (features, tag) )"
   ]
  },
  {
   "cell_type": "markdown",
   "metadata": {},
   "source": [
    "Let's take a look at our documents again..."
   ]
  },
  {
   "cell_type": "code",
   "execution_count": 55,
   "metadata": {},
   "outputs": [
    {
     "name": "stdout",
     "output_type": "stream",
     "text": [
      "(FreqDist({'movie': 6, 'film': 6, 'one': 5, 'audience': 4, '``': 4, 'kint': 4, 'spacey': 4, 'character': 4, 'singer': 3, 'mcquarrie': 3, ...}), 'pos')\n",
      "(FreqDist({'film': 5, 'jack': 4, \"'s\": 3, 'emotion': 3, 'rose': 3, 'titanic': 2, 'made': 2, 'movie': 2, 'paxton': 2, 'ship': 2, ...}), 'pos')\n",
      "(FreqDist({'``': 10, 'trekkies': 9, 'star': 6, 'trek': 6, 'conventions': 5, 'would': 5, 'time': 5, 'film': 4, 'one': 4, \"'s\": 3, ...}), 'pos')\n",
      "(FreqDist({'doctor': 11, \"'s\": 7, '``': 6, 'would': 6, 'master': 5, 'movie': 5, 'time': 4, 'series': 4, 'daleks': 4, 'good': 4, ...}), 'pos')\n",
      "(FreqDist({'``': 42, \"'s\": 17, 'like': 16, 'eva': 14, 'musical': 13, 'film': 7, 'musicals': 6, \"n't\": 6, 'juan': 6, 'good': 6, ...}), 'pos')\n"
     ]
    }
   ],
   "source": [
    "for doc in docrep[:5]:\n",
    "    print(doc)"
   ]
  },
  {
   "cell_type": "markdown",
   "metadata": {},
   "source": [
    "## NLTK classifier: Naive Bayes"
   ]
  },
  {
   "cell_type": "markdown",
   "metadata": {},
   "source": [
    "Defining our training and test sets..."
   ]
  },
  {
   "cell_type": "code",
   "execution_count": 56,
   "metadata": {},
   "outputs": [],
   "source": [
    "numtrain = int(len(docrep) * 80 / 100)  # number of training documents"
   ]
  },
  {
   "cell_type": "code",
   "execution_count": 57,
   "metadata": {},
   "outputs": [],
   "source": [
    "train_set, test_set = docrep[:numtrain], docrep[numtrain:]"
   ]
  },
  {
   "cell_type": "code",
   "execution_count": 58,
   "metadata": {},
   "outputs": [
    {
     "name": "stdout",
     "output_type": "stream",
     "text": [
      "(FreqDist({'niagara': 8, \"'s\": 7, 'marcy': 4, 'tunney': 4, '--': 3, \"n't\": 3, 'know': 3, 'thomas': 2, 'couple': 2, 'journey': 2, ...}), 'pos')\n"
     ]
    }
   ],
   "source": [
    "print(test_set[0])"
   ]
  },
  {
   "cell_type": "code",
   "execution_count": 59,
   "metadata": {},
   "outputs": [],
   "source": [
    "from nltk.classify import NaiveBayesClassifier as nbc"
   ]
  },
  {
   "cell_type": "code",
   "execution_count": 60,
   "metadata": {},
   "outputs": [
    {
     "name": "stdout",
     "output_type": "stream",
     "text": [
      "Accuracy: 0.740\n"
     ]
    }
   ],
   "source": [
    "classifier = nbc.train(train_set)\n",
    "print(\"Accuracy: {:.3f}\".format( nltk.classify.accuracy(classifier, test_set)))"
   ]
  },
  {
   "cell_type": "markdown",
   "metadata": {},
   "source": [
    "Outra forma (mais genérica) de avaliar a Accuracy..."
   ]
  },
  {
   "cell_type": "code",
   "execution_count": 61,
   "metadata": {},
   "outputs": [
    {
     "name": "stdout",
     "output_type": "stream",
     "text": [
      "Accuracy: 0.740\n"
     ]
    }
   ],
   "source": [
    "from nltk.metrics import scores\n",
    "test_ref = [tag for doc,tag in test_set]\n",
    "test_pred = classifier.classify_many([doc for doc,tag in test_set])\n",
    "print(\"Accuracy: {:.3f}\".format(scores.accuracy(test_pred, test_ref) ) )"
   ]
  },
  {
   "cell_type": "code",
   "execution_count": 62,
   "metadata": {},
   "outputs": [
    {
     "name": "stdout",
     "output_type": "stream",
     "text": [
      "Most Informative Features\n",
      "               ludicrous = 1                 neg : pos    =     20.7 : 1.0\n",
      "                   great = 4                 pos : neg    =     16.5 : 1.0\n",
      "               marvelous = 1                 pos : neg    =     13.8 : 1.0\n",
      "               wonderful = 2                 pos : neg    =     13.2 : 1.0\n",
      "                  avoids = 1                 pos : neg    =     12.5 : 1.0\n"
     ]
    }
   ],
   "source": [
    "classifier.show_most_informative_features(5)"
   ]
  },
  {
   "cell_type": "markdown",
   "metadata": {},
   "source": [
    "Para simplificar as próximas etapas, vamos criar um procedimento que faz o treino e a avaliação logo de seguida...."
   ]
  },
  {
   "cell_type": "code",
   "execution_count": 63,
   "metadata": {},
   "outputs": [],
   "source": [
    "from nltk.classify import NaiveBayesClassifier as nbc\n",
    "from nltk.metrics import scores\n",
    "\n",
    "def train_and_evaluate(train_set, test_set):\n",
    "    classifier = nbc.train(train_set)\n",
    "    test_ref = [tag for doc,tag in test_set]\n",
    "    test_pred = classifier.classify_many([doc for doc,tag in test_set])\n",
    "    print(\"Accuracy: {:.3f}\".format(scores.accuracy(test_pred, test_ref) ) )\n",
    "    return classifier"
   ]
  },
  {
   "cell_type": "code",
   "execution_count": 64,
   "metadata": {},
   "outputs": [
    {
     "name": "stdout",
     "output_type": "stream",
     "text": [
      "Accuracy: 0.740\n"
     ]
    }
   ],
   "source": [
    "classifier = train_and_evaluate(train_set, test_set)"
   ]
  },
  {
   "cell_type": "markdown",
   "metadata": {},
   "source": [
    "### Now, let's select only the most relevant words ..."
   ]
  },
  {
   "cell_type": "code",
   "execution_count": 65,
   "metadata": {},
   "outputs": [
    {
     "name": "stdout",
     "output_type": "stream",
     "text": [
      "[(\"'s\", 14488), ('``', 14382), ('film', 7454), (\"n't\", 5006), ('movie', 4536), ('one', 4449), ('like', 2812), ('even', 2031), ('time', 1852), ('would', 1814), ('good', 1797), ('story', 1688), ('--', 1680), ('much', 1613), ('character', 1586), ('also', 1541), ('get', 1516), ('two', 1468), ('characters', 1459), ('first', 1407), ('see', 1374), ('well', 1336), ('way', 1335), ('could', 1274), ('make', 1254), ('really', 1231), ('films', 1209), ('plot', 1182), ('little', 1173), ('life', 1154)]\n"
     ]
    }
   ],
   "source": [
    "feature_counts=FreqDist()\n",
    "for doc_feature_counts, _ in train_set:\n",
    "    feature_counts += doc_feature_counts\n",
    "print(feature_counts.most_common(30))"
   ]
  },
  {
   "cell_type": "code",
   "execution_count": 66,
   "metadata": {},
   "outputs": [],
   "source": [
    "selected_features=[f for f,ntimes in feature_counts.most_common(1000)]"
   ]
  },
  {
   "cell_type": "markdown",
   "metadata": {},
   "source": [
    "Using the word *frequency* in each document... (after executing, test the performance)"
   ]
  },
  {
   "cell_type": "code",
   "execution_count": 67,
   "metadata": {},
   "outputs": [],
   "source": [
    "def docs2features(docs, selected_features):\n",
    "    features = []\n",
    "    for doc_feature_counts, tag in docs:\n",
    "        features.append(({w:f for w,f in doc_feature_counts.items() if w in selected_features}, tag))\n",
    "    return features\n",
    "\n",
    "train_set = docs2features(docrep[:numtrain], selected_features)\n",
    "test_set = docs2features(docrep[numtrain:], selected_features)"
   ]
  },
  {
   "cell_type": "code",
   "execution_count": 68,
   "metadata": {
    "scrolled": true
   },
   "outputs": [
    {
     "name": "stdout",
     "output_type": "stream",
     "text": [
      "({'r': 1, 'bob': 1, \"'s\": 7, 'follows': 1, 'unlike': 1, 'lot': 1, 'movies': 1, 'wild': 1, 'robin': 1, 'meet': 1, 'running': 1, 'local': 1, 'couple': 2, 'scenes': 1, 'later': 1, 'two': 1, 'small': 1, 'american': 1, 'town': 1, 'wants': 1, 'along': 2, 'way': 2, 'true': 1, 'love': 1, 'sets': 1, 'apart': 1, 'though': 1, 'acting': 1, 'thriller': 1, 'delivers': 1, 'performance': 1, 'best': 1, 'actress': 1, 'last': 1, 'year': 1, 'film': 1, 'work': 1, 'makes': 1, '--': 3, 'often': 1, 'act': 1, 'much': 1, 'convincing': 1, 'subtle': 1, 'chemistry': 1, 'mostly': 1, 'writer': 1, 'involving': 1, 'michael': 2, 'takes': 1, 'brings': 1, 'story': 1, 'key': 1, 'character': 1, 'highly': 1, 'power': 1, 'turn': 1, 'level': 1, 'would': 1, 'otherwise': 1, 'opens': 1, '``': 2, \"n't\": 3, 'know': 3, 'expect': 1, 'like': 1, 'something': 1, 'chase': 1, 'long': 1, 'get': 1, 'still': 1, 'first': 1}, 'pos')\n"
     ]
    }
   ],
   "source": [
    "print(test_set[0])"
   ]
  },
  {
   "cell_type": "code",
   "execution_count": 69,
   "metadata": {},
   "outputs": [
    {
     "name": "stdout",
     "output_type": "stream",
     "text": [
      "Accuracy: 0.672\n"
     ]
    }
   ],
   "source": [
    "classifier = train_and_evaluate(train_set, test_set)"
   ]
  },
  {
   "cell_type": "markdown",
   "metadata": {},
   "source": [
    "For each one of the *selected_features*, use its frequency in each document... (after executing, go back and test the performance)"
   ]
  },
  {
   "cell_type": "code",
   "execution_count": 70,
   "metadata": {},
   "outputs": [],
   "source": [
    "def docs2features(docs, selected_features):\n",
    "    features = []\n",
    "    for doc_feature_counts, tag in docs:\n",
    "        features.append(({f:doc_feature_counts[f] for f in selected_features}, tag))\n",
    "    return features\n",
    "\n",
    "train_set = docs2features(docrep[:numtrain], selected_features)\n",
    "test_set = docs2features(docrep[numtrain:], selected_features)"
   ]
  },
  {
   "cell_type": "code",
   "execution_count": 71,
   "metadata": {
    "scrolled": true
   },
   "outputs": [
    {
     "name": "stdout",
     "output_type": "stream",
     "text": [
      "({\"'s\": 7, '``': 2, 'film': 1, \"n't\": 3, 'movie': 0, 'one': 0, 'like': 1, 'even': 0, 'time': 0, 'would': 1, 'good': 0, 'story': 1, '--': 3, 'much': 1, 'character': 1, 'also': 0, 'get': 1, 'two': 1, 'characters': 0, 'first': 1, 'see': 0, 'well': 0, 'way': 2, 'could': 0, 'make': 0, 'really': 0, 'films': 0, 'plot': 0, 'little': 0, 'life': 0, 'people': 0, 'bad': 0, 'never': 0, 'scene': 0, 'man': 0, 'best': 1, 'new': 0, 'many': 0, 'know': 3, 'scenes': 1, 'movies': 1, 'another': 0, 'great': 0, 'director': 0, 'go': 0, 'end': 0, 'love': 1, 'us': 0, 'action': 0, 'something': 1, 'seems': 0, 'made': 0, 'world': 0, 'back': 0, 'still': 1, 'big': 0, 'however': 0, 'work': 1, 'makes': 1, \"'re\": 0, 'every': 0, 'better': 0, 'though': 1, 'seen': 0, 'audience': 0, 'enough': 0, 'take': 0, 'going': 0, 'around': 0, 'things': 0, 'gets': 0, 'may': 0, 'performance': 1, 'real': 0, 'role': 0, 'thing': 0, 'think': 0, 'last': 1, 'look': 0, \"'ve\": 0, 'nothing': 0, 'john': 0, 'years': 0, 'actually': 0, 'funny': 0, 'right': 0, 'comedy': 0, 'say': 0, 'fact': 0, 'find': 0, 'cast': 0, 'although': 0, 'script': 0, 'played': 0, 'almost': 0, 'since': 0, 'come': 0, 'comes': 0, 'plays': 0, 'long': 1, 'show': 0, 'ever': 0, 'young': 0, 'old': 0, 'year': 1, 'original': 0, 'acting': 1, 'point': 0, 'part': 0, 'without': 0, 'lot': 1, 'star': 0, 'least': 0, 'away': 0, 'ca': 0, 'quite': 0, 'guy': 0, 'takes': 1, 'actors': 0, 'might': 0, 'course': 0, 'minutes': 0, 'family': 0, 'screen': 0, 'goes': 0, 'three': 0, 'anything': 0, 'rather': 0, 'interesting': 0, 'watch': 0, \"'m\": 0, 'far': 0, 'day': 0, 'must': 0, 'effects': 0, 'yet': 0, 'fun': 0, 'place': 0, 'times': 0, 'wife': 0, 'want': 0, 'hollywood': 0, 'trying': 0, 'always': 0, 'picture': 0, 'instead': 0, 'seem': 0, \"'ll\": 0, 'series': 0, 'give': 0, 'sense': 0, 'bit': 0, 'home': 0, 'set': 0, 'making': 0, 'special': 0, 'everything': 0, 'job': 0, 'becomes': 0, 'men': 0, 'actor': 0, 'black': 0, 'probably': 0, 'become': 0, 'dialogue': 0, 'woman': 0, 'american': 1, 'kind': 0, 'along': 2, 'together': 0, 'music': 0, 'sure': 0, 'high': 0, 'help': 0, 'hard': 0, 'got': 0, 'money': 0, 'given': 0, 'whole': 0, 'watching': 0, 'pretty': 0, 'gives': 0, 'wants': 1, 'everyone': 0, 'father': 0, 'less': 0, 'next': 0, 'looking': 0, 'perhaps': 0, 'death': 0, 'done': 0, 'girl': 0, 'couple': 2, 'city': 0, 'james': 0, 'evil': 0, 'reason': 0, 'whose': 0, 'especially': 0, 'looks': 0, 'feel': 0, 'ending': 0, 'play': 0, 'moments': 0, 'mind': 0, 'anyone': 0, 'rest': 0, 'mother': 0, 'completely': 0, 'shows': 0, 'performances': 0, 'put': 0, 'night': 0, 'case': 0, 'michael': 2, 'sex': 0, 'small': 1, 'lost': 0, 'human': 0, 'horror': 0, 'turns': 0, 'let': 0, 'main': 0, 'simply': 0, 'town': 1, 'several': 0, 'someone': 0, 'friend': 0, 'final': 0, 'getting': 0, 'humor': 0, 'different': 0, 'problem': 0, 'left': 0, 'school': 0, 'sequence': 0, \"'d\": 0, 'begins': 0, 'stars': 0, 'entire': 0, 'found': 0, 'friends': 0, 'half': 0, 'david': 0, 'thought': 0, 'use': 0, 'later': 1, 'else': 0, 'either': 0, 'true': 1, 'tv': 0, 'line': 0, 'idea': 0, 'house': 0, 'soon': 0, 'based': 0, 'wrong': 0, 'name': 0, 'unfortunately': 0, 'finally': 0, '2': 0, 'often': 1, 'called': 0, 'alien': 0, 'joe': 0, 'believe': 0, 'works': 0, 'tries': 0, 'said': 0, 'war': 0, 'despite': 0, 'named': 0, 'days': 0, 'playing': 0, 'certainly': 0, 'group': 0, 'written': 0, 'keep': 0, 'relationship': 0, 'comic': 0, 'maybe': 0, 'behind': 0, 'finds': 0, 'second': 0, 'head': 0, 'tell': 0, 'person': 0, 'dead': 0, 'nice': 0, 'used': 0, 'children': 0, 'boy': 0, 'mr': 0, 'son': 0, 'camera': 0, 'summer': 0, 'turn': 1, 'game': 0, 'perfect': 0, 'past': 0, 'shot': 0, 'starts': 0, 'directed': 0, 'run': 0, 'book': 0, 'seeing': 0, 'moment': 0, 'including': 0, 'hand': 0, 'able': 0, 'need': 0, 'start': 0, 'running': 1, 'lives': 0, 'jack': 0, 'fight': 0, 'car': 0, 'kids': 0, 'supposed': 0, 'style': 0, 'lines': 0, 'opening': 0, 'entertaining': 0, 'try': 0, 'kevin': 0, 'version': 0, 'review': 0, 'full': 0, 'face': 0, 'side': 0, 'live': 0, 'nearly': 0, 'worst': 0, 'early': 0, 'screenplay': 0, 'care': 0, 'example': 0, 'hour': 0, 'team': 0, 'exactly': 0, 'earth': 0, 'title': 0, 'sequences': 0, 'daughter': 0, 'matter': 0, 'direction': 0, 'upon': 0, 'worth': 0, 'throughout': 0, 'video': 0, 'knows': 0, 'beautiful': 0, 'major': 0, 'classic': 0, 'production': 0, 'violence': 0, 'fine': 0, 'drama': 0, 'top': 0, 'already': 0, 'simple': 0, 'hit': 0, 'others': 0, 'white': 0, 'question': 0, 'obvious': 0, 'supporting': 0, 'kill': 0, 'killer': 0, 'robert': 0, 'order': 0, 'jackie': 0, 'short': 0, 'problems': 0, 'guys': 0, 'act': 1, 'dark': 0, 'york': 0, 'truly': 0, 'sort': 0, 'eyes': 0, 'ship': 0, 'attempt': 0, 'beginning': 0, 'tom': 0, 'wo': 0, 'brother': 0, 'room': 0, 'saw': 0, 'peter': 0, 'space': 0, 'tells': 0, 'body': 0, 'king': 0, 'roles': 0, 'happens': 0, 'heart': 0, 'deep': 0, 'hope': 0, 'coming': 0, 'sometimes': 0, 'stupid': 0, 'women': 0, 'known': 0, 'says': 0, 'lee': 0, 'genre': 0, 'dog': 0, 'disney': 0, 'novel': 0, 'five': 0, 'four': 0, 'quickly': 0, 'meet': 1, 'hours': 0, 'yes': 0, 'jokes': 0, 'interest': 0, 'possible': 0, 'eventually': 0, 'stop': 0, 'lead': 0, 'boring': 0, 'child': 0, 'hero': 0, 'dr': 0, 'level': 1, 'wonder': 0, 'involving': 1, 'television': 0, 'van': 0, 'wild': 1, 'appears': 0, 'planet': 0, 'particularly': 0, 'involved': 0, 'fall': 0, 'worse': 0, 'material': 0, 'strong': 0, 'save': 0, 'leads': 0, 'sets': 1, 'ends': 0, 'usually': 0, 'husband': 0, 'girls': 0, 'note': 0, 'mostly': 1, 'murder': 0, 'smith': 0, 'fans': 0, 'manages': 0, 'living': 0, 'piece': 0, 'attention': 0, 'future': 0, 'extremely': 0, 'emotional': 0, 'george': 0, 'bring': 0, 'career': 0, 'paul': 0, 'taking': 0, 'sound': 0, 'scream': 0, 'thriller': 1, 'power': 1, 'lack': 0, 'none': 0, 'fiction': 0, 'romantic': 0, 'de': 0, 'theater': 0, 'falls': 0, 'taken': 0, 'parents': 0, 'laugh': 0, 'chance': 0, 'police': 0, 'experience': 0, 'god': 0, 'attempts': 0, 'close': 0, 'meets': 0, 'killed': 0, 'aliens': 0, 'easy': 0, 'among': 0, 'late': 0, 'elements': 0, 'across': 0, 'alone': 0, 'voice': 0, 'feels': 0, 'laughs': 0, 'word': 0, 'score': 0, 'enjoy': 0, 'happen': 0, 'talent': 0, 'number': 0, 'feeling': 0, 'william': 0, 'talk': 0, 'obviously': 0, 'wonderful': 0, 'result': 0, 'seemed': 0, 'oscar': 0, 'except': 0, 'guess': 0, 'stuff': 0, 'somehow': 0, 'impressive': 0, 'success': 0, 'poor': 0, 'surprise': 0, 'leave': 0, 'science': 0, 'batman': 0, 'america': 0, 'mission': 0, 'expect': 1, 'single': 0, 'tale': 0, 'within': 0, 'whether': 0, 'viewer': 0, 'feature': 0, 'basically': 0, 'battle': 0, 'mean': 0, 'robin': 1, 'history': 0, 'released': 0, 'girlfriend': 0, 'crew': 0, 'hell': 0, 'serious': 0, '3': 0, 'forced': 0, 'went': 0, 'certain': 0, 'credits': 0, 'call': 0, 'personal': 0, 'change': 0, 'parts': 0, 'apparently': 0, 'important': 0, 'deal': 0, 'premise': 0, 'brings': 1, 'working': 0, 'words': 0, 'turned': 0, 'needs': 0, 'brothers': 0, 'kid': 0, 'remember': 0, 'happy': 0, 'giving': 0, 'sequel': 0, 'recent': 0, 'bill': 0, 'told': 0, 'local': 1, 'oh': 0, 'due': 0, 'form': 0, 'martin': 0, 'easily': 0, 'ben': 0, 'art': 0, 'middle': 0, '1': 0, 'presence': 0, 'complete': 0, 'surprisingly': 0, 'project': 0, 'jim': 0, 'business': 0, 'hilarious': 0, 'general': 0, 'williams': 0, 'dramatic': 0, 'uses': 0, 'release': 0, 'features': 0, 'entertainment': 0, 'crime': 0, 'popular': 0, 'difficult': 0, 'somewhat': 0, 'rich': 0, 'writing': 0, 'filmmakers': 0, 'absolutely': 0, 'ago': 0, 'chris': 0, 'effective': 0, 'using': 0, 'usual': 0, 'intelligent': 0, 'shots': 0, 'reality': 0, 'decides': 0, 'computer': 0, 'party': 0, 'felt': 0, 'runs': 0, 'cool': 0, 'starring': 0, 'begin': 0, 'means': 0, 'quality': 0, 'figure': 0, 'mystery': 0, 'previous': 0, 'read': 0, 'water': 0, 'anyway': 0, 'events': 0, 'excellent': 0, 'latest': 0, 'suspense': 0, 'clear': 0, 'successful': 0, 'ryan': 0, 'rock': 0, 'return': 0, 'annoying': 0, 'cop': 0, 'type': 0, 'unlike': 1, 'familiar': 0, 'similar': 0, 'former': 0, 'sexual': 0, 'giant': 0, 'die': 0, 'leaves': 0, 'ways': 0, 'came': 0, 'scary': 0, 'present': 0, 'light': 0, 'predictable': 0, 'situation': 0, 'cut': 0, 'towards': 0, 'writer': 1, 'red': 0, 'bunch': 0, 'flick': 0, 'cinema': 0, 'gone': 0, 'smart': 0, 'secret': 0, 'blood': 0, 'office': 0, 'age': 0, 'saying': 0, 'learn': 0, 'beyond': 0, 'visual': 0, 'third': 0, 'follow': 0, 'leaving': 0, 'motion': 0, 'company': 0, 'talking': 0, 'bob': 1, 'clever': 0, 'create': 0, 'message': 0, 'powerful': 0, 'bruce': 0, 'sweet': 0, 'understand': 0, 'opens': 1, 'doubt': 0, 'strange': 0, 'bond': 0, 'dream': 0, 'follows': 1, 'cameron': 0, 'immediately': 0, 'happened': 0, 'huge': 0, 'scott': 0, 'sam': 0, 'viewers': 0, 'actress': 1, 'add': 0, 'studio': 0, 'likely': 0, 'ones': 0, 'straight': 0, 'realize': 0, 'prison': 0, 'mark': 0, 'near': 0, 'large': 0, 'mars': 0, 'villain': 0, 'decent': 0, 'filled': 0, 'audiences': 0, 'overall': 0, 'solid': 0, 'potential': 0, 'definitely': 0, 'impossible': 0, 'seriously': 0, 'element': 0, 'private': 0, 'created': 0, 'brilliant': 0, 'ultimately': 0, 'break': 0, 'wanted': 0, 'richard': 0, 'amazing': 0, 'stay': 0, 'thinking': 0, 'simon': 0, 'heard': 0, 'move': 0, 'wedding': 0, 'following': 0, 'questions': 0, 'romance': 0, 'took': 0, 'points': 0, 'agent': 0, 'west': 0, 'trouble': 0, 'effect': 0, 'mess': 0, 'dumb': 0, 'musical': 0, 'brought': 0, 'nature': 0, 'godzilla': 0, 'million': 0, 'ten': 0, 'plan': 0, 'r': 1, 'steven': 0, 'frank': 0, 'stories': 0, 'escape': 0, 'subject': 0, 'willis': 0, 'effort': 0, 'chan': 0, 'country': 0, 'slow': 0, 'tim': 0, 'neither': 0, 'park': 0, 'merely': 0, 'animated': 0, 'married': 0, 'soundtrack': 0, 'steve': 0, 'truman': 0, 'spend': 0, 'trek': 0, 'stone': 0, 'fails': 0, 'political': 0, 'force': 0, 'titanic': 0, 'favorite': 0, 'perfectly': 0, 'truth': 0, 'otherwise': 1, 'exciting': 0, 'pay': 0, 'appear': 0, 'harry': 0, 'waste': 0, 'expected': 0, 'fan': 0, 'slightly': 0, 'government': 0, 'purpose': 0, 'eye': 0, 'particular': 0, 'wars': 0, 'memorable': 0, 'inside': 0, 'drug': 0, 'various': 0, 'enjoyable': 0, 'terrible': 0, 'state': 0, 'moving': 0, 'jones': 0, 'liked': 0, 'members': 0, 'disaster': 0, 'master': 0, 'view': 0, 'focus': 0, 'fear': 0, 'chase': 1, 'biggest': 0, 'offers': 0, 'nick': 0, 'gave': 0, 'earlier': 0, 'sees': 0, 'box': 0, 'keeps': 0, 'e': 0, 'entirely': 0, 'murphy': 0, 'silly': 0, 'society': 0, 'cinematic': 0, 'situations': 0, 'amusing': 0, 'l': 0, 'tarzan': 0, 'spent': 0, 'today': 0, 'open': 0, 'wait': 0, 'showing': 0, 'max': 0, 'brief': 0, 'background': 0, 'meanwhile': 0, 'ideas': 0, 'complex': 0, 'air': 0, 'mike': 0, 'suddenly': 0, 'atmosphere': 0, 'ii': 0, 'fast': 0, 'ridiculous': 0, 'law': 0, 'cold': 0, '10': 0, 'english': 0, 'amount': 0, 'hands': 0, 'wrote': 0, 'carrey': 0, 'convincing': 1, 'minor': 0, 'female': 0, 'cheap': 0, 'list': 0, 'humans': 0, 'typical': 0, 'tone': 0, 'subtle': 1, 'street': 0, 'totally': 0, 'ask': 0, 'longer': 0, 'reasons': 0, 'killing': 0, 'carter': 0, 'credit': 0, 'cinematography': 0, 'critics': 0, 'french': 0, 'spielberg': 0, 'british': 0, 'class': 0, 'thinks': 0, 'gun': 0, 'club': 0, 'sit': 0, 'ability': 0, 'sister': 0, 'rating': 0, 'tension': 0, 'constantly': 0, 'talented': 0, 'chemistry': 1, 'dull': 0, 'aspect': 0, 'clearly': 0, 'joke': 0, 'somewhere': 0, 'approach': 0, 'member': 0, 'outside': 0, 'miss': 0, 'free': 0, 'song': 0, 'lots': 0, 'moves': 0, 'hear': 0, 'images': 0, 'actual': 0, 'island': 0, 'greatest': 0, 'doctor': 0, 'fairly': 0, 'sounds': 0, 'awful': 0, 'delivers': 1, 'thus': 0, 'dreams': 0, 'detective': 0, 'julia': 0, 'band': 0, 'beauty': 0, 'wish': 0, 'depth': 0, 'imagine': 0, 'hardly': 0, 'etc': 0, 'mary': 0, 'sight': 0, 'setting': 0, 'seven': 0, 'conclusion': 0, 'quick': 0, 'boys': 0, 'control': 0, 'proves': 0, 'period': 0, 'violent': 0, 'stand': 0, 'impact': 0, 'opportunity': 0, 'forget': 0, 'screenwriter': 0, 'leading': 0, 'queen': 0, 'songs': 0, 'directing': 0, 'whatever': 0, 'army': 0, 'central': 0, 'terrific': 0, 'slowly': 0, 'billy': 0, 'indeed': 0, 'caught': 0, 'six': 0, 'fire': 0, 'president': 0, '1998': 0, 'budget': 0, 'decide': 0, 'la': 0, 'development': 0, 'famous': 0, 'okay': 0, 'modern': 0, 'possibly': 0, 'shown': 0, 'front': 0, 'details': 0, 'jackson': 0, 'telling': 0, 'recently': 0, 'onto': 0, 'trip': 0, 'leader': 0, 'key': 1, 'theme': 0, 'cage': 0, 'travolta': 0, 'rated': 0, 'tough': 0, 'intelligence': 0, 'trailer': 0, 'hate': 0, 'road': 0, 'ready': 0, 'highly': 1, 'ride': 0, 'apart': 1, 'flaws': 0, 'u': 0, 'thrown': 0, 'thanks': 0, 'powers': 0, 'event': 0, 'knew': 0, 'becoming': 0, 'plenty': 0, 'language': 0, '1999': 0, 'bizarre': 0, 'train': 0, 'hold': 0, 'thin': 0}, 'pos')\n"
     ]
    }
   ],
   "source": [
    "print(test_set[0])"
   ]
  },
  {
   "cell_type": "code",
   "execution_count": 72,
   "metadata": {},
   "outputs": [
    {
     "name": "stdout",
     "output_type": "stream",
     "text": [
      "Accuracy: 0.767\n"
     ]
    }
   ],
   "source": [
    "classifier = train_and_evaluate(train_set, test_set)"
   ]
  },
  {
   "cell_type": "markdown",
   "metadata": {},
   "source": [
    "## Now with part-of-speech TAGS"
   ]
  },
  {
   "cell_type": "code",
   "execution_count": 73,
   "metadata": {},
   "outputs": [
    {
     "data": {
      "text/plain": [
       "[('I', 'PRP'),\n",
       " ('like', 'VBP'),\n",
       " ('when', 'WRB'),\n",
       " ('he', 'PRP'),\n",
       " ('flies', 'VBZ'),\n",
       " ('like', 'IN'),\n",
       " ('the', 'DT'),\n",
       " ('flies', 'NNS')]"
      ]
     },
     "execution_count": 73,
     "metadata": {},
     "output_type": "execute_result"
    }
   ],
   "source": [
    "nltk.pos_tag(nltk.word_tokenize(\"I like when he flies like the flies\"))"
   ]
  },
  {
   "cell_type": "code",
   "execution_count": 74,
   "metadata": {
    "scrolled": true
   },
   "outputs": [
    {
     "name": "stdout",
     "output_type": "stream",
     "text": [
      "('in 1995 , brian singer and christopher mcquarrie dreamed up a simple concept : the audience isn\\'t stupid . \\nfrom that , they went on and created the most plot-driven , intricately pieced movie in the last 25 years . \\nthe result : the usual suspects , one hell of a movie that redefines the word plot twist . \\nthe story is convoluted , and is really confusing to read , although easy to follow on screen . \\nspecial investigator kujan ( chazz palminteri ) grills \" verbal \" kint ( kevin spacey ) , a crippled con-man who is the lone survivor of an la boat explosion that claimed more than 20 victims . \\nkujan wants to confirm that his nemesis , the rogue cop keaton ( gabriel byrne ) , is actually dead . \\nkint relates the majority of the film in flashback , beginning with the fateful day when five shifty guys meet in a police-station lineup in new york city . \\nalong with dour keaton , kint encounters cheerfully sociopathic mcmanus ( stephen baldwin ) , mordantly sarcastic hockney ( kevin pollak ) , and fenster ( benicio del toro ) , whose speech is virtually incomprehensible . \\ntogether they plot to steal a small fortune in gems from \" new york\\'s finest taxi service \" --crooked cops who provide escort service for visiting drug kingpins . \\nwhat follows is a shell-game of violence and betrayal , all hinging on the identity of a mysterious villain called keyser soze . \\nthe film is brilliantly compact : its the shortest 90 minutes you\\'ll ever spend in a movie theater . \\nthe cast is exceptional . \\npalminteri shines , he is brutally honest , a true cop , one who is going after the whole story because its there . \\nbyrne is terrific , his brooding character , his seriousness is needed to supplement the hysteria of benicio del toro , who is a riot as fenster . \\ndel toro is brilliant , his lines are a jumbled mess , you can\\'t understand a word the man says , but it sure is damn funny . \\nbaldwin is also very good , he is careful , methodical , and cold , a chilling character with a nasty streak of hot-blooded sarcasm . \\npollak is also terrific as usual , a very good character actor . \\nhowever , this will be forever known as the film that launched kevin spacey . \\nspacey is simply breathtaking , he is a force on screen , giving a magnetic performance that jars the senses at the end of this twisting maze . \\nspacey\\'s performance will be remembered for years , for it is the best of his career , it may be the best supporting actor performance in the last 50 years . \\nverbal kint is a clever storyteller , weak , oppressed , and gleefully evil to the bone , yet pitiful , one who draws sympathy . \\nthe film is a good one , a decent film until the last 10 minutes . \\nwhat this film boils down to is the greatest ending in cinematic history , for me at least . \\nthe revelation of keyser soze , the closing gunfights , it is something wondrous . \\nyou have to see this movie about 10 times to believe what they do . \\nkudos to mcquarrie and singer for giving the audience a delightful , fast-paced , furiously plot-driven movie with quirky characters , phenomenal acting , and some hilarious moments stuck in the middle . \\nmcquarrie refuses to believe the audience is dumb . \\nwithout furnishing too many details , he concocts his story and lets it run , hoping the audience gets it at the end . \\nwe do . \\nthis might just be the finest cinematic puzzle ever created . \\nkudos also to singer and john ottman , who created the score . \\nthey both create what is a true film-noir setting , carefully setting up this intricate puzzle until the final , jarring ending . \\nthere are flaws : more questions raised than answers , lack of character development , and no strong female characters ( save one ) . \\nhowever , the plot , and that stunning ending , make up for all the flaws and more . \\nif you haven\\'t seen the movie , rent it . \\nwatch it . \\nthen rewind the tape , and watch it again . \\ntrust me , you\\'ll be amazed . \\n', 'pos')\n"
     ]
    }
   ],
   "source": [
    "print(documents[0])"
   ]
  },
  {
   "cell_type": "code",
   "execution_count": 75,
   "metadata": {},
   "outputs": [
    {
     "data": {
      "text/plain": [
       "[('in', 'IN'),\n",
       " ('1995', 'CD'),\n",
       " (',', ','),\n",
       " ('brian', 'JJ'),\n",
       " ('singer', 'NN'),\n",
       " ('and', 'CC'),\n",
       " ('christopher', 'NN'),\n",
       " ('mcquarrie', 'NN'),\n",
       " ('dreamed', 'VBD'),\n",
       " ('up', 'RP')]"
      ]
     },
     "execution_count": 75,
     "metadata": {},
     "output_type": "execute_result"
    }
   ],
   "source": [
    "nltk.pos_tag(word_tokenize(documents[0][0]))[:10]"
   ]
  },
  {
   "cell_type": "code",
   "execution_count": 76,
   "metadata": {},
   "outputs": [],
   "source": [
    "stopw = stopwords.words('english')\n",
    "docrep=[]\n",
    "for text,tag in documents:\n",
    "    features = FreqDist(\"%s_%s\"%(w,p) for w,p in nltk.pos_tag(word_tokenize(text)) \n",
    "                        if w.lower() not in stopw and w.lower() not in string.punctuation)\n",
    "    docrep.append( (features, tag) )"
   ]
  },
  {
   "cell_type": "code",
   "execution_count": 77,
   "metadata": {},
   "outputs": [
    {
     "data": {
      "text/plain": [
       "(FreqDist({'movie_NN': 6, 'film_NN': 6, 'one_CD': 5, 'audience_NN': 4, '``_``': 4, 'kint_NN': 4, 'spacey_NN': 4, 'character_NN': 4, \"n't_RB\": 3, 'last_JJ': 3, ...}),\n",
       " 'pos')"
      ]
     },
     "execution_count": 77,
     "metadata": {},
     "output_type": "execute_result"
    }
   ],
   "source": [
    "docrep[0]"
   ]
  },
  {
   "cell_type": "code",
   "execution_count": 78,
   "metadata": {},
   "outputs": [],
   "source": [
    "feature_counts=FreqDist()\n",
    "for doc_feature_counts, t in docrep:\n",
    "    feature_counts += doc_feature_counts\n",
    "feature_counts.most_common(10)\n",
    "selected_features=[f for f,freq in feature_counts.most_common(1000)]"
   ]
  },
  {
   "cell_type": "code",
   "execution_count": 79,
   "metadata": {},
   "outputs": [],
   "source": [
    "def docs2features(docs, selected_features):\n",
    "    features = []\n",
    "    for doc_feature_counts, tag in docs:\n",
    "        features.append(({f:doc_feature_counts[f] for f in selected_features}, tag))\n",
    "    return features\n",
    "\n",
    "train_set = docs2features(docrep[:numtrain], selected_features)\n",
    "test_set = docs2features(docrep[numtrain:], selected_features)"
   ]
  },
  {
   "cell_type": "code",
   "execution_count": 80,
   "metadata": {
    "scrolled": true
   },
   "outputs": [
    {
     "name": "stdout",
     "output_type": "stream",
     "text": [
      "({'``_``': 2, \"'s_POS\": 6, 'film_NN': 1, \"'s_VBZ\": 1, \"n't_RB\": 3, 'movie_NN': 0, 'one_CD': 0, 'like_IN': 1, 'even_RB': 0, 'good_JJ': 0, 'time_NN': 0, 'would_MD': 1, 'story_NN': 1, '--_:': 3, 'character_NN': 1, 'also_RB': 0, 'characters_NNS': 0, 'two_CD': 1, 'way_NN': 2, 'could_MD': 0, 'well_RB': 0, 'really_RB': 0, 'first_JJ': 1, 'films_NNS': 0, 'life_NN': 0, 'people_NNS': 0, 'plot_NN': 0, 'get_VB': 0, 'bad_JJ': 0, 'scene_NN': 0, 'never_RB': 0, 'little_JJ': 0, 'man_NN': 0, 'make_VB': 0, 'see_VB': 0, 'new_JJ': 0, 'many_JJ': 0, 'scenes_NNS': 1, 'much_JJ': 0, 'movies_NNS': 1, 'best_JJS': 1, 'great_JJ': 0, 'another_DT': 0, 'director_NN': 0, 'action_NN': 0, 'us_PRP': 0, 'something_NN': 1, 'still_RB': 1, 'seems_VBZ': 0, 'world_NN': 0, 'makes_VBZ': 1, \"'re_VBP\": 0, 'however_RB': 0, 'big_JJ': 0, 'every_DT': 0, 'audience_NN': 0, 'seen_VBN': 0, 'performance_NN': 1, 'going_VBG': 0, 'role_NN': 0, 'gets_VBZ': 0, 'may_MD': 0, 'back_RB': 0, 'real_JJ': 0, 'things_NNS': 0, 'years_NNS': 0, 'end_NN': 0, 'actually_RB': 0, 'last_JJ': 1, \"'ve_VBP\": 0, 'almost_RB': 0, 'thing_NN': 0, 'nothing_NN': 0, 'fact_NN': 0, 'although_IN': 0, 'much_RB': 1, 'though_IN': 1, 'comedy_NN': 0, 'go_VB': 0, 'script_NN': 0, 'love_NN': 1, 'since_IN': 0, 'funny_JJ': 0, 'young_JJ': 0, 'ever_RB': 0, 'comes_VBZ': 0, 'old_JJ': 0, 'year_NN': 1, 'original_JJ': 0, 'take_VB': 0, 'part_NN': 0, 'without_IN': 0, 'actors_NNS': 0, 'lot_NN': 1, 'least_JJS': 0, 'takes_VBZ': 1, 'cast_NN': 0, 'played_VBN': 0, 'course_NN': 0, 'ca_MD': 0, 'goes_VBZ': 0, 'family_NN': 0, 'minutes_NNS': 0, 'point_NN': 0, 'work_NN': 1, 'might_MD': 0, 'star_NN': 0, 'guy_NN': 0, 'three_CD': 0, 'effects_NNS': 0, \"'m_VBP\": 0, 'say_VB': 0, 'plays_VBZ': 0, 'rather_RB': 0, 'day_NN': 0, 'anything_NN': 0, 'know_VBP': 0, 'far_RB': 0, 'must_MD': 0, 'better_JJR': 0, 'place_NN': 0, 'made_VBN': 0, 'quite_RB': 0, 'around_IN': 0, 'know_VB': 3, 'enough_RB': 0, 'find_VB': 0, 'always_RB': 0, \"'ll_MD\": 0, 'wife_NN': 0, 'john_NN': 0, 'instead_RB': 0, 'trying_VBG': 0, 'special_JJ': 0, 'times_NNS': 0, 'yet_RB': 0, 'one_NN': 0, 'job_NN': 0, 'kind_NN': 0, 'away_RB': 0, 'woman_NN': 0, 'picture_NN': 0, 'series_NN': 0, 'probably_RB': 0, 'sense_NN': 0, 'home_NN': 0, 'everything_NN': 0, 'actor_NN': 0, 'bit_NN': 0, 'men_NNS': 0, 'screen_NN': 0, 'making_VBG': 0, 'american_JJ': 1, 'dialogue_NN': 0, 'together_RB': 0, 'gives_VBZ': 0, 'money_NN': 0, 'given_VBN': 0, 'interesting_JJ': 0, 'black_JJ': 0, 'hollywood_NN': 0, 'everyone_NN': 0, 'high_JJ': 0, 'music_NN': 0, 'watching_VBG': 0, 'wants_VBZ': 1, 'get_VBP': 1, 'perhaps_RB': 0, 'done_VBN': 0, 'becomes_VBZ': 0, 'death_NN': 0, 'especially_RB': 0, 'father_NN': 0, 'give_VB': 0, 'sure_JJ': 0, 'city_NN': 0, 'moments_NNS': 0, 'watch_VB': 0, 'hard_JJ': 0, 'sex_NN': 0, 'reason_NN': 0, 'completely_RB': 0, 'whose_WP$': 0, 'looking_VBG': 0, 'show_NN': 0, 'made_VBD': 0, 'different_JJ': 0, 'simply_RB': 0, 'performances_NNS': 0, 'fun_NN': 0, 'anyone_NN': 0, 'long_JJ': 1, 'ending_VBG': 0, 'next_JJ': 0, 'case_NN': 0, 'whole_JJ': 0, 'several_JJ': 0, 'rest_NN': 0, 'think_VB': 0, 'night_NN': 0, 'entire_JJ': 0, 'think_VBP': 0, 'small_JJ': 1, 'getting_VBG': 0, 'horror_NN': 0, 'humor_NN': 0, 'main_JJ': 0, 'mother_NN': 0, 'line_NN': 0, 'see_VBP': 0, 'couple_NN': 2, 'someone_NN': 0, 'human_JJ': 0, 'come_VB': 0, 'problem_NN': 0, 'friend_NN': 0, 'town_NN': 1, '2_CD': 0, 'girl_NN': 0, 'true_JJ': 1, 'james_NNS': 0, 'school_NN': 0, 'friends_NNS': 0, 'idea_NN': 0, 'soon_RB': 0, 'final_JJ': 0, 'unfortunately_RB': 0, 'group_NN': 0, \"'d_MD\": 0, 'right_JJ': 0, 'comic_JJ': 0, 'pretty_RB': 0, 'house_NN': 0, 'based_VBN': 0, 'written_VBN': 0, 'looks_VBZ': 0, 'sequence_NN': 0, 'wrong_JJ': 0, 'often_RB': 1, 'else_RB': 0, 'got_VBD': 0, 'certainly_RB': 0, 'begins_VBZ': 0, 'name_NN': 0, 'relationship_NN': 0, 'along_IN': 2, 'tv_NN': 0, 'said_VBD': 0, 'shows_VBZ': 0, 'despite_IN': 0, 'finally_RB': 0, 'dead_JJ': 0, 'turns_VBZ': 0, 'war_NN': 0, 'acting_NN': 0, 'person_NN': 0, 'named_VBN': 0, 'able_JJ': 0, 'look_VB': 0, 'second_JJ': 0, 'book_NN': 0, 'days_NNS': 0, 'help_VB': 0, 'children_NNS': 0, 'seeing_VBG': 0, 'hand_NN': 0, 'summer_NN': 0, 'seem_VBP': 0, 'including_VBG': 0, 'later_RB': 1, 'behind_IN': 0, 'nice_JJ': 0, 'son_NN': 0, 'keep_VB': 0, 'camera_NN': 0, 'long_RB': 0, 'moment_NN': 0, 'look_NN': 0, 'kids_NNS': 0, 'finds_VBZ': 0, 'lines_NNS': 0, 'game_NN': 0, 'tell_VB': 0, 'playing_VBG': 0, 'car_NN': 0, 'head_NN': 0, 'mind_NN': 0, 'full_JJ': 0, 'style_NN': 0, 'work_VB': 0, 'stars_NNS': 0, 'let_VB': 0, 'maybe_RB': 0, 'boy_NN': 0, 'perfect_JJ': 0, 'want_VBP': 0, 'daughter_NN': 0, 'side_NN': 0, 'nearly_RB': 0, 'throughout_IN': 0, 'example_NN': 0, 'enough_JJ': 0, 'supposed_VBN': 0, 'hour_NN': 0, 'lost_VBN': 0, 'violence_NN': 0, 'exactly_RB': 0, 'major_JJ': 0, 'problems_NNS': 0, 'version_NN': 0, 'evil_JJ': 0, 'acting_VBG': 1, 'production_NN': 0, 'others_NNS': 0, 'title_NN': 0, 'obvious_JJ': 0, 'already_RB': 0, 'upon_IN': 0, 'team_NN': 0, 'used_VBN': 0, 'direction_NN': 0, 'sequences_NNS': 0, 'order_NN': 0, 'worst_JJS': 0, 'screenplay_NN': 0, 'starts_VBZ': 0, 'white_JJ': 0, 'roles_NNS': 0, 'go_VBP': 0, 'short_JJ': 0, 'mr_NN': 0, 'killer_NN': 0, 'drama_NN': 0, 'eyes_NNS': 0, 'set_VBN': 0, 'called_VBN': 0, 'women_NNS': 0, 'beautiful_JJ': 0, 'earth_NN': 0, 'review_NN': 0, 'right_RB': 0, 'sort_NN': 0, 'make_VBP': 0, 'video_NN': 0, 'york_NN': 0, 'works_VBZ': 0, 'fine_JJ': 0, 'four_CD': 0, 'space_NN': 0, 'body_NN': 0, 'strong_JJ': 0, 'matter_NN': 0, 'room_NN': 0, 'half_NN': 0, 'disney_NN': 0, 'face_NN': 0, 'knows_VBZ': 0, 'wo_MD': 0, 'jokes_NNS': 0, 'says_VBZ': 0, 'heart_NN': 0, 'brother_NN': 0, 'jack_NN': 0, 'possible_JJ': 0, 'simple_JJ': 0, 'save_VB': 0, 'quickly_RB': 0, 'coming_VBG': 0, 'classic_JJ': 0, 'ship_NN': 0, 'husband_NN': 0, 'five_CD': 0, 'jackie_NN': 0, 'extremely_RB': 0, 'kill_VB': 0, 'become_VB': 0, 'want_VB': 0, 'particularly_RB': 0, 'question_NN': 0, 'stupid_JJ': 0, 'appears_VBZ': 0, 'romantic_JJ': 0, 'mostly_RB': 1, 'career_NN': 0, 'involving_VBG': 1, 'hero_NN': 0, 'sometimes_RB': 0, 'less_JJR': 0, 'better_RBR': 0, 'eventually_RB': 0, 'level_NN': 1, 'hours_NNS': 0, 'guys_NNS': 0, 'planet_NN': 0, 'joe_NN': 0, 'attention_NN': 0, 'emotional_JJ': 0, 'happens_VBZ': 0, 'genre_NN': 0, 'play_VB': 0, 'around_RB': 0, 'taking_VBG': 0, 'voice_NN': 0, 'saw_VBD': 0, 'child_NN': 0, 'first_RB': 0, 'elements_NNS': 0, 'murder_NN': 0, 'deep_JJ': 0, 'thriller_NN': 0, 'directed_VBN': 0, 'seem_VB': 0, 'fiction_NN': 0, 'known_VBN': 0, 'fans_NNS': 0, 'material_NN': 0, 'believe_VB': 0, 'opening_NN': 0, 'piece_NN': 0, 'feel_VB': 0, 'battle_NN': 0, 'dog_NN': 0, 'result_NN': 0, 'ends_VBZ': 0, 'worse_JJR': 0, 'among_IN': 0, 'usually_RB': 0, 'interest_NN': 0, 'obviously_RB': 0, 'power_NN': 1, 'taken_VBN': 0, 'thought_VBD': 0, 'lives_NNS': 0, 'girls_NNS': 0, 'chance_NN': 0, 'truly_RB': 0, 'theater_NN': 0, 'yes_UH': 0, 'like_VB': 0, 'involved_VBN': 0, 'within_IN': 0, 'television_NN': 0, 'number_NN': 0, 'none_NN': 0, 'single_JJ': 0, 'wild_JJ': 1, 'tries_VBZ': 0, 'dr_NN': 0, 'talent_NN': 0, 'alone_RB': 0, 'word_NN': 0, 'success_NN': 0, 'whether_IN': 0, 'history_NN': 0, 'attempt_NN': 0, 'premise_NN': 0, '1_CD': 0, 'words_NNS': 0, 'novel_NN': 0, 'parents_NNS': 0, 'impressive_JJ': 0, 'mission_NN': 0, 'giving_VBG': 0, 'poor_JJ': 0, 'put_VB': 0, 'shot_NN': 0, 'recent_JJ': 0, 'supporting_VBG': 0, 'easy_JJ': 0, 'except_IN': 0, 'running_VBG': 1, 'serious_JJ': 0, 'basically_RB': 0, 'apparently_RB': 0, 'early_JJ': 0, 'show_VB': 0, 'important_JJ': 0, 'tells_VBZ': 0, 'wonderful_JJ': 0, 'care_VB': 0, 'entertainment_NN': 0, 'scream_NN': 0, 'easily_RB': 0, 'parts_NNS': 0, 'try_VB': 0, 'lack_NN': 0, 'stop_VB': 0, 'happy_JJ': 0, 'computer_NN': 0, 'dark_JJ': 0, 'viewer_NN': 0, 'tale_NN': 0, 'police_NN': 0, 'fight_NN': 0, 'science_NN': 0, 'note_NN': 0, 'local_JJ': 1, 'events_NNS': 0, 'falls_VBZ': 0, 'peter_NN': 0, 'sequel_NN': 0, 'went_VBD': 0, 'left_VBN': 0, 'difficult_JJ': 0, 'king_NN': 0, 'crew_NN': 0, 'hilarious_JJ': 0, 'crime_NN': 0, 'find_VBP': 0, 'across_IN': 0, 'certain_JJ': 0, 'alien_NN': 0, 'using_VBG': 0, 'david_JJ': 0, 'aliens_NNS': 0, 'experience_NN': 0, 'less_RBR': 0, 'beginning_NN': 0, 'found_VBN': 0, 'lee_NN': 0, 'stuff_NN': 0, 'effective_JJ': 0, 'presence_NN': 0, 'released_VBN': 0, 'oscar_NN': 0, 'filmmakers_NNS': 0, 'score_NN': 0, 'seemed_VBD': 0, 'found_VBD': 0, 'due_JJ': 0, '3_CD': 0, 'come_VBP': 0, 'working_VBG': 0, 'reality_NN': 0, 'john_JJ': 0, 'popular_JJ': 0, 'personal_JJ': 0, 'surprisingly_RB': 0, 'entertaining_JJ': 0, 'anyway_RB': 0, 'credits_NNS': 0, 'manages_VBZ': 0, 'george_NN': 0, 'god_NN': 0, 'dramatic_JJ': 0, 'ways_NNS': 0, 'brothers_NNS': 0, 'absolutely_RB': 0, 'similar_JJ': 0, 'business_NN': 0, 'previous_JJ': 0, 'flick_NN': 0, 'came_VBD': 0, 'surprise_NN': 0, 'girlfriend_NN': 0, 'quality_NN': 0, 'shots_NNS': 0, 'ago_RB': 0, 'gone_VBN': 0, 'bring_VB': 0, 'hell_NN': 0, 'kid_NN': 0, 'company_NN': 0, 'latest_JJS': 0, 'former_JJ': 0, 'familiar_JJ': 0, 'suspense_NN': 0, 'successful_JJ': 0, 'michael_NN': 0, 'sexual_JJ': 0, 'needs_VBZ': 0, 'romance_NN': 0, 'beyond_IN': 0, 'visual_JJ': 0, 'project_NN': 0, 'future_NN': 0, 'left_VBD': 0, 'laughs_NNS': 0, 'blood_NN': 0, 'wars_NNS': 0, 'questions_NNS': 0, 'runs_VBZ': 0, 'leaving_VBG': 0, 'predictable_JJ': 0, 'attempts_NNS': 0, 'release_NN': 0, 'bill_NN': 0, 'feature_NN': 0, 'happen_VB': 0, 'talking_VBG': 0, 'strange_JJ': 0, 'uses_VBZ': 0, 'party_NN': 0, 'message_NN': 0, 'somewhat_RB': 0, 'definitely_RB': 0, 'ones_NNS': 0, 'powerful_JJ': 0, 'situation_NN': 0, 'expect_VB': 1, 'water_NN': 0, 'office_NN': 0, 'rich_JJ': 0, 'stories_NNS': 0, 'top_JJ': 0, 'mystery_NN': 0, 'clear_JJ': 0, 'usual_JJ': 0, 'brings_VBZ': 1, 'enjoy_VB': 0, 'batman_NN': 0, 'writer_NN': 1, 'villain_NN': 0, 'age_NN': 0, 'either_DT': 0, 'bunch_NN': 0, 'art_NN': 0, 'prison_NN': 0, 'large_JJ': 0, 'murphy_NN': 0, 'help_NN': 0, 'leaves_VBZ': 0, 'forced_VBN': 0, 'follows_VBZ': 1, 'jones_NNS': 0, 'nature_NN': 0, 'excellent_JJ': 0, 'complete_JJ': 0, 'seriously_RB': 0, 'red_JJ': 0, 'solid_JJ': 0, 'effect_NN': 0, 'huge_JJ': 0, 'look_VBP': 0, 'scary_JJ': 0, 'cop_NN': 0, 'country_NN': 0, 'unlike_IN': 1, 'actress_NN': 1, 'say_VBP': 0, 'form_NN': 0, 'love_VB': 0, 'million_CD': 0, 'saying_VBG': 0, 'use_NN': 0, 'michael_JJ': 2, 'rock_NN': 0, 'audiences_NNS': 0, 'motion_NN': 0, 'van_NN': 0, 'set_NN': 0, 'type_NN': 0, 'late_JJ': 0, 'took_VBD': 0, 'perfectly_RB': 0, 'general_JJ': 0, 'killed_VBN': 0, 'use_VB': 0, 'viewers_NNS': 0, 'immediately_RB': 0, 'smith_NN': 0, 'cinema_NN': 0, 'enjoyable_JJ': 0, 'alien_JJ': 0, 'paul_NN': 0, 'live_VB': 0, 'merely_RB': 0, 'america_NN': 0, 'impossible_JJ': 0, 'deal_NN': 0, 'studio_NN': 0, 'opens_VBZ': 0, 'r_NN': 1, 'end_VB': 0, 'private_JJ': 0, 'boring_JJ': 0, 'ultimately_RB': 0, 'trouble_NN': 0, 'third_JJ': 0, 'along_RB': 0, 'various_JJ': 0, 'come_VBN': 0, 'remember_VB': 0, 'bond_NN': 0, 'society_NN': 0, 'ryan_NN': 0, '10_CD': 0, 'act_NN': 0, 'tries_NNS': 0, 'political_JJ': 0, 'situations_NNS': 0, 'park_NN': 0, 'become_VBN': 0, 'decent_JJ': 0, 'musical_JJ': 0, 'add_VB': 0, 'take_VBP': 0, 'brilliant_JJ': 0, 'fan_NN': 0, 'filled_VBN': 0, 'plan_NN': 0, 'element_NN': 0, 'particular_JJ': 0, 'members_NNS': 0, 'hope_NN': 0, 'effort_NN': 0, 'middle_NN': 0, 'slightly_RB': 0, 'stone_NN': 0, 'truth_NN': 0, 'agent_NN': 0, 'turn_NN': 1, 'leave_VB': 0, 'david_NN': 0, 'biggest_JJS': 0, 'drug_NN': 0, 'intelligent_JJ': 0, 'today_NN': 0, 'sound_NN': 0, 'soundtrack_NN': 0, 'create_VB': 0, 'mess_NN': 0, 'eye_NN': 0, 'cool_JJ': 0, 'play_NN': 0, 'turn_VB': 0, 'jim_NN': 0, 'starring_VBG': 0, 'memorable_JJ': 0, 'points_NNS': 0, 'totally_RB': 0, 'government_NN': 0, 'overall_JJ': 0, 'state_NN': 0, 'smart_JJ': 0, 'wedding_NN': 0, 'worth_JJ': 0, 'following_VBG': 0, 'law_NN': 0, 'moving_VBG': 0, 'ideas_NNS': 0, 'feeling_NN': 0, 'credit_NN': 0, 'constantly_RB': 0, 'carter_NN': 0, 'actual_JJ': 0, 'harry_NN': 0, 'dream_NN': 0, 'leads_VBZ': 0, 'slow_JJ': 0, 'past_NN': 0, 'gave_VBD': 0, 'little_RB': 0, 'terrible_JJ': 0, 'pretty_JJ': 0, 'meets_VBZ': 0, 'entirely_RB': 0, 'ability_NN': 0, 'typical_JJ': 0, 'british_JJ': 0, 'though_RB': 0, 'felt_VBD': 0, 'cinematography_NN': 0, 'ridiculous_JJ': 0, 'fairly_RB': 0, 'otherwise_RB': 1, 'mark_NN': 0, 'kevin_NN': 0, 'rating_NN': 0, 'lots_NNS': 0, 'suddenly_RB': 0, 'animation_NN': 0, 'english_JJ': 0, 'need_VBP': 0, 'tension_NN': 0, 'air_NN': 0, 'showing_VBG': 0, 'decides_VBZ': 0, 'guess_NN': 0, 'aspect_NN': 0, 'force_NN': 0, 'doubt_NN': 0, 'fails_VBZ': 0, 'past_JJ': 0, 'indeed_RB': 0, 'purpose_NN': 0, 'sweet_JJ': 0, 'e_NN': 0, 'thinking_VBG': 0, 'army_NN': 0, 'greatest_JJS': 0, 'cinematic_JJ': 0, 'beauty_NN': 0, 'seven_CD': 0, 'annoying_VBG': 0, 'humans_NNS': 0, 'understand_VB': 0, 'trek_NN': 0, 'class_NN': 0, 'die_VB': 0, 'background_NN': 0, 'modern_JJ': 0, 'clearly_RB': 0, 'wanted_VBD': 0, 'recently_RB': 0, 'box_NN': 0, 'gun_NN': 0, 'disaster_NN': 0, 'depth_NN': 0, 'woody_NN': 0, 'complex_JJ': 0, 'reasons_NNS': 0, 'scott_NN': 0, 'l_NN': 0, 'tone_NN': 0, 'master_NN': 0, 'impact_NN': 0, 'shown_VBN': 0, 'chan_NN': 0, 'martin_NN': 0, 'island_NN': 0, 'song_NN': 0, 'street_NN': 0, 'college_NN': 0, 'oh_UH': 0, 'joke_NN': 0, 'potential_JJ': 0, 'chemistry_NN': 1, 'budget_NN': 0, 'stay_VB': 0, 'favorite_JJ': 0, 'awful_JJ': 0, 'highly_RB': 1, 'robert_JJ': 0, 'believe_VBP': 0, 'godzilla_NN': 0, 'tom_NN': 0, 'common_JJ': 0, 'giant_JJ': 0, 'possibly_RB': 0, 'keeps_VBZ': 0, 'hit_NN': 0, 'somewhere_RB': 0, 'club_NN': 0, 'leader_NN': 0, 'secret_JJ': 0, 'choice_NN': 0, 'right_NN': 0, 'grace_NN': 0, 'sister_NN': 0, 'plays_NNS': 0, 'list_NN': 0, 'six_CD': 0, 'williams_NNS': 0, 'near_IN': 0, 'theme_NN': 0, 'critics_NNS': 0, 'mars_NNS': 0, 'development_NN': 0, 'told_VBN': 0, 'amount_NN': 0, 'means_VBZ': 0, 'realistic_JJ': 0, 'tom_JJ': 0, 'appearance_NN': 0, 'believable_JJ': 0, 'robin_NN': 0, 'member_NN': 0, 'sight_NN': 0, 'language_NN': 0, 'hands_NNS': 0, 'subtle_JJ': 1, 'intelligence_NN': 0, 'images_NNS': 0, 'opportunity_NN': 0, 'trailer_NN': 0, 'wrote_VBD': 0, 'puts_VBZ': 0, 'start_VB': 0, 'truman_NN': 0, 'minor_JJ': 0, 'considering_VBG': 0, 'energy_NN': 0, 'conclusion_NN': 0, 'charm_NN': 0, 'call_VB': 0, 'flat_JJ': 0, 'played_VBD': 0, 'famous_JJ': 0, 'happened_VBD': 0, 'thanks_NNS': 0, 'provides_VBZ': 0, 'climax_NN': 0, 'features_VBZ': 0, 'sees_VBZ': 0, 'road_NN': 0, 'race_NN': 0, 'chris_NN': 0, 'president_NN': 0, 'french_JJ': 0, 'central_JJ': 0, 'present_JJ': 0, 'slowly_RB': 0, 'basic_JJ': 0, 'got_VBN': 0, 'feel_NN': 0, 'thus_RB': 0, 'event_NN': 0, 'period_NN': 0, 'sets_NNS': 0, 'jackson_NN': 0, 'hardly_RB': 0, 'onto_IN': 0, 'chase_NN': 0, 'songs_NNS': 0, 'interested_JJ': 0, '1998_CD': 0, 'j_NN': 0, 'plenty_NN': 0, 'mysterious_JJ': 0, 'details_NNS': 0, 'rated_VBN': 0, 'trip_NN': 0, 'approach_NN': 0, 'amazing_JJ': 0, 'pace_NN': 0, 'dumb_JJ': 0, 'officer_NN': 0, 'either_RB': 0, 'living_NN': 0, 'seemingly_RB': 0, 'liked_VBD': 0, 'becoming_VBG': 0, 'sets_VBZ': 1, 'cheap_JJ': 0, 'thinks_VBZ': 0, 'incredibly_RB': 0, 'ben_NN': 0, 'occasionally_RB': 0, 'baby_NN': 0, 'offers_VBZ': 0, 'system_NN': 0, 'apartment_NN': 0, 'writers_NNS': 0, 'monster_NN': 0, 'view_NN': 0, 'billy_RB': 0, 'doctor_NN': 0, 'date_NN': 0, 'subplot_NN': 0, 'pay_VB': 0, 'ground_NN': 0, 'band_NN': 0, 'tough_JJ': 0, 'partner_NN': 0, 'alive_JJ': 0, 'store_NN': 1, 'vampire_NN': 0, 'run_VB': 0, 'quick_JJ': 0, 'focus_NN': 0, 'control_NN': 0, 'forget_VB': 0, 'proves_VBZ': 0, 'bob_NN': 0, 'max_NN': 0, 'lawyer_NN': 0, 'share_NN': 0, '1997_CD': 1, 'manner_NN': 0, 'powers_NNS': 0, 'cage_NN': 0, 'violent_JJ': 0, 'screenwriter_NN': 0, 'feel_VBP': 0, 'missing_VBG': 0, 'telling_VBG': 0, 'return_NN': 0, 'likely_JJ': 0, 'lead_NN': 0, 'adds_VBZ': 0, 'image_NN': 0, 'boss_NN': 0, '000_CD': 0, 'personality_NN': 0, 'brief_JJ': 0, 'news_NN': 0, 'free_JJ': 0, 'meet_VB': 0, 'remains_VBZ': 0, 'tarantino_NN': 0, 'interesting_VBG': 0, 'ready_JJ': 0, 'student_NN': 0, 'low_JJ': 0, 'entertaining_VBG': 0, 'ride_NN': 0, 'created_VBN': 0, 'became_VBD': 0, '1999_CD': 0}, 'pos')\n"
     ]
    }
   ],
   "source": [
    "print(test_set[0])"
   ]
  },
  {
   "cell_type": "markdown",
   "metadata": {},
   "source": [
    "Lets check the results again ..."
   ]
  },
  {
   "cell_type": "code",
   "execution_count": 81,
   "metadata": {},
   "outputs": [
    {
     "name": "stdout",
     "output_type": "stream",
     "text": [
      "Accuracy: 0.785\n"
     ]
    }
   ],
   "source": [
    "classifier = train_and_evaluate(train_set, test_set)"
   ]
  },
  {
   "cell_type": "code",
   "execution_count": 82,
   "metadata": {},
   "outputs": [
    {
     "name": "stdout",
     "output_type": "stream",
     "text": [
      "Most Informative Features\n",
      "                great_JJ = 4                 pos : neg    =     16.5 : 1.0\n",
      "            wonderful_JJ = 2                 pos : neg    =     12.5 : 1.0\n",
      "               stupid_JJ = 2                 neg : pos    =     10.9 : 1.0\n",
      "            excellent_JJ = 2                 pos : neg    =      9.1 : 1.0\n",
      "               boring_JJ = 2                 neg : pos    =      8.9 : 1.0\n"
     ]
    }
   ],
   "source": [
    "classifier.show_most_informative_features(5)"
   ]
  },
  {
   "cell_type": "markdown",
   "metadata": {},
   "source": [
    "## Exercício\n",
    "Calcule o desempenho do TextBlob usando o mesmo conjunto de teste.\n",
    "\n",
    "<!--\n",
    "y=[]\n",
    "y_pred=[]\n",
    "for fn in docnames[numtrain:]:\n",
    "    y.append(fn.split('/')[0])\n",
    "    if TextBlob(mr.raw(fn)).sentiment.polarity >= 0:\n",
    "        y_pred.append(\"pos\")\n",
    "    else:\n",
    "        y_pred.append(\"neg\")\n",
    "\n",
    "from sklearn import metrics\n",
    "print(\"Accuracy: \", metrics.accuracy_score(y, y_pred))\n",
    "-->"
   ]
  },
  {
   "cell_type": "raw",
   "metadata": {},
   "source": []
  }
 ],
 "metadata": {
  "kernelspec": {
   "display_name": "Python 3",
   "language": "python",
   "name": "python3"
  },
  "language_info": {
   "codemirror_mode": {
    "name": "ipython",
    "version": 3
   },
   "file_extension": ".py",
   "mimetype": "text/x-python",
   "name": "python",
   "nbconvert_exporter": "python",
   "pygments_lexer": "ipython3",
   "version": "3.8.5"
  }
 },
 "nbformat": 4,
 "nbformat_minor": 4
}
