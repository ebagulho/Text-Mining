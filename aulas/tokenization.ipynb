{
 "cells": [
  {
   "cell_type": "markdown",
   "metadata": {},
   "source": [
    "# Tokenization \n",
    "\n",
    "This notebook focuses on word-based tokenization.\n",
    "\n",
    "For sub-word tokenization, Please check [Hugging Face Tokenizers](https://huggingface.co/docs/tokenizers/quicktour) for an overview, and for easily training your own tokenizer."
   ]
  },
  {
   "cell_type": "code",
   "execution_count": 1,
   "metadata": {},
   "outputs": [
    {
     "name": "stdout",
     "output_type": "stream",
     "text": [
      "Requirement already satisfied: nltk in c:\\users\\asus\\programas\\anaconda3\\lib\\site-packages (3.7)\n",
      "Requirement already satisfied: click in c:\\users\\asus\\programas\\anaconda3\\lib\\site-packages (from nltk) (8.0.4)\n",
      "Requirement already satisfied: joblib in c:\\users\\asus\\programas\\anaconda3\\lib\\site-packages (from nltk) (1.2.0)\n",
      "Requirement already satisfied: regex>=2021.8.3 in c:\\users\\asus\\programas\\anaconda3\\lib\\site-packages (from nltk) (2022.7.9)\n",
      "Requirement already satisfied: tqdm in c:\\users\\asus\\programas\\anaconda3\\lib\\site-packages (from nltk) (4.65.0)\n",
      "Requirement already satisfied: colorama in c:\\users\\asus\\programas\\anaconda3\\lib\\site-packages (from click->nltk) (0.4.6)\n",
      "Note: you may need to restart the kernel to use updated packages.\n"
     ]
    }
   ],
   "source": [
    "%pip install nltk"
   ]
  },
  {
   "cell_type": "code",
   "execution_count": 2,
   "metadata": {},
   "outputs": [],
   "source": [
    "import gzip\n",
    "import re\n",
    "import nltk"
   ]
  },
  {
   "cell_type": "code",
   "execution_count": 27,
   "metadata": {},
   "outputs": [
    {
     "name": "stderr",
     "output_type": "stream",
     "text": [
      "[nltk_data] Downloading package punkt to\n",
      "[nltk_data]     C:\\Users\\ASUS\\AppData\\Roaming\\nltk_data...\n",
      "[nltk_data]   Unzipping tokenizers\\punkt.zip.\n"
     ]
    },
    {
     "data": {
      "text/plain": [
       "True"
      ]
     },
     "execution_count": 27,
     "metadata": {},
     "output_type": "execute_result"
    }
   ],
   "source": [
    "nltk.download('punkt')"
   ]
  },
  {
   "cell_type": "markdown",
   "metadata": {},
   "source": [
    "Caso esteja a utilizar o google colab, deve seguir as instruções disponíveis no moodle\n",
    "e correr a célula seguinte"
   ]
  },
  {
   "cell_type": "code",
   "execution_count": 3,
   "metadata": {},
   "outputs": [],
   "source": [
    "if 'google.colab' in str(get_ipython()):\n",
    "    nltk.download('punkt')"
   ]
  },
  {
   "cell_type": "code",
   "execution_count": 4,
   "metadata": {},
   "outputs": [],
   "source": [
    "text = \"\"\"Espirais do Polo Norte de Marte mostradas em detalhe\n",
    "A Agência Espacial Europeia pegou em 32 \"tiras\" de órbitas registadas pela sonda Mars Express entre 2004 e 2010 e criou um \"mosaico\" que cobre uma área de cerca de um milhão de quilómetros quadrados.\n",
    "\"Esta informação é muito importante para perceber como evoluiu o clima no planeta à medida que a sua inclinação e órbita variavam ao longo de centenas ou mesmo milhares de anos\", refere a ESA.\n",
    "A Estação Espacial Europeia acredita que são os ventos fortes da região os responsáveis por moldarem o gelo, já que sopram desde a parte central mais alta, até às margens inferiores e fazem redemoinhos empurrados pela mesma força que faz os furacões girarem na Terra.\n",
    "Ainda que a calote polar seja um \"elemento permanente\", durante o inverno as temperaturas são tão baixas que 30% do dióxido de carbono da atmosfera do planeta precipita-se sobre a mesma, acrescentando-lhe uma \"capa extra\" de até um metro de espessura.\n",
    "\"\"\""
   ]
  },
  {
   "cell_type": "markdown",
   "metadata": {},
   "source": [
    "Quantas palavras diferentes podemos encontrar neste texto?"
   ]
  },
  {
   "cell_type": "markdown",
   "metadata": {
    "tags": []
   },
   "source": [
    "## Tokenização baseada em palavras"
   ]
  },
  {
   "cell_type": "markdown",
   "metadata": {},
   "source": [
    "\n",
    "### Formas básicas de identificar os *tokens* de um texto\n",
    "* Usar os espaços"
   ]
  },
  {
   "cell_type": "code",
   "execution_count": 5,
   "metadata": {},
   "outputs": [
    {
     "name": "stdout",
     "output_type": "stream",
     "text": [
      "['Espirais', 'do', 'Polo', 'Norte', 'de', 'Marte', 'mostradas', 'em', 'detalhe', 'A', 'Agência', 'Espacial', 'Europeia', 'pegou', 'em', '32', '\"tiras\"', 'de', 'órbitas', 'registadas', 'pela', 'sonda', 'Mars', 'Express', 'entre', '2004', 'e', '2010', 'e', 'criou', 'um', '\"mosaico\"', 'que', 'cobre', 'uma', 'área', 'de', 'cerca', 'de', 'um', 'milhão', 'de', 'quilómetros', 'quadrados.', '\"Esta', 'informação', 'é', 'muito', 'importante', 'para', 'perceber', 'como', 'evoluiu', 'o', 'clima', 'no', 'planeta', 'à', 'medida', 'que', 'a', 'sua', 'inclinação', 'e', 'órbita', 'variavam', 'ao', 'longo', 'de', 'centenas', 'ou', 'mesmo', 'milhares', 'de', 'anos\",', 'refere', 'a', 'ESA.', 'A', 'Estação', 'Espacial', 'Europeia', 'acredita', 'que', 'são', 'os', 'ventos', 'fortes', 'da', 'região', 'os', 'responsáveis', 'por', 'moldarem', 'o', 'gelo,', 'já', 'que', 'sopram', 'desde', 'a', 'parte', 'central', 'mais', 'alta,', 'até', 'às', 'margens', 'inferiores', 'e', 'fazem', 'redemoinhos', 'empurrados', 'pela', 'mesma', 'força', 'que', 'faz', 'os', 'furacões', 'girarem', 'na', 'Terra.', 'Ainda', 'que', 'a', 'calote', 'polar', 'seja', 'um', '\"elemento', 'permanente\",', 'durante', 'o', 'inverno', 'as', 'temperaturas', 'são', 'tão', 'baixas', 'que', '30%', 'do', 'dióxido', 'de', 'carbono', 'da', 'atmosfera', 'do', 'planeta', 'precipita-se', 'sobre', 'a', 'mesma,', 'acrescentando-lhe', 'uma', '\"capa', 'extra\"', 'de', 'até', 'um', 'metro', 'de', 'espessura.']\n"
     ]
    }
   ],
   "source": [
    "tokens = text.split()\n",
    "print(tokens)"
   ]
  },
  {
   "cell_type": "markdown",
   "metadata": {},
   "source": [
    "Verificamos que há tokens que fazem pouco sentido: e.g. `\"mosaico\"`, `quadrados.`, ...\n",
    "\n",
    "Uma forma de resolver o problema poderá envolver processamento do texto, por exemplo separando os carateres `\"` e `.` das palavras à sua volta."
   ]
  },
  {
   "cell_type": "code",
   "execution_count": 6,
   "metadata": {},
   "outputs": [
    {
     "name": "stdout",
     "output_type": "stream",
     "text": [
      "Espirais do Polo Norte de Marte mostradas em detalhe\n",
      "A Agência Espacial Europeia pegou em 32 \" tiras \" de órbitas registadas pela sonda Mars Express entre 2004 e 2010 e criou um \" mosaico \" que cobre uma área de cerca de um milhão de quilómetros quadrados . \n",
      " \" Esta informação é muito importante para perceber como evoluiu o clima no planeta à medida que a sua inclinação e órbita variavam ao longo de centenas ou mesmo milhares de anos \" , refere a ESA . \n",
      "A Estação Espacial Europeia acredita que são os ventos fortes da região os responsáveis por moldarem o gelo, já que sopram desde a parte central mais alta, até às margens inferiores e fazem redemoinhos empurrados pela mesma força que faz os furacões girarem na Terra . \n",
      "Ainda que a calote polar seja um \" elemento permanente \" , durante o inverno as temperaturas são tão baixas que 30% do dióxido de carbono da atmosfera do planeta precipita-se sobre a mesma, acrescentando-lhe uma \" capa extra \" de até um metro de espessura . \n",
      "\n"
     ]
    }
   ],
   "source": [
    "text2 = re.sub(r'([.\\\"])', ' \\\\1 ', text)\n",
    "text2 = re.sub(r' +', ' ', text2)\n",
    "print(text2)"
   ]
  },
  {
   "cell_type": "markdown",
   "metadata": {},
   "source": [
    "Agora sim, já será possivel obter uma segmentação mais interessante..."
   ]
  },
  {
   "cell_type": "code",
   "execution_count": 7,
   "metadata": {},
   "outputs": [
    {
     "name": "stdout",
     "output_type": "stream",
     "text": [
      "['Espirais', 'do', 'Polo', 'Norte', 'de', 'Marte', 'mostradas', 'em', 'detalhe', 'A', 'Agência', 'Espacial', 'Europeia', 'pegou', 'em', '32', '\"', 'tiras', '\"', 'de', 'órbitas', 'registadas', 'pela', 'sonda', 'Mars', 'Express', 'entre', '2004', 'e', '2010', 'e', 'criou', 'um', '\"', 'mosaico', '\"', 'que', 'cobre', 'uma', 'área', 'de', 'cerca', 'de', 'um', 'milhão', 'de', 'quilómetros', 'quadrados', '.', '\"', 'Esta', 'informação', 'é', 'muito', 'importante', 'para', 'perceber', 'como', 'evoluiu', 'o', 'clima', 'no', 'planeta', 'à', 'medida', 'que', 'a', 'sua', 'inclinação', 'e', 'órbita', 'variavam', 'ao', 'longo', 'de', 'centenas', 'ou', 'mesmo', 'milhares', 'de', 'anos', '\"', ',', 'refere', 'a', 'ESA', '.', 'A', 'Estação', 'Espacial', 'Europeia', 'acredita', 'que', 'são', 'os', 'ventos', 'fortes', 'da', 'região', 'os', 'responsáveis', 'por', 'moldarem', 'o', 'gelo,', 'já', 'que', 'sopram', 'desde', 'a', 'parte', 'central', 'mais', 'alta,', 'até', 'às', 'margens', 'inferiores', 'e', 'fazem', 'redemoinhos', 'empurrados', 'pela', 'mesma', 'força', 'que', 'faz', 'os', 'furacões', 'girarem', 'na', 'Terra', '.', 'Ainda', 'que', 'a', 'calote', 'polar', 'seja', 'um', '\"', 'elemento', 'permanente', '\"', ',', 'durante', 'o', 'inverno', 'as', 'temperaturas', 'são', 'tão', 'baixas', 'que', '30%', 'do', 'dióxido', 'de', 'carbono', 'da', 'atmosfera', 'do', 'planeta', 'precipita-se', 'sobre', 'a', 'mesma,', 'acrescentando-lhe', 'uma', '\"', 'capa', 'extra', '\"', 'de', 'até', 'um', 'metro', 'de', 'espessura', '.']\n"
     ]
    }
   ],
   "source": [
    "print(text2.split())"
   ]
  },
  {
   "cell_type": "markdown",
   "metadata": {},
   "source": [
    "Façamos agora algum pré-processamento básico inicial para juntar as várias frases numa única linha e transformar tudo em minúsculas"
   ]
  },
  {
   "cell_type": "code",
   "execution_count": 8,
   "metadata": {},
   "outputs": [
    {
     "name": "stdout",
     "output_type": "stream",
     "text": [
      "espirais do polo norte de marte mostradas em detalhea agência espacial europeia pegou em 32 \" tiras \" de órbitas registadas pela sonda mars express entre 2004 e 2010 e criou um \" mosaico \" que cobre uma área de cerca de um milhão de quilómetros quadrados .  \" esta informação é muito importante para perceber como evoluiu o clima no planeta à medida que a sua inclinação e órbita variavam ao longo de centenas ou mesmo milhares de anos \" , refere a esa . a estação espacial europeia acredita que são os ventos fortes da região os responsáveis por moldarem o gelo, já que sopram desde a parte central mais alta, até às margens inferiores e fazem redemoinhos empurrados pela mesma força que faz os furacões girarem na terra . ainda que a calote polar seja um \" elemento permanente \" , durante o inverno as temperaturas são tão baixas que 30% do dióxido de carbono da atmosfera do planeta precipita-se sobre a mesma, acrescentando-lhe uma \" capa extra \" de até um metro de espessura . \n"
     ]
    }
   ],
   "source": [
    "text2 = re.sub(r'[\\n\\r]', \"\", text2).lower()\n",
    "print(text2)"
   ]
  },
  {
   "cell_type": "markdown",
   "metadata": {},
   "source": [
    "Depois do pré-processamento inicial, calcular a frequência de cada token"
   ]
  },
  {
   "cell_type": "code",
   "execution_count": 9,
   "metadata": {},
   "outputs": [
    {
     "name": "stdout",
     "output_type": "stream",
     "text": [
      "Counter({'de': 10, '\"': 10, 'que': 7, 'a': 6, 'e': 4, 'um': 4, '.': 4, 'do': 3, 'o': 3, 'os': 3, 'em': 2, 'espacial': 2, 'europeia': 2, 'pela': 2, 'uma': 2, 'planeta': 2, ',': 2, 'são': 2, 'da': 2, 'até': 2, 'espirais': 1, 'polo': 1, 'norte': 1, 'marte': 1, 'mostradas': 1, 'detalhea': 1, 'agência': 1, 'pegou': 1, '32': 1, 'tiras': 1, 'órbitas': 1, 'registadas': 1, 'sonda': 1, 'mars': 1, 'express': 1, 'entre': 1, '2004': 1, '2010': 1, 'criou': 1, 'mosaico': 1, 'cobre': 1, 'área': 1, 'cerca': 1, 'milhão': 1, 'quilómetros': 1, 'quadrados': 1, 'esta': 1, 'informação': 1, 'é': 1, 'muito': 1, 'importante': 1, 'para': 1, 'perceber': 1, 'como': 1, 'evoluiu': 1, 'clima': 1, 'no': 1, 'à': 1, 'medida': 1, 'sua': 1, 'inclinação': 1, 'órbita': 1, 'variavam': 1, 'ao': 1, 'longo': 1, 'centenas': 1, 'ou': 1, 'mesmo': 1, 'milhares': 1, 'anos': 1, 'refere': 1, 'esa': 1, 'estação': 1, 'acredita': 1, 'ventos': 1, 'fortes': 1, 'região': 1, 'responsáveis': 1, 'por': 1, 'moldarem': 1, 'gelo,': 1, 'já': 1, 'sopram': 1, 'desde': 1, 'parte': 1, 'central': 1, 'mais': 1, 'alta,': 1, 'às': 1, 'margens': 1, 'inferiores': 1, 'fazem': 1, 'redemoinhos': 1, 'empurrados': 1, 'mesma': 1, 'força': 1, 'faz': 1, 'furacões': 1, 'girarem': 1, 'na': 1, 'terra': 1, 'ainda': 1, 'calote': 1, 'polar': 1, 'seja': 1, 'elemento': 1, 'permanente': 1, 'durante': 1, 'inverno': 1, 'as': 1, 'temperaturas': 1, 'tão': 1, 'baixas': 1, '30%': 1, 'dióxido': 1, 'carbono': 1, 'atmosfera': 1, 'precipita-se': 1, 'sobre': 1, 'mesma,': 1, 'acrescentando-lhe': 1, 'capa': 1, 'extra': 1, 'metro': 1, 'espessura': 1})\n"
     ]
    }
   ],
   "source": [
    "import collections\n",
    "freq = collections.Counter(text2.split())\n",
    "print(freq)"
   ]
  },
  {
   "cell_type": "code",
   "execution_count": 10,
   "metadata": {},
   "outputs": [
    {
     "data": {
      "text/plain": [
       "7"
      ]
     },
     "execution_count": 10,
     "metadata": {},
     "output_type": "execute_result"
    }
   ],
   "source": [
    "freq[\"que\"]"
   ]
  },
  {
   "cell_type": "markdown",
   "metadata": {},
   "source": [
    "### (opcional) Uso de expressões regulares\n",
    "\n",
    "As expresssões regulares têm inúmeras aplicações: filtragem, obtenção de padões, etc.\n",
    "\n",
    "Options:\n",
    "- `re.I`: perform case-insensitive matching\n",
    "- `re.MULTILINE`: When specified, the pattern character '^' matches at the beginning of the string and at the beginning of each line (immediately following each newline)\n",
    "- `re.DOTALL`: Make the '.' special character match any character at all, including a newline"
   ]
  },
  {
   "cell_type": "code",
   "execution_count": null,
   "metadata": {},
   "outputs": [
    {
     "name": "stdout",
     "output_type": "stream",
     "text": [
      "['Espirais', 'Ainda']\n"
     ]
    }
   ],
   "source": [
    "matches = re.findall(r\"^[A-Z][a-z]+\", text, re.MULTILINE)\n",
    "#encontrar todas as palavras que começem com letra MAISCULA e as restantes são minusculas em cada linha\n",
    "print(matches)"
   ]
  },
  {
   "cell_type": "code",
   "execution_count": 14,
   "metadata": {},
   "outputs": [
    {
     "name": "stdout",
     "output_type": "stream",
     "text": [
      "['Espirais', 'Polo', 'Norte', 'Marte', 'Ag', 'Espacial', 'Europeia', 'Mars', 'Express', 'Esta', 'Esta', 'Espacial', 'Europeia', 'Terra', 'Ainda']\n"
     ]
    }
   ],
   "source": [
    "matches = re.findall(r\"[A-Z][a-z]+\", text, re.MULTILINE)\n",
    "#encontrar todas as palavras que começem com letra MAISCULA e as restantes são minusculas em cada linha\n",
    "print(matches)"
   ]
  },
  {
   "cell_type": "code",
   "execution_count": null,
   "metadata": {},
   "outputs": [
    {
     "name": "stdout",
     "output_type": "stream",
     "text": [
      "['Espirais', 'A', 'A', 'Ainda']\n"
     ]
    }
   ],
   "source": [
    "matches = re.findall(r\"^\\w+\", text, re.MULTILINE)\n",
    "#No inicio da linha \\w (tudo o que seja um caracater q faça parte de uma palavra ,-.)\n",
    "print(matches)"
   ]
  },
  {
   "cell_type": "code",
   "execution_count": 18,
   "metadata": {},
   "outputs": [
    {
     "name": "stdout",
     "output_type": "stream",
     "text": [
      "Espirais do Polo Norte de Marte mostradas em detalhe\n",
      "A Agência Espacial Europeia pegou em 32 \"tiras\" de órbitas registadas pela sonda Mars Express entre 2004 e 2010 e criou um \"mosaico\" que cobre uma área de cerca de um milhão de quilómetros quadrados.\n",
      "\"Esta informação é muito importante para perceber como evoluiu o clima no planeta à medida que a sua inclinação e órbita variavam ao longo de centenas ou mesmo milhares de anos\", refere a ESA.\n",
      "A Estação Espacial Europeia acredita que são os ventos fortes da região os responsáveis por moldarem o gelo, já que sopram desde a parte central mais alta, até às margens inferiores e fazem redemoinhos empurrados pela mesma força que faz os furacões girarem na Terra.\n",
      "Ainda que a calote polar seja um \"elemento permanente\", durante o inverno as temperaturas são tão baixas que 30% do dióxido de carbono da atmosfera do planeta precipita-se sobre a mesma, acrescentando-lhe uma \"capa extra\" de até um metro de espessura.\n",
      "\n",
      "<Espirais> <do> <Polo> <Norte> <de> <Marte> <mostradas> <em> <detalhe>\n",
      "<A> <Agência> <Espacial> <Europeia> <pegou> <em> <32> \"<tiras>\" <de> <órbitas> <registadas> <pela> <sonda> <Mars> <Express> <entre> <2004> <e> <2010> <e> <criou> <um> \"<mosaico>\" <que> <cobre> <uma> <área> <de> <cerca> <de> <um> <milhão> <de> <quilómetros> <quadrados>.\n",
      "\"<Esta> <informação> <é> <muito> <importante> <para> <perceber> <como> <evoluiu> <o> <clima> <no> <planeta> <à> <medida> <que> <a> <sua> <inclinação> <e> <órbita> <variavam> <ao> <longo> <de> <centenas> <ou> <mesmo> <milhares> <de> <anos>\", <refere> <a> <ESA>.\n",
      "<A> <Estação> <Espacial> <Europeia> <acredita> <que> <são> <os> <ventos> <fortes> <da> <região> <os> <responsáveis> <por> <moldarem> <o> <gelo>, <já> <que> <sopram> <desde> <a> <parte> <central> <mais> <alta>, <até> <às> <margens> <inferiores> <e> <fazem> <redemoinhos> <empurrados> <pela> <mesma> <força> <que> <faz> <os> <furacões> <girarem> <na> <Terra>.\n",
      "<Ainda> <que> <a> <calote> <polar> <seja> <um> \"<elemento> <permanente>\", <durante> <o> <inverno> <as> <temperaturas> <são> <tão> <baixas> <que> <30>% <do> <dióxido> <de> <carbono> <da> <atmosfera> <do> <planeta> <precipita>-<se> <sobre> <a> <mesma>, <acrescentando>-<lhe> <uma> \"<capa> <extra>\" <de> <até> <um> <metro> <de> <espessura>.\n",
      "\n"
     ]
    }
   ],
   "source": [
    "# outros testes: por exemplo, identificar todas as sequências de letras ou números\n",
    "print(text)\n",
    "palavras = re.sub(r\"(\\w+)\", '<\\\\1>', text)\n",
    "print(palavras)"
   ]
  },
  {
   "cell_type": "code",
   "execution_count": 22,
   "metadata": {},
   "outputs": [
    {
     "name": "stdout",
     "output_type": "stream",
     "text": [
      "<Espirais> <do> <Polo> <Norte> <de> <Marte> <mostradas> <em> <detalhe>\n",
      "<A> <Agência> <Espacial> <Europeia> <pegou> <em> <32> \"<tiras>\" <de> <órbitas> <registadas> <pela> <sonda> <Mars> <Express> <entre> <2004> <e> <2010> <e> <criou> <um> \"<mosaico>\" <que> <cobre> <uma> <área> <de> <cerca> <de> <um> <milhão> <de> <quilómetros> <quadrados>.\n",
      "\"<Esta> <informação> <é> <muito> <importante> <para> <perceber> <como> <evoluiu> <o> <clima> <no> <planeta> <à> <medida> <que> <a> <sua> <inclinação> <e> <órbita> <variavam> <ao> <longo> <de> <centenas> <ou> <mesmo> <milhares> <de> <anos>\", <refere> <a> <ESA>.\n",
      "<A> <Estação> <Espacial> <Europeia> <acredita> <que> <são> <os> <ventos> <fortes> <da> <região> <os> <responsáveis> <por> <moldarem> <o> <gelo>, <já> <que> <sopram> <desde> <a> <parte> <central> <mais> <alta>, <até> <às> <margens> <inferiores> <e> <fazem> <redemoinhos> <empurrados> <pela> <mesma> <força> <que> <faz> <os> <furacões> <girarem> <na> <Terra>.\n",
      "<Ainda> <que> <a> <calote> <polar> <seja> <um> \"<elemento> <permanente>\", <durante> <o> <inverno> <as> <temperaturas> <são> <tão> <baixas> <que> <30>% <do> <dióxido> <de> <carbono> <da> <atmosfera> <do> <planeta> <precipita>-<se> <sobre> <a> <mesma>, <acrescentando>-<lhe> <uma> \"<capa> <extra>\" <de> <até> <um> <metro> <de> <espessura>.\n",
      "\n"
     ]
    }
   ],
   "source": [
    "palavras = re.sub(r\"(\\w+)\", '<\\\\1>', text)\n",
    "print(palavras)"
   ]
  },
  {
   "cell_type": "markdown",
   "metadata": {},
   "source": [
    "### Tokenização usando NLTK\n",
    "Observe que para além dos sinais de pontuação, tais como \".\" e \",\", as aspas também podem representar um problema. "
   ]
  },
  {
   "cell_type": "code",
   "execution_count": 25,
   "metadata": {},
   "outputs": [
    {
     "name": "stdout",
     "output_type": "stream",
     "text": [
      "Espirais do Polo Norte de Marte mostradas em detalhe\n",
      "A Agência Espacial Europeia pegou em 32 \"tiras\" de órbitas registadas pela sonda Mars Express entre 2004 e 2010 e criou um \"mosaico\" que cobre uma área de cerca de um milhão de quilómetros quadrados.\n",
      "\"Esta informação é muito importante para perceber como evoluiu o clima no planeta à medida que a sua inclinação e órbita variavam ao longo de centenas ou mesmo milhares de anos\", refere a ESA.\n",
      "A Estação Espacial Europeia acredita que são os ventos fortes da região os responsáveis por moldarem o gelo, já que sopram desde a parte central mais alta, até às margens inferiores e fazem redemoinhos empurrados pela mesma força que faz os furacões girarem na Terra.\n",
      "Ainda que a calote polar seja um \"elemento permanente\", durante o inverno as temperaturas são tão baixas que 30% do dióxido de carbono da atmosfera do planeta precipita-se sobre a mesma, acrescentando-lhe uma \"capa extra\" de até um metro de espessura.\n",
      "\n"
     ]
    }
   ],
   "source": [
    "print(text)"
   ]
  },
  {
   "cell_type": "code",
   "execution_count": 28,
   "metadata": {},
   "outputs": [
    {
     "name": "stdout",
     "output_type": "stream",
     "text": [
      "['Espirais', 'do', 'Polo', 'Norte', 'de', 'Marte', 'mostradas', 'em', 'detalhe', 'A', 'Agência', 'Espacial', 'Europeia', 'pegou', 'em', '32', '``', 'tiras', \"''\", 'de', 'órbitas', 'registadas', 'pela', 'sonda', 'Mars', 'Express', 'entre', '2004', 'e', '2010', 'e', 'criou', 'um', '``', 'mosaico', \"''\", 'que', 'cobre', 'uma', 'área', 'de', 'cerca', 'de', 'um', 'milhão', 'de', 'quilómetros', 'quadrados', '.', '``', 'Esta', 'informação', 'é', 'muito', 'importante', 'para', 'perceber', 'como', 'evoluiu', 'o', 'clima', 'no', 'planeta', 'à', 'medida', 'que', 'a', 'sua', 'inclinação', 'e', 'órbita', 'variavam', 'ao', 'longo', 'de', 'centenas', 'ou', 'mesmo', 'milhares', 'de', 'anos', \"''\", ',', 'refere', 'a', 'ESA', '.', 'A', 'Estação', 'Espacial', 'Europeia', 'acredita', 'que', 'são', 'os', 'ventos', 'fortes', 'da', 'região', 'os', 'responsáveis', 'por', 'moldarem', 'o', 'gelo', ',', 'já', 'que', 'sopram', 'desde', 'a', 'parte', 'central', 'mais', 'alta', ',', 'até', 'às', 'margens', 'inferiores', 'e', 'fazem', 'redemoinhos', 'empurrados', 'pela', 'mesma', 'força', 'que', 'faz', 'os', 'furacões', 'girarem', 'na', 'Terra', '.', 'Ainda', 'que', 'a', 'calote', 'polar', 'seja', 'um', '``', 'elemento', 'permanente', \"''\", ',', 'durante', 'o', 'inverno', 'as', 'temperaturas', 'são', 'tão', 'baixas', 'que', '30', '%', 'do', 'dióxido', 'de', 'carbono', 'da', 'atmosfera', 'do', 'planeta', 'precipita-se', 'sobre', 'a', 'mesma', ',', 'acrescentando-lhe', 'uma', '``', 'capa', 'extra', \"''\", 'de', 'até', 'um', 'metro', 'de', 'espessura', '.']\n"
     ]
    }
   ],
   "source": [
    "tokens=nltk.word_tokenize(text)\n",
    "print(tokens)"
   ]
  },
  {
   "cell_type": "markdown",
   "metadata": {},
   "source": [
    "Tratamento de casos particulares, tais como abreviaturas, siglas, acrónimos e quantidades"
   ]
  },
  {
   "cell_type": "code",
   "execution_count": 29,
   "metadata": {},
   "outputs": [
    {
     "name": "stdout",
     "output_type": "stream",
     "text": [
      "['Dr.', 'Peter', 'mentioned', 'that', 'the', 'U.S.A.', 'poster-print', 'costs', '$', '12.40', '...']\n"
     ]
    }
   ],
   "source": [
    "text= \"Dr. Peter mentioned that the U.S.A. poster-print costs $12.40...\"\n",
    "tokens=nltk.word_tokenize(text)\n",
    "print(tokens)"
   ]
  },
  {
   "cell_type": "markdown",
   "metadata": {},
   "source": [
    "### Tokenização de Tweets"
   ]
  },
  {
   "cell_type": "markdown",
   "metadata": {},
   "source": [
    "O mesma solução não produz um bom resultado quando aplicada, por exemplo, a tweets"
   ]
  },
  {
   "cell_type": "code",
   "execution_count": 30,
   "metadata": {},
   "outputs": [
    {
     "name": "stdout",
     "output_type": "stream",
     "text": [
      "['This', 'is', 'a', 'cooool', '#', 'dummysmiley', ':', ':', '-', ')', ':', '-P', '<', '3', 'and', 'some', 'arrows', '<', '>', '-', '>', '<', '--']\n"
     ]
    }
   ],
   "source": [
    "tweet = \"This is a cooool #dummysmiley: :-) :-P <3 and some arrows < > -> <--\"\n",
    "\n",
    "print(nltk.word_tokenize(tweet))"
   ]
  },
  {
   "cell_type": "code",
   "execution_count": 31,
   "metadata": {},
   "outputs": [
    {
     "name": "stdout",
     "output_type": "stream",
     "text": [
      "['This', 'is', 'a', 'cooool', '#dummysmiley', ':', ':-)', ':-P', '<3', 'and', 'some', 'arrows', '<', '>', '->', '<--']\n"
     ]
    }
   ],
   "source": [
    "from nltk.tokenize import TweetTokenizer\n",
    "mytkzr = TweetTokenizer()\n",
    "print(mytkzr.tokenize(tweet))"
   ]
  },
  {
   "cell_type": "markdown",
   "metadata": {},
   "source": [
    "Outro exemplo ..."
   ]
  },
  {
   "cell_type": "code",
   "execution_count": 32,
   "metadata": {},
   "outputs": [
    {
     "name": "stdout",
     "output_type": "stream",
     "text": [
      "['Olá', '@manuel_silva', ',', '#text-mining', 'rulezzzz', '.', ':)']\n"
     ]
    }
   ],
   "source": [
    "tweet = \"Olá @manuel_silva, #text-mining rulezzzz. :)\"\n",
    "print(mytkzr.tokenize(tweet))"
   ]
  },
  {
   "cell_type": "markdown",
   "metadata": {},
   "source": [
    "## Exemplos adicionais com ficheiros"
   ]
  },
  {
   "cell_type": "markdown",
   "metadata": {},
   "source": [
    "Antes de continuar, certifique-se que fez o download dos dados previamente conforme instruções fornecidas em [download dos dados utilizados nos exemplos](./using-tm-data.ipynb)"
   ]
  },
  {
   "cell_type": "code",
   "execution_count": 33,
   "metadata": {},
   "outputs": [
    {
     "name": "stdout",
     "output_type": "stream",
     "text": [
      "\n",
      "Foi Francisco George , diretor-geral da Saúde , quem reconheceu que a situação na África Ocidental está descontrolada . O continente europeu está , por isso , vai exposto ao contágio .\n",
      "As autoridades portuguesas estão atentas , mas , por agora , não vão elevar o nível de alerta do vírus ébola . No Parlamento , o diretor-geral da DGS admitiu , no entanto , elevar o nível «se houver problemas na Guiné-Bissau . O risco , nesse caso , é naturalmente importante para nós devido às ligações estreitas entre os dois países» , afirmou Francisco George .\n",
      "Amanhã mesmo , ele parte para a Guiné-Bissau com o presidente do INEM . Os dois responsáveis vão oferecer ajuda ao país se vier a ser atingido pelo vírus do ébola , no âmbito da missão da ONU .\n",
      "Francisco George diz que o país está a analisar diariamente a situação e que está preparado para alterar procedimentos se tal se justificar . O director-geral da Saúde revela , ainda , que tem estado em contacto permanente com os ministérios da Administração Interna e da Defesa , no caso de ser necessário repatriar rapidamente portugueses das zonas mais afectadas .\n",
      "Na Comissão Parlamentar de Saúde , Francisco George não escondeu no entanto , que neste momento , a Europa corre mais riscos de contágio do ébola . A confissão surgiu durante a audição do diretor-geral da Saúde perante os deputados .\n",
      "O vírus mortal está a espalhar-se nos países da África Ocidental de uma forma descontrolada e isso , explica Francisco George , «contribui para um aumento do risco do continente europeu» . Ainda assim , o director-geral da Saúde afasta um cenário idêntico ao de África na Europa . Francisco George garante que nada indica que tal se venha a verificar .\n",
      "\n",
      "\n"
     ]
    }
   ],
   "source": [
    "import gzip\n",
    "with gzip.open(\"../data/pt/tsf.selecionado/not_4180883.gz\", \"rt\", encoding=\"utf-8\") as f:\n",
    "    lines = f.readlines()\n",
    "    text  = \"\".join(lines)\n",
    "\n",
    "print(text)"
   ]
  },
  {
   "cell_type": "code",
   "execution_count": 34,
   "metadata": {},
   "outputs": [
    {
     "name": "stdout",
     "output_type": "stream",
     "text": [
      "Foi | Francisco | George | , | diretor-geral | da | Saúde | , | quem | reconheceu | que | a | situação | na | África | Ocidental | está | descontrolada | . | O | continente | europeu | está | , | por | isso | , | vai | exposto | ao | contágio | . | As | autoridades | portuguesas | estão | atentas | , | mas | , | por | agora | , | não | vão | elevar | o | nível | de | alerta | do | vírus | ébola | . | No | Parlamento | , | o | diretor-geral | da | DGS | admitiu | , | no | entanto | , | elevar | o | nível | « | se | houver | problemas | na | Guiné-Bissau | . | O | risco | , | nesse | caso | , | é | naturalmente | importante | para | nós | devido | às | ligações | estreitas | entre | os | dois | países | » | , | afirmou | Francisco | George | . | Amanhã | mesmo | , | ele | parte | para | a | Guiné-Bissau | com | o | presidente | do | INEM | . | Os | dois | responsáveis | vão | oferecer | ajuda | ao | país | se | vier | a | ser | atingido | pelo | vírus | do | ébola | , | no | âmbito | da | missão | da | ONU | . | Francisco | George | diz | que | o | país | está | a | analisar | diariamente | a | situação | e | que | está | preparado | para | alterar | procedimentos | se | tal | se | justificar | . | O | director-geral | da | Saúde | revela | , | ainda | , | que | tem | estado | em | contacto | permanente | com | os | ministérios | da | Administração | Interna | e | da | Defesa | , | no | caso | de | ser | necessário | repatriar | rapidamente | portugueses | das | zonas | mais | afectadas | . | Na | Comissão | Parlamentar | de | Saúde | , | Francisco | George | não | escondeu | no | entanto | , | que | neste | momento | , | a | Europa | corre | mais | riscos | de | contágio | do | ébola | . | A | confissão | surgiu | durante | a | audição | do | diretor-geral | da | Saúde | perante | os | deputados | . | O | vírus | mortal | está | a | espalhar-se | nos | países | da | África | Ocidental | de | uma | forma | descontrolada | e | isso | , | explica | Francisco | George | , | « | contribui | para | um | aumento | do | risco | do | continente | europeu | » | . | Ainda | assim | , | o | director-geral | da | Saúde | afasta | um | cenário | idêntico | ao | de | África | na | Europa | . | Francisco | George | garante | que | nada | indica | que | tal | se | venha | a | verificar | .\n"
     ]
    }
   ],
   "source": [
    "import nltk\n",
    "words = nltk.word_tokenize(text)\n",
    "print(\" | \".join(words))"
   ]
  },
  {
   "cell_type": "markdown",
   "metadata": {},
   "source": []
  },
  {
   "cell_type": "markdown",
   "metadata": {},
   "source": []
  }
 ],
 "metadata": {
  "kernelspec": {
   "display_name": "base",
   "language": "python",
   "name": "python3"
  },
  "language_info": {
   "codemirror_mode": {
    "name": "ipython",
    "version": 3
   },
   "file_extension": ".py",
   "mimetype": "text/x-python",
   "name": "python",
   "nbconvert_exporter": "python",
   "pygments_lexer": "ipython3",
   "version": "3.11.3"
  }
 },
 "nbformat": 4,
 "nbformat_minor": 4
}
