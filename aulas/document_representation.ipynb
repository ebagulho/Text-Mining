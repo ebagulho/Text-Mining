{
 "cells": [
  {
   "cell_type": "code",
   "execution_count": 1,
   "metadata": {},
   "outputs": [],
   "source": [
    "import sys\n",
    "import gzip\n",
    "import numpy as np\n",
    "import glob\n",
    "import collections\n",
    "import operator\n",
    "from pprint import pprint  "
   ]
  },
  {
   "cell_type": "markdown",
   "metadata": {},
   "source": [
    "Caso esteja a utilizar o google colab, deve seguir as instruções disponíveis no moodle\n",
    "e correr a célula seguinte"
   ]
  },
  {
   "cell_type": "code",
   "execution_count": 2,
   "metadata": {},
   "outputs": [],
   "source": [
    "if 'google.colab' in str(get_ipython()):\n",
    "    from google.colab import drive\n",
    "    drive.mount('/content/drive')\n",
    "    %cd /content/drive/MyDrive/Iscte/TM/data"
   ]
  },
  {
   "cell_type": "code",
   "execution_count": 3,
   "metadata": {},
   "outputs": [
    {
     "name": "stdout",
     "output_type": "stream",
     "text": [
      "['../data/pt/tsf.selecionado/not_4180851.gz', '../data/pt/tsf.selecionado/not_4180143.gz', '../data/pt/tsf.selecionado/not_4180883.gz', '../data/pt/tsf.selecionado/not_4180778.gz', '../data/pt/tsf.selecionado/not_4180043.gz', '../data/pt/tsf.selecionado/not_4180385.gz', '../data/pt/tsf.selecionado/not_4180629.gz', '../data/pt/tsf.selecionado/not_4180432.gz', '../data/pt/tsf.selecionado/not_4180358.gz', '../data/pt/tsf.selecionado/not_4180583.gz']\n"
     ]
    }
   ],
   "source": [
    "ficheiros=glob.glob(\"../data/pt/tsf.selecionado/*.gz\")\n",
    "print(ficheiros)"
   ]
  },
  {
   "cell_type": "code",
   "execution_count": 4,
   "metadata": {},
   "outputs": [
    {
     "name": "stdout",
     "output_type": "stream",
     "text": [
      "Tenho guardados 10 documentos\n"
     ]
    }
   ],
   "source": [
    "textos = []\n",
    "for fname in ficheiros:\n",
    "    f=gzip.open(fname, \"rt\", encoding=\"utf-8\")\n",
    "    texto = f.readlines()\n",
    "    texto = \"\".join(texto)\n",
    "    textos.append(texto)\n",
    "print(\"Tenho guardados %d documentos\"% len(textos))"
   ]
  },
  {
   "cell_type": "code",
   "execution_count": 5,
   "metadata": {},
   "outputs": [
    {
     "name": "stdout",
     "output_type": "stream",
     "text": [
      "\n",
      "Os tripulantes da TAP convocaram quatro dias de greve , noticiou o Diário Económico . A paralisação decretada pelo Sindicato Nacional do Pessoal de Voo da Aviação Civil está marcada para trinta de outubro , um e trinta de novembro e dois de dezembro .\n",
      "Os tripulantes da TAP convocaram quatro dias de greve , noticiou o Diário Económico , que cita um comunicado enviado pelo Sindicato Nacional do Pessoal de Voo da Aviação Civil aos seus associados .\n",
      "Ao anunciar uma paralisação para trinta de outubro , um e trinta de novembro e dois de dezembro , este sindicato lembrou o «estado de degradação do ambiente laboral na empresa» e asseguram que há «constantes violações às regras laborais» .\n",
      "\n",
      "\n"
     ]
    }
   ],
   "source": [
    "print(textos[1])"
   ]
  },
  {
   "cell_type": "markdown",
   "metadata": {},
   "source": [
    "Agora vamos extrair contagens de palavras (features) a partir dos documentos.\n",
    "\n",
    "Nesta fase talvez não fosse má ideia fazer algum processamento, por exemplo, para passar a ter apenas palavras em letras minúsculas e evitar ter palavras no vocabulário tais como `«perfeito»` ou `«já`..."
   ]
  },
  {
   "cell_type": "code",
   "execution_count": 6,
   "metadata": {},
   "outputs": [
    {
     "data": {
      "text/plain": [
       "Counter({'a': 1, 'capa': 1, 'do': 2, 'livro': 1, 'pedro': 1})"
      ]
     },
     "execution_count": 6,
     "metadata": {},
     "output_type": "execute_result"
    }
   ],
   "source": [
    "def doc2wc(texto):   \n",
    "    palavras = texto.lower().strip().split()\n",
    "    return collections.Counter(palavras)\n",
    "\n",
    "doc2wc(\"A capa do livro do Pedro\")"
   ]
  },
  {
   "cell_type": "code",
   "execution_count": 7,
   "metadata": {},
   "outputs": [
    {
     "name": "stdout",
     "output_type": "stream",
     "text": [
      "Counter({'a': 20, ',': 20, '.': 13, 'de': 12, 'da': 10, 'que': 9, 'o': 9, 'do': 8, 'e': 7, 'dos': 6, 'citius': 5, 'na': 4, 'no': 4, 'plataforma': 3, 'faro': 3, 'sistema': 3, 'está': 3, 'informático': 3, 'justiça': 3, 'operacional': 3, 'em': 3, 'funcionar': 3, 'funcionários': 3, 'um': 3, 'já': 2, 'é': 2, 'nos': 2, 'tribunais': 2, 'tsf': 2, 'confirmou': 2, 'comarca': 2, 'promessa': 2, 'feita': 2, 'ontem': 2, 'responsável': 2, 'instituto': 2, 'gestão': 2, 'financeira': 2, 'equipamentos': 2, 'comarcas': 2, 'disse': 2, 'última': 2, 'novo': 2, 'mapa': 2, 'judiciário': 2, 'os': 2, 'judiciais': 2, 'ordem': 2, 'advogados': 2, 'setembro': 2, '\"': 2, 'ministra': 2, '-': 2, 'informática': 1, 'não': 1, 'uma': 1, 'dor': 1, 'cabeça': 1, 'ativo': 1, 'cumpriu-se': 1, 'pelo': 1, 'foi': 1, 'cumprida': 1, 'carlos': 1, 'brito': 1, 'garantiu': 1, 'ficaria': 1, 'todas': 1, 'as': 1, 'nova': 1, 'organização': 1, 'judiciária': 1, 'partir': 1, 'hoje': 1, '«antes': 1, 'meia-noite': 1, 'fica': 1, 'nas': 1, 'outras': 1, 'está»': 1, 'noite': 1, 'à': 1, 'agência': 1, 'lusa': 1, 'observando': 1, 'com': 1, 'levantamento': 1, '[': 1, 'ser': 1, 'intervencionada': 1, ']': 1, 'restabelecido': 1, 'nível': 1, 'nacional': 1, 'figurino': 1, 'repórter': 1, 'maria': 1, 'augusta': 1, 'casaca': 1, 'terreno': 1, 'pleno': 1, 'trabalharam': 1, 'sem': 1, 'constrangimentos': 1, 'aniceto': 1, 'massa': 1, 'sindicato': 1, 'afirmou': 1, '«hoje': 1, 'manhã': 1, 'estava': 1, 'tudo': 1, 'tirando': 1, 'alguns': 1, 'pormenores': 1, 'plenamente»': 1, 'apesar': 1, 'erros': 1, 'estarem': 1, 'corrigidos': 1, 'conselho': 1, 'distrital': 1, 'algarve': 1, 'considera': 1, 'processos': 1, 'vão': 1, 'sofrer': 1, 'atrasos': 1, 'oito': 1, 'meses': 1, 'falha': 1, 'começou': 1, 'arranque': 1, 'gerou': 1, 'críticas': 1, 'magistrados': 1, 'alertaram': 1, 'para': 1, 'caos': 1, 'gerado': 1, 'tendo': 1, 'plano': 1, 'político': 1, 'levado': 1, 'partidos': 1, 'oposição': 1, 'pedir': 1, 'demissão': 1, 'paula': 1, 'teixeira': 1, 'cruz': 1, 'ter': 1, 'sido': 1, 'informada': 1, 'estaria': 1, 'prometeu': 1, 'instaurar': 1, 'processo': 1, 'averiguações': 1, 'ao': 1, 'sucedido': 1})\n"
     ]
    }
   ],
   "source": [
    "docs = []\n",
    "for texto in textos:\n",
    "    contagens = doc2wc(texto)\n",
    "    docs.append(contagens)\n",
    "print(docs[0])"
   ]
  },
  {
   "cell_type": "markdown",
   "metadata": {},
   "source": [
    "Talvez não fosse má ideia fazer algum processamento para, por exemplo:\n",
    " * passar a ter apenas palavras em letras minúsculas\n",
    " * eliminar tokens tais como `(`, `:`, `«`, etc...\n",
    " * evitar ter palavras no vocabulário tais como `«perfeito»` ou `«já`."
   ]
  },
  {
   "cell_type": "markdown",
   "metadata": {},
   "source": [
    "Vamos agora ver qual é o vocabulário que está a ser usado ..."
   ]
  },
  {
   "cell_type": "code",
   "execution_count": 8,
   "metadata": {
    "scrolled": true
   },
   "outputs": [],
   "source": [
    "voc = set()\n",
    "for d in docs:\n",
    "    for w in d:\n",
    "        voc.add(w)"
   ]
  },
  {
   "cell_type": "code",
   "execution_count": 9,
   "metadata": {
    "scrolled": true,
    "tags": []
   },
   "outputs": [
    {
     "name": "stdout",
     "output_type": "stream",
     "text": [
      "O vocabulário tem 842 palavras\n",
      "{'pelo', 'alusiva', 'resultados', 'enquanto', 'semana', 'internacionais', 'plataforma', 'partidos', 'manifestando', 'fim', 'administração', 'falha', 'explica', 'operacionais', 'doenças', 'operação', 'democrático', 'atingido', 'quem', 'jogar', 'exerçam', 'rts', 'simango', 'televisão', 'enviado', 'fiscalização', 'associados', 'quarentena', 'levado', '«contribui', 'recentes', 'nesse', 'todos', 'guineense', 'capitão', 'teste', 'paralisação', 'primeira', 'depender', 'meia-noite', 'repatriar', 'voltar', 'ocidental', 'voto»', 'sabem', 'sérvios', 'revelou', 'em', 'ordem', 'logo', 'alterar', 'casaca', 'maputo', 'descontos', 'num', 'trinta', 'cenário', 'albanesa', 'portuguesas', 'numa', 'preparado', 'jornalistas', 'observadores', 'dezassete', 'necessárias', 'guiné-bissau', 'que', 'inferior', 'partir', 'ter', 'inclui', 'controlar', 'magistrados', 'confessa', 'sentido', 'frieden', 'reiterou', 'acordado', 'instituto', 'violações', 'garante', 'informada', 'operacional', 'suspenso', 'frase', 'apelou', 'recrutados', 'relvado', 'apelar', 'menos', 'confrontos', 'ligações', 'económico', 'cumpriu-se', 'dois', 'foram', 'inscritos', 'decretada', 'reservados', 'ministérios', 'sistema', 'diretor-geral', 'mesas»', '«se', 'relatadas', 'constrangimentos', 'acreditados', 'total', 'parlamento', 'necessário', 'marcada', 'director-geral', 'jogo', 'departamento', 'seleção', 'autoridades', 'ex-benfiquista', 'condições', 'advogados', 'minutos', '«total', 'resolveram', 'sábados', 'observação', 'um', 'acordo', 'voltou', 'diferença', 'dia', 'euro', 'encontra', 'funcionários', 'abriram', 'gerou', 'acrescentam', 'outubro', 'jornais', 'george', 'sintomas', 'gestão', 'beira', 'camarote', 'presidente', '«temos', 'realizar', 'não', 'polícia', 'república', 'sérvia-albânia', 'meu', 'lembrou', 'qualificação', 'refugiado', 'mantêm', '[', 'grupo', 'voos', 'queremos', 'adeptos', 'carlos', 'decisão', 'libertação', 'estreitas', 'corre', 'infeção', 'vírus', 'contrariou', '«constantes', 'serão', 'atentas', 'europeu»', 'albânia', 'conflito', 'demissão', 'moçambicana', 'fc', 'estar', 'tribunais', 'ébola', 'sindicato', 'amanhã', 'asseguram', 'permanente', 'libéria', 'protocolo', 'definitiva', 'dallas', 'sejam', 'quaresma', 'irmão', 'ele', 'hoje', 'sete', 'tirando', 'perante', 'tratou', 'dá', 'regulares', 'setenta', 'tripulantes', 'segurança', 'incidente', 'liberiano', 'anos', 'chegar', 'nove', 'quinhentos', 'está', 'novo', 'acusou', 'dona', 'diz', 'encontro', 'rama', 'minuto', '«hoje', 'idêntico', 'é', 'oito', 'sido', 'daquela', 'confiança', 'vez', 'segunda', 'ambiente', 'todas', 'de', 'mesa', 'comunicado', 'thomas', 'interromper', 'começado', 'cinquenta', 'rapidamente', 'afirmou', 'deputados', 'quer', 'primeiro-ministro', 'divulgado', 'prevenção', 'declarações', 'citam', 'cinco', 'responsáveis', 'representantes', 'hospital', 'local', 'quarenta', 'uefa»', 'estou', '«antes', 'eleitor', 'durante', 'mil', 'será', 'disciplina', 'ontem', 'renamo', 'candé', 'alerta', 'detetar', 'controlem', 'visita', 'acusado', 'importante', 'oferecer', 'estádio', 'assembleia', 'eleições', 'trabalharam', 'mitrovic', 'manhã', 'resistência', 'doente', 'judiciária', 'ministra', 'realização', 'ganhava', 'laboral', 'lei', 'serviços', 'juntamente', 'município', 'espalhar-se', 'eleitorais', 'nos', 'eleitores', 'retoma', 'desde', 'afirmando', 'presidência', 'mesmo', 'garantido', 'drone', 'trabalhador', 'revela', 'nada', 'faro', 'encontrar', 'votação', 'interior', 'resposta', 'vezes', 'decidir', 'audição', 'mundo', 'dgs', 'passado', '«quero', 'serra', '«perfeito»', 'defesa', 'parceria', 'chegou', 'gerado', 'tendo', 'pormenores', 'noticiou', 'apelo', 'laborais»', 'afasta', 'assembleias', 'dezoito', 'continua', 'cento', 'aconteceu', 'desastre', 'nas', 'oficial', 'técnico', 'temperatura', 'olsi', 'tudo', 'emergente', 'terças-feiras', 'conclui', 'financeira', 'eleições»', 'grande', 'justiça', 'voto', 'devido', 'pediu', 'vinte', 'capas', 'equipas', 'saudades', 'credibilidade', 'vier', 'aérea', 'ativo', 'pacientes', 'fazer', 'plenamente»', 'agora', 'sessenta', 'antecipar', 'áfrica', 'cristiano', 'bem', 'está»', 'vai', 'inem', 'seja', 'reunidas', 'plano', 'onu', 'albaneses', 'processo', 'porto', 'despistagem', 'último', 'corrigidos', 'tenham', 'legislativas', 'botche', 'direito', 'ainda', 'quando', 'outras', 'garantiu', 'seis', 'solução', 'rebentaram', 'estarem', 'anunciaram', 'momento', 'duzentos', 'chega', 'dias»', 'telecomandava', 'bola', 'imediato', 'entrem', 'carro', 'cada', 'bancadas', 'violência', 'daviz', 'outro', 'pessoas', '.', 'ajustar', 'seus', 'enfermeira', 'elevar', 'mantenha', 'augusta', 'segundo', 'morrer', 'presenciado', 'portugueses', 'nossas', 'históricos', 'civil', 'transportadora', 'estava', 'candidatos', 'os', 'interna', 'onde', 'encerram', 'continental', 'americano', 'sabia', 'entre', 'terça-feira', 'seria', 'justificar', 'terreno', 'retomar', 'já', 'reconheceu', 'contágio', 'viagens', 'décima', ':', 'assistida', 'dezasseis', 'segunda-feira', 'enfrenta', 'horas', 'teve', 'agência', 'porque', 'atrasos', 'levou', 'europa', 'feita', 'zonas', 'processos', 'entrada', 'regras', 'segurança»', 'fácil', 'primeiro', 'havia', 'prevê', 'estando', 'passageiros', 'aumento', '«pela', 'federação', 'registados', 'órgão', 'circunstâncias', 'conselho', 'erros', 'organização', 'assim', 'começou', 'dinamarca', 'venha', 'anunciou', 'nacional', ']', 'massa', 'presbiteriano', 'caso', 'fantochada»', 'considera', 'milhões', 'fará', 'era', 'estaria', 'dias', 'parece', 'stae', 'comarcas', 'nacionais', 'lisboa', 'seguidores', 'período', 'novembro', 'eleitoral', 'quatro', 'observando', 'amarga', 'sou', '«ronaldo', 'líder', 'país', 'a', 'fez', 'uma', 'tenho', 'denominada', 'sofrer', 'admitiu', 'cidadão', 'mesas', 'assegurou', 'controlo', 'diário', 'tap', 'cruzamento', 'situação', 'e', 'indicados', 'ocorreu', 'no', 'agências', 'dinâmica', 'frente', '«também', 'confissão', 'quintas', 'solo', 'detido', 'estado', 'sub', 'riscos', 'descontrolada', 'pedir', 'dezembro', 'início', '-', 'o', 'sem', 'isso', 'noventa', 'edi', 'marcador', 'ao', '«estado', 'provocou', 'ficar', 'tomaram', 'votar', 'averiguações', 'futebol', 'reconhecimento', 'brito', 'estrangeiros', 'aplica', 'ficou', 'adiada', 'provinciais', 'presidenciais', 'verificar', 'das', 'melhor', 'envolvimento', 'resto', 'missão', 'insistiu', 'pequeno', 'empresa»', 'árbitro', 'movimento', 'lusa', 'poder', 'recente', 'vota', 'alertaram', 'record', 'presidencial', 'esteve', 'estiveram', 'cumprida', 'nyusi', 'informou', 'apesar', 'centro', 'fica', 'vigor', 'kosovo', 'como', 'noite', 'guebuza', 'profissional', 'interessado', 'ou', 'moçambique', 'candidato', 'sobrevoou', 'estados', 'montou', 'ser', 'na', 'infetado', '«as', 'após', 'este', 'levantamento', 'onze', 'elogio', 'transportando', 'aviação', 'conseguiu', 'semanas', 'vitória', 'data', 'problemas', ',', 'degradação', 'albanês', 'pouco', 'saúde', 'parte', 'partida', 'votam', 'belgrado', 'se', 'judiciais', 'estão', 'nova', 'críticas', 'arranque', 'portugal', 'texas', 'dos', 'dhlakama', 'próximo', 'unidos', 'diferendos', 'mdm', 'político', '«a', 'haveria', 'tsf', 'paula', '(', 'prevista', 'oposição', 'escondeu', 'instaurar', 'violentas', 'greve', 'também', 'aniceto', 'continente', 'responsável', 'mapa', '«já', 'relações', 'partizan', 'vou', 'membros', 'adequada»', 'voo', 'por', 'sucedido', 'meses', 'causou', 'desportivos', 'cores', 'agentes', 'envolvendo', 'apela', 'convocaram', 'teixeira', 'bandeira', 'da', 'armando', 'surgiu', 'antes', 'risco', 'governo', 'com', 'francisco', 'frelimo', 'dor', 'escolher', 'cidade', 'tratando-se', 'acabou', 'figurino', 'âmbito', 'intervencionada', 'prometeu', 'alguns', 'vista', 'repórter', 'organizar', 'uefa', 'seu', 'exposto', 'meia-hora', 'diretor', 'anunciar', 'positivo', 'promessa', 'febre', 'zero', 'aos', 'profissionais', 'representados', 'inoperacional', 'diagnosticados', 'apenas', 'ligação', 'houver', 'jogada', 'decidiu', 'maria', 'sérvia', 'disse', 'europeu', 'cruz', 'filipe', 'vigiar', 'nível', 'renegados»', 'bissau', 'agravou', 'do', 'dez', 'setembro', 'altura', 'contacto', 'transparência', 'informático', 'indica', 'adiantou', 'ficaria', 'foi', 'países»', 'afonso', 'tal', 'concorrem', 'colega', 'informática', 'neste', 'extremo', 'entanto', 'cita', 'duas', 'petardos', 'ricardo', 'mais', 'ministério', 'parlamentar', 'pleno', 'ajuda', 'algarve', 'agosto', 'esse', 'razões', 'analisar', 'mas', 'mortal', 'solicita', 'há', 'longe', 'companhia', 'círculos', 'duncan', 'ia', 'última', 'nomeadamente', 'oitenta', 'nós', 'ali»', 'afirma', 'tinha', 'postos', 'funcionar', 'interrupção', 'ficando', 'ronaldo', 'secretariado', 'declarou', 'experiência', 'as', 'coligações', 'eric', 'até', 'confirmou', 'gerais', 'ministro', 'cabeça', 'procedimentos', 'restabelecido', 'aparecer', '«conheço', 'pessoal', 'distrital', 'esta', 'às', 'diariamente', 'quaresma»', 'gorongosa', 'forma', 'começaram', 'colocado', 'três', 'pham', 'jogadores', 'comissão', 'citius', 'comarca', 'correr', 'pelos', '\"', 'composição', 'tem', 'países', 'à', 'tensas', 'equipamentos', 'judiciário', 'vigilância', 'afectadas', 'aconselhando', 'diáspora', 'vários', 'para', 'depois', 'suas', 'ética', 'caos', 'nina', 'mundo»', 'partido', 'naturalmente', 'apuramento', 'sucessão', 'vão', '«não', ')', 'abandonarem'}\n"
     ]
    }
   ],
   "source": [
    "print(\"O vocabulário tem %d palavras\"% len(voc) )\n",
    "print(voc)"
   ]
  },
  {
   "cell_type": "markdown",
   "metadata": {},
   "source": [
    "### (1) Este vocabulário é agora usado para representar os nossos documentos"
   ]
  },
  {
   "cell_type": "markdown",
   "metadata": {},
   "source": [
    "Vamos agora criar um identificador para cada palavra do vocabulário"
   ]
  },
  {
   "cell_type": "code",
   "execution_count": 21,
   "metadata": {
    "scrolled": true
   },
   "outputs": [],
   "source": [
    "def create_index(voc):\n",
    "    indice = {}\n",
    "    for i,w in enumerate(sorted(voc)):\n",
    "        indice[w] = i\n",
    "    return indice"
   ]
  },
  {
   "cell_type": "code",
   "execution_count": 22,
   "metadata": {
    "scrolled": true,
    "tags": []
   },
   "outputs": [
    {
     "name": "stdout",
     "output_type": "stream",
     "text": [
      "{'-': 0, 'acordo': 1, 'adiantou': 2, 'advogados': 3, 'afirmou': 4, 'afonso': 5, 'agência': 6, 'ajustar': 7, 'albanês': 8, 'antes': 9, 'apesar': 10, 'assembleias': 11, 'assim': 12, 'até': 13, 'aviação': 14, 'bem': 15, 'botche': 16, 'brito': 17, 'cada': 18, 'candidato': 19, 'candé': 20, 'carlos': 21, 'caso': 22, 'cento': 23, 'cita': 24, 'citius': 25, 'civil': 26, 'comarca': 27, 'comarcas': 28, 'companhia': 29, 'concorrem': 30, 'confirmou': 31, 'conseguiu': 32, 'continente': 33, 'controlar': 34, 'contágio': 35, 'convocaram': 36, 'cristiano': 37, 'dallas': 38, 'declarou': 39, 'descontrolada': 40, 'devido': 41, 'dezassete': 42, 'dezembro': 43, 'dhlakama': 44, 'dinamarca': 45, 'dinâmica': 46, 'director-geral': 47, 'diretor-geral': 48, 'disse': 49, 'diz': 50, 'diário': 51, 'durante': 52, 'económico': 53, 'ele': 54, 'eleitoral': 55, 'eleitores': 56, 'eleições': 57, 'elevar': 58, 'encontro': 59, 'enfermeira': 60, 'entanto': 61, 'entre': 62, 'equipamentos': 63, 'estado': 64, 'estados': 65, 'estando': 66, 'estiveram': 67, 'europa': 68, 'europeu': 69, 'faro': 70, 'federação': 71, 'feita': 72, 'ficar': 73, 'fim': 74, 'financeira': 75, 'francisco': 76, 'frelimo': 77, 'funcionar': 78, 'funcionários': 79, 'george': 80, 'gerais': 81, 'gestão': 82, 'greve': 83, 'guiné-bissau': 84, 'horas': 85, 'incidente': 86, 'infetado': 87, 'informática': 88, 'informático': 89, 'instituto': 90, 'interna': 91, 'internacionais': 92, 'interrupção': 93, 'isso': 94, 'judiciais': 95, 'judiciário': 96, 'justiça': 97, 'local': 98, 'lusa': 99, 'líder': 100, 'mapa': 101, 'maputo': 102, 'mas': 103, 'mdm': 104, 'meia-noite': 105, 'mesas': 106, 'meu': 107, 'mil': 108, 'ministra': 109, 'ministro': 110, 'ministério': 111, 'minutos': 112, 'moçambicana': 113, 'moçambique': 114, 'nacionais': 115, 'necessário': 116, 'noite': 117, 'nomeadamente': 118, 'noticiou': 119, 'nova': 120, 'novembro': 121, 'noventa': 122, 'novo': 123, 'nível': 124, 'ocidental': 125, 'oficial': 126, 'olsi': 127, 'ontem': 128, 'operacional': 129, 'ordem': 130, 'outro': 131, 'outubro': 132, 'paralisação': 133, 'parlamento': 134, 'partido': 135, 'passado': 136, 'pessoal': 137, 'pessoas': 138, 'pham': 139, 'plataforma': 140, 'polícia': 141, 'portugal': 142, 'portugueses': 143, 'presidenciais': 144, 'primeira': 145, 'primeiro-ministro': 146, 'problemas': 147, 'processo': 148, 'profissional': 149, 'promessa': 150, 'provinciais': 151, 'quando': 152, 'quaresma': 153, 'rama': 154, 'record': 155, 'renamo': 156, 'resistência': 157, 'responsável': 158, 'resto': 159, 'retomar': 160, 'risco': 161, 'ronaldo': 162, 'saudades': 163, 'saúde': 164, 'segundo': 165, 'segurança»': 166, 'seis': 167, 'sem': 168, 'setembro': 169, 'seu': 170, 'seus': 171, 'sindicato': 172, 'sistema': 173, 'situação': 174, 'sérvia': 175, 'tal': 176, 'tap': 177, 'terça-feira': 178, 'texas': 179, 'thomas': 180, 'tinha': 181, 'todas': 182, 'transparência': 183, 'tribunais': 184, 'tripulantes': 185, 'tsf': 186, 'unidos': 187, 'vai': 188, 'vigiar': 189, 'vitória': 190, 'voo': 191, 'voos': 192, 'voto': 193, 'vão': 194, 'vírus': 195, '«total': 196, 'áfrica': 197, 'ébola': 198, 'última': 199}\n"
     ]
    }
   ],
   "source": [
    "indice = create_index(voc)\n",
    "print(indice)"
   ]
  },
  {
   "cell_type": "markdown",
   "metadata": {},
   "source": [
    "Agora sim, vamos representar os nossos documentos em vetores numéricos"
   ]
  },
  {
   "cell_type": "code",
   "execution_count": 23,
   "metadata": {
    "scrolled": true
   },
   "outputs": [
    {
     "name": "stdout",
     "output_type": "stream",
     "text": [
      "número de documentos: 10\n",
      "tamanho do documento 0: 200\n",
      "documento 0:\n",
      " [2 0 0 2 1 0 1 0 0 0 1 0 0 0 0 0 0 1 0 0 0 1 0 0 0 5 0 2 2 0 0 2 0 0 0 0 0\n",
      " 0 0 0 0 0 0 0 0 0 0 0 0 2 0 0 0 0 0 0 0 0 0 0 0 0 0 2 0 0 0 0 0 0 3 0 2 0\n",
      " 0 2 0 0 3 3 0 0 2 0 0 0 0 0 1 3 2 0 0 0 0 2 2 3 0 1 0 2 0 0 0 1 0 0 0 2 0\n",
      " 0 0 0 0 0 0 1 0 0 1 0 0 2 1 0 0 0 2 3 2 0 0 0 0 0 0 0 0 0 3 0 0 0 0 0 0 0\n",
      " 1 0 2 0 0 0 0 0 0 0 2 0 0 0 0 0 0 0 0 0 1 2 0 0 1 3 0 0 0 0 0 0 0 0 1 0 2\n",
      " 0 2 0 0 0 0 0 0 0 1 0 0 0 0 2]\n"
     ]
    }
   ],
   "source": [
    "docrep = []\n",
    "for d in docs:\n",
    "    valores = np.zeros([len(voc)], dtype=int)\n",
    "    for w in d:\n",
    "        if w in indice:\n",
    "            valores[ indice[w] ] = d[w]\n",
    "    docrep.append ( valores )\n",
    "    \n",
    "print(\"número de documentos:\", len(docrep))\n",
    "print(\"tamanho do documento 0:\", len(docrep[0]))\n",
    "print(\"documento 0:\\n\", docrep[0])"
   ]
  },
  {
   "cell_type": "markdown",
   "metadata": {},
   "source": [
    "Vamos lá ver qual o documento mais próximo do terceiro"
   ]
  },
  {
   "cell_type": "code",
   "execution_count": 24,
   "metadata": {},
   "outputs": [
    {
     "name": "stdout",
     "output_type": "stream",
     "text": [
      "similarity(3,0) is 0.030103008115114682\n",
      "similarity(3,1) is 0.0\n",
      "similarity(3,2) is 0.011927604449408546\n",
      "similarity(3,3) is 1\n",
      "similarity(3,4) is 0.00784802682246688\n",
      "similarity(3,5) is 0.3569273875816419\n",
      "similarity(3,6) is 0.025482359571881275\n",
      "similarity(3,7) is 0.0\n",
      "similarity(3,8) is 0.010187124277134085\n",
      "similarity(3,9) is 0.018148850216015644\n"
     ]
    }
   ],
   "source": [
    "from scipy.spatial import distance\n",
    "ref=3\n",
    "for i in range(len(docrep)):\n",
    "    s = 1 - distance.cosine(docrep[ref], docrep[i])\n",
    "    print(f\"similarity({ref},{i}) is {s}\")"
   ]
  },
  {
   "cell_type": "code",
   "execution_count": 25,
   "metadata": {},
   "outputs": [
    {
     "name": "stdout",
     "output_type": "stream",
     "text": [
      "\n",
      "O presidente da Renamo , Afonso Dhlakama , apelou hoje para que a polícia se mantenha longe das mesas de voto , durante as eleições gerais em Moçambique , e pediu aos eleitores que controlem o seu voto .\n",
      "«Quero apelar para que as nossas eleições não sejam violentas e para que polícia não seja dona do processo eleitoral , o processo é da Comissão Nacional de Eleições» , declarou o candidato presidencial da Renamo ( Resistência Nacional Moçambicana ) , depois de votar esta manhã , em Maputo .\n",
      "«Temos uma experiência amarga no passado , não queremos envolvimento da polícia nas mesas» , insistiu Dhlakama , que contrariou um apelo das autoridades divulgado na terça-feira , no sentido de os eleitores abandonarem os postos de votação logo que exerçam o seu direito .\n",
      "\" Parece que a polícia quer correr com os eleitores . Não é bem assim . Vou voltar com meu carro e vigiar , estou interessado , sou eleitor e tenho de controlar o meu voto» , declarou , aconselhando todos os eleitores a fazer o mesmo .\n",
      "Dhlakama enfrenta as suas quintas eleições presidenciais e apela a que «pela primeira vez , as eleições tenham credibilidade e transparência , porque todas as outras no passado foram uma fantochada» , manifestando confiança na nova lei eleitoral , que prevê representantes dos partidos de oposição nas mesas de voto .\n",
      "O líder da oposição , que esteve refugiado na serra da Gorongosa , até ao fim do recente conflito , no centro do país , reiterou que fará depender o reconhecimento dos resultados da transparência do processo eleitoral .\n",
      "\n",
      "\n"
     ]
    }
   ],
   "source": [
    "print(textos[ref])"
   ]
  },
  {
   "cell_type": "code",
   "execution_count": 26,
   "metadata": {},
   "outputs": [
    {
     "name": "stdout",
     "output_type": "stream",
     "text": [
      "\n",
      "As assembleias de voto para as eleições gerais em Moçambique abriram hoje às sete horas ( seis horas em Portugal ) , estando registados mais de dez milhões de eleitores para escolher o próximo Presidente da República e composição do parlamento e assembleias provinciais .\n",
      "Os candidatos presidenciais da Frelimo ( Frente de Libertação de Moçambique ) , partido no poder em Moçambique , Filipe Nyusi , e da Renamo ( Resistência Nacional Moçambicana ) , Afonso Dhlakama , líder da oposição , votam no mesmo local , com meia-hora de diferença ao início da manhã no centro de Maputo .\n",
      "O outro candidato à sucessão de Armando Guebuza na presidência moçambicana , Daviz Simango , líder do partido emergente MDM ( Movimento Democrático de Moçambique ) vota na Beira , a segunda cidade moçambicana , onde é presidente do município local desde dois mil e três .\n",
      "Para as eleições legislativas e assembleias provinciais , concorrem trinta partidos e coligações , mas apenas Frelimo , Renamo e MDM concorrem nos onze círculos eleitorais do país e nos dois da diáspora , nomeadamente África e Resto do Mundo , que inclui mil duzentos e oitenta e quatro eleitores em Portugal .\n",
      "O Secretariado Técnico de Administração Eleitoral ( STAE ) montou dezassete mil cento e noventa e nove mesas de assembleias de voto . Cada mesa será assistida por sete membros , quatro recrutados pelo órgão e três indicados pelos três partidos representados na Assembleia , nomeadamente Frelimo , Renamo e MDM .\n",
      "Mais de cinco mil observadores nacionais e quinhentos internacionais estão inscritos para a fiscalização das eleições gerais , estando acreditados dois mil jornalistas nacionais e cinquenta estrangeiros . As assembleias de voto encerram às dezoito horas ( dezassete horas em Portugal continental ) .\n",
      "\n",
      "\n"
     ]
    }
   ],
   "source": [
    "print(textos[5])"
   ]
  },
  {
   "cell_type": "markdown",
   "metadata": {},
   "source": [
    "## IDF para identificar os termos mais relevantes"
   ]
  },
  {
   "cell_type": "code",
   "execution_count": 16,
   "metadata": {},
   "outputs": [],
   "source": [
    "def idf(df, ndocs):\n",
    "    return np.log(ndocs/df)"
   ]
  },
  {
   "cell_type": "code",
   "execution_count": 17,
   "metadata": {},
   "outputs": [],
   "source": [
    "tf = collections.Counter()\n",
    "df = collections.Counter()\n",
    "for d in docs:\n",
    "    for w in d:\n",
    "        tf[w] += d[w]\n",
    "        df[w] += 1\n",
    "        \n",
    "idfs = {}\n",
    "for w in tf:\n",
    "    if tf[w] > 1:\n",
    "        idfs[w] = idf(df[w], len(docs))"
   ]
  },
  {
   "cell_type": "code",
   "execution_count": 18,
   "metadata": {},
   "outputs": [
    {
     "name": "stdout",
     "output_type": "stream",
     "text": [
      "em 28 9 10 0.10536051565782635\n",
      "com 22 8 10 0.22314355131420976\n",
      "de 92 10 10 0.0\n",
      "uefa 1 1 10 2.302585092994046\n",
      "marcador 2 2 10 1.6094379124341003\n",
      "voto 6 2 10 1.6094379124341003\n",
      "cristiano 2 1 10 2.302585092994046\n",
      "tap 4 2 10 1.6094379124341003\n"
     ]
    }
   ],
   "source": [
    "for w in [\"em\", \"com\", \"de\", \"uefa\", \"marcador\", \"voto\", \"cristiano\", \"tap\"]:\n",
    "    print(w, tf[w], df[w], len(docs), idf(df[w], len(docs)))"
   ]
  },
  {
   "cell_type": "code",
   "execution_count": 19,
   "metadata": {
    "scrolled": true
   },
   "outputs": [
    {
     "data": {
      "text/plain": [
       "[('tribunais', 2.302585092994046),\n",
       " ('tsf', 2.302585092994046),\n",
       " ('confirmou', 2.302585092994046),\n",
       " ('sistema', 2.302585092994046),\n",
       " ('promessa', 2.302585092994046),\n",
       " ('feita', 2.302585092994046),\n",
       " ('última', 2.302585092994046),\n",
       " ('funcionários', 2.302585092994046),\n",
       " ('judiciais', 2.302585092994046),\n",
       " ('ordem', 2.302585092994046),\n",
       " ('advogados', 2.302585092994046),\n",
       " ('setembro', 2.302585092994046),\n",
       " ('ministra', 2.302585092994046),\n",
       " ('-', 2.302585092994046),\n",
       " ('tripulantes', 2.302585092994046),\n",
       " ('convocaram', 2.302585092994046),\n",
       " ('greve', 2.302585092994046),\n",
       " ('noticiou', 2.302585092994046),\n",
       " ('diário', 2.302585092994046),\n",
       " ('económico', 2.302585092994046),\n",
       " ('paralisação', 2.302585092994046),\n",
       " ('pessoal', 2.302585092994046),\n",
       " ('voo', 2.302585092994046),\n",
       " ('aviação', 2.302585092994046),\n",
       " ('civil', 2.302585092994046),\n",
       " ('novembro', 2.302585092994046),\n",
       " ('dezembro', 2.302585092994046),\n",
       " ('francisco', 2.302585092994046),\n",
       " ('george', 2.302585092994046),\n",
       " ('diretor-geral', 2.302585092994046),\n",
       " ('ocidental', 2.302585092994046),\n",
       " ('descontrolada', 2.302585092994046),\n",
       " ('continente', 2.302585092994046),\n",
       " ('elevar', 2.302585092994046),\n",
       " ('entanto', 2.302585092994046),\n",
       " ('tal', 2.302585092994046),\n",
       " ('director-geral', 2.302585092994046),\n",
       " ('europa', 2.302585092994046),\n",
       " ('polícia', 2.302585092994046),\n",
       " ('seu', 2.302585092994046),\n",
       " ('declarou', 2.302585092994046),\n",
       " ('passado', 2.302585092994046),\n",
       " ('meu', 2.302585092994046),\n",
       " ('transparência', 2.302585092994046),\n",
       " ('adiantou', 2.302585092994046),\n",
       " ('ficar', 2.302585092994046),\n",
       " ('ajustar', 2.302585092994046),\n",
       " ('dinâmica', 2.302585092994046),\n",
       " ('assembleias', 2.302585092994046),\n",
       " ('horas', 2.302585092994046),\n",
       " ('estando', 2.302585092994046),\n",
       " ('provinciais', 2.302585092994046),\n",
       " ('frelimo', 2.302585092994046),\n",
       " ('partido', 2.302585092994046),\n",
       " ('mdm', 2.302585092994046),\n",
       " ('concorrem', 2.302585092994046),\n",
       " ('nomeadamente', 2.302585092994046),\n",
       " ('dezassete', 2.302585092994046),\n",
       " ('nacionais', 2.302585092994046),\n",
       " ('unidos', 2.302585092994046),\n",
       " ('profissional', 2.302585092994046),\n",
       " ('infetado', 2.302585092994046),\n",
       " ('texas', 2.302585092994046),\n",
       " ('dallas', 2.302585092994046),\n",
       " ('pessoas', 2.302585092994046),\n",
       " ('estiveram', 2.302585092994046),\n",
       " ('thomas', 2.302585092994046),\n",
       " ('enfermeira', 2.302585092994046),\n",
       " ('pham', 2.302585092994046),\n",
       " ('retomar', 2.302585092994046),\n",
       " ('voos', 2.302585092994046),\n",
       " ('ministro', 2.302585092994046),\n",
       " ('botche', 2.302585092994046),\n",
       " ('candé', 2.302585092994046),\n",
       " ('«total', 2.302585092994046),\n",
       " ('segurança»', 2.302585092994046),\n",
       " ('companhia', 2.302585092994046),\n",
       " ('olsi', 2.302585092994046),\n",
       " ('rama', 2.302585092994046),\n",
       " ('primeiro-ministro', 2.302585092994046),\n",
       " ('albanês', 2.302585092994046),\n",
       " ('incidente', 2.302585092994046),\n",
       " ('interrupção', 2.302585092994046),\n",
       " ('oficial', 2.302585092994046),\n",
       " ('sérvia', 2.302585092994046),\n",
       " ('encontro', 2.302585092994046),\n",
       " ('federação', 2.302585092994046),\n",
       " ('cristiano', 2.302585092994046),\n",
       " ('ronaldo', 2.302585092994046),\n",
       " ('quaresma', 2.302585092994046),\n",
       " ('vitória', 2.302585092994046),\n",
       " ('dinamarca', 2.302585092994046),\n",
       " ('minutos', 2.302585092994046),\n",
       " ('saudades', 2.302585092994046),\n",
       " ('conseguiu', 2.302585092994046),\n",
       " ('record', 2.302585092994046),\n",
       " ('plataforma', 1.6094379124341003),\n",
       " ('informática', 1.6094379124341003),\n",
       " ('comarca', 1.6094379124341003),\n",
       " ('faro', 1.6094379124341003),\n",
       " ('ontem', 1.6094379124341003),\n",
       " ('responsável', 1.6094379124341003),\n",
       " ('informático', 1.6094379124341003),\n",
       " ('instituto', 1.6094379124341003),\n",
       " ('gestão', 1.6094379124341003),\n",
       " ('financeira', 1.6094379124341003),\n",
       " ('equipamentos', 1.6094379124341003),\n",
       " ('justiça', 1.6094379124341003),\n",
       " ('carlos', 1.6094379124341003),\n",
       " ('brito', 1.6094379124341003),\n",
       " ('citius', 1.6094379124341003),\n",
       " ('operacional', 1.6094379124341003),\n",
       " ('todas', 1.6094379124341003),\n",
       " ('comarcas', 1.6094379124341003),\n",
       " ('nova', 1.6094379124341003),\n",
       " ('meia-noite', 1.6094379124341003),\n",
       " ('disse', 1.6094379124341003),\n",
       " ('noite', 1.6094379124341003),\n",
       " ('agência', 1.6094379124341003),\n",
       " ('lusa', 1.6094379124341003),\n",
       " ('nível', 1.6094379124341003),\n",
       " ('novo', 1.6094379124341003),\n",
       " ('mapa', 1.6094379124341003),\n",
       " ('judiciário', 1.6094379124341003),\n",
       " ('funcionar', 1.6094379124341003),\n",
       " ('sem', 1.6094379124341003),\n",
       " ('sindicato', 1.6094379124341003),\n",
       " ('afirmou', 1.6094379124341003),\n",
       " ('apesar', 1.6094379124341003),\n",
       " ('vão', 1.6094379124341003),\n",
       " ('processo', 1.6094379124341003),\n",
       " ('tap', 1.6094379124341003),\n",
       " ('outubro', 1.6094379124341003),\n",
       " ('cita', 1.6094379124341003),\n",
       " ('seus', 1.6094379124341003),\n",
       " ('saúde', 1.6094379124341003),\n",
       " ('situação', 1.6094379124341003),\n",
       " ('áfrica', 1.6094379124341003),\n",
       " ('europeu', 1.6094379124341003),\n",
       " ('isso', 1.6094379124341003),\n",
       " ('vai', 1.6094379124341003),\n",
       " ('contágio', 1.6094379124341003),\n",
       " ('mas', 1.6094379124341003),\n",
       " ('vírus', 1.6094379124341003),\n",
       " ('ébola', 1.6094379124341003),\n",
       " ('parlamento', 1.6094379124341003),\n",
       " ('problemas', 1.6094379124341003),\n",
       " ('guiné-bissau', 1.6094379124341003),\n",
       " ('risco', 1.6094379124341003),\n",
       " ('caso', 1.6094379124341003),\n",
       " ('devido', 1.6094379124341003),\n",
       " ('entre', 1.6094379124341003),\n",
       " ('ele', 1.6094379124341003),\n",
       " ('diz', 1.6094379124341003),\n",
       " ('estado', 1.6094379124341003),\n",
       " ('interna', 1.6094379124341003),\n",
       " ('necessário', 1.6094379124341003),\n",
       " ('portugueses', 1.6094379124341003),\n",
       " ('durante', 1.6094379124341003),\n",
       " ('assim', 1.6094379124341003),\n",
       " ('renamo', 1.6094379124341003),\n",
       " ('afonso', 1.6094379124341003),\n",
       " ('dhlakama', 1.6094379124341003),\n",
       " ('mesas', 1.6094379124341003),\n",
       " ('voto', 1.6094379124341003),\n",
       " ('eleições', 1.6094379124341003),\n",
       " ('gerais', 1.6094379124341003),\n",
       " ('moçambique', 1.6094379124341003),\n",
       " ('eleitores', 1.6094379124341003),\n",
       " ('eleitoral', 1.6094379124341003),\n",
       " ('candidato', 1.6094379124341003),\n",
       " ('resistência', 1.6094379124341003),\n",
       " ('moçambicana', 1.6094379124341003),\n",
       " ('maputo', 1.6094379124341003),\n",
       " ('terça-feira', 1.6094379124341003),\n",
       " ('bem', 1.6094379124341003),\n",
       " ('vigiar', 1.6094379124341003),\n",
       " ('controlar', 1.6094379124341003),\n",
       " ('presidenciais', 1.6094379124341003),\n",
       " ('primeira', 1.6094379124341003),\n",
       " ('líder', 1.6094379124341003),\n",
       " ('até', 1.6094379124341003),\n",
       " ('fim', 1.6094379124341003),\n",
       " ('ministério', 1.6094379124341003),\n",
       " ('cada', 1.6094379124341003),\n",
       " ('tinha', 1.6094379124341003),\n",
       " ('quando', 1.6094379124341003),\n",
       " ('seis', 1.6094379124341003),\n",
       " ('antes', 1.6094379124341003),\n",
       " ('portugal', 1.6094379124341003),\n",
       " ('local', 1.6094379124341003),\n",
       " ('outro', 1.6094379124341003),\n",
       " ('mil', 1.6094379124341003),\n",
       " ('resto', 1.6094379124341003),\n",
       " ('cento', 1.6094379124341003),\n",
       " ('noventa', 1.6094379124341003),\n",
       " ('internacionais', 1.6094379124341003),\n",
       " ('estados', 1.6094379124341003),\n",
       " ('segundo', 1.6094379124341003),\n",
       " ('acordo', 1.6094379124341003),\n",
       " ('serviços', 1.6094379124341003),\n",
       " ('teve', 1.6094379124341003),\n",
       " ('imediato', 1.6094379124341003),\n",
       " ('controlo', 1.6094379124341003),\n",
       " ('duas', 1.6094379124341003),\n",
       " ('dia', 1.6094379124341003),\n",
       " ('anunciou', 1.6094379124341003),\n",
       " ('após', 1.6094379124341003),\n",
       " ('período', 1.6094379124341003),\n",
       " ('ou', 1.6094379124341003),\n",
       " ('partida', 1.6094379124341003),\n",
       " ('belgrado', 1.6094379124341003),\n",
       " ('jogo', 1.6094379124341003),\n",
       " ('estádio', 1.6094379124341003),\n",
       " ('drone', 1.6094379124341003),\n",
       " ('sobrevoou', 1.6094379124341003),\n",
       " ('relvado', 1.6094379124341003),\n",
       " ('bandeira', 1.6094379124341003),\n",
       " ('albânia', 1.6094379124341003),\n",
       " ('confrontos', 1.6094379124341003),\n",
       " ('jogadores', 1.6094379124341003),\n",
       " ('adeptos', 1.6094379124341003),\n",
       " ('sérvios', 1.6094379124341003),\n",
       " ('árbitro', 1.6094379124341003),\n",
       " ('interromper', 1.6094379124341003),\n",
       " ('minuto', 1.6094379124341003),\n",
       " ('zero', 1.6094379124341003),\n",
       " ('marcador', 1.6094379124341003),\n",
       " ('aconteceu', 1.6094379124341003),\n",
       " ('anos', 1.6094379124341003),\n",
       " ('albaneses', 1.6094379124341003),\n",
       " ('já', 1.2039728043259361),\n",
       " ('nos', 1.2039728043259361),\n",
       " ('garantiu', 1.2039728043259361),\n",
       " ('partir', 1.2039728043259361),\n",
       " ('outras', 1.2039728043259361),\n",
       " ('ser', 1.2039728043259361),\n",
       " ('manhã', 1.2039728043259361),\n",
       " ('oito', 1.2039728043259361),\n",
       " ('partidos', 1.2039728043259361),\n",
       " ('oposição', 1.2039728043259361),\n",
       " ('ter', 1.2039728043259361),\n",
       " ('quatro', 1.2039728043259361),\n",
       " ('dias', 1.2039728043259361),\n",
       " ('trinta', 1.2039728043259361),\n",
       " ('comunicado', 1.2039728043259361),\n",
       " ('há', 1.2039728043259361),\n",
       " ('autoridades', 1.2039728043259361),\n",
       " ('estão', 1.2039728043259361),\n",
       " ('presidente', 1.2039728043259361),\n",
       " ('país', 1.2039728043259361),\n",
       " ('ainda', 1.2039728043259361),\n",
       " ('contacto', 1.2039728043259361),\n",
       " ('administração', 1.2039728043259361),\n",
       " ('comissão', 1.2039728043259361),\n",
       " ('(', 1.2039728043259361),\n",
       " (')', 1.2039728043259361),\n",
       " ('depois', 1.2039728043259361),\n",
       " ('centro', 1.2039728043259361),\n",
       " ('três', 1.2039728043259361),\n",
       " ('sete', 1.2039728043259361),\n",
       " ('quarenta', 1.2039728043259361),\n",
       " ('está', 0.9162907318741551),\n",
       " ('nas', 0.9162907318741551),\n",
       " ('nacional', 0.9162907318741551),\n",
       " ('estava', 0.9162907318741551),\n",
       " ('\"', 0.9162907318741551),\n",
       " ('aos', 0.9162907318741551),\n",
       " ('às', 0.9162907318741551),\n",
       " ('mais', 0.9162907318741551),\n",
       " ('vinte', 0.9162907318741551),\n",
       " ('cinco', 0.9162907318741551),\n",
       " ('é', 0.6931471805599453),\n",
       " ('pelo', 0.6931471805599453),\n",
       " ('dos', 0.6931471805599453),\n",
       " ('foi', 0.6931471805599453),\n",
       " ('hoje', 0.6931471805599453),\n",
       " ('por', 0.6931471805599453),\n",
       " ('mesmo', 0.6931471805599453),\n",
       " ('se', 0.6931471805599453),\n",
       " ('das', 0.6931471805599453),\n",
       " ('uma', 0.5108256237659907),\n",
       " ('à', 0.5108256237659907),\n",
       " ('dois', 0.5108256237659907),\n",
       " ('as', 0.3566749439387324),\n",
       " ('no', 0.3566749439387324),\n",
       " ('não', 0.22314355131420976),\n",
       " ('com', 0.22314355131420976),\n",
       " ('ao', 0.22314355131420976),\n",
       " ('na', 0.10536051565782635),\n",
       " ('do', 0.10536051565782635),\n",
       " ('em', 0.10536051565782635),\n",
       " ('os', 0.10536051565782635),\n",
       " ('um', 0.10536051565782635),\n",
       " ('para', 0.10536051565782635),\n",
       " ('a', 0.0),\n",
       " ('de', 0.0),\n",
       " ('.', 0.0),\n",
       " (',', 0.0),\n",
       " ('que', 0.0),\n",
       " ('o', 0.0),\n",
       " ('e', 0.0),\n",
       " ('da', 0.0)]"
      ]
     },
     "execution_count": 19,
     "metadata": {},
     "output_type": "execute_result"
    }
   ],
   "source": [
    "sorted(idfs.items(), key=operator.itemgetter(1), reverse=True)"
   ]
  },
  {
   "cell_type": "markdown",
   "metadata": {},
   "source": [
    "Agora que sabemos quais as palavras mais importantes, podemos definir novo vocabulário ..."
   ]
  },
  {
   "cell_type": "code",
   "execution_count": 20,
   "metadata": {
    "scrolled": true
   },
   "outputs": [
    {
     "data": {
      "text/plain": [
       "['tribunais',\n",
       " 'tsf',\n",
       " 'confirmou',\n",
       " 'sistema',\n",
       " 'promessa',\n",
       " 'feita',\n",
       " 'última',\n",
       " 'funcionários',\n",
       " 'judiciais',\n",
       " 'ordem',\n",
       " 'advogados',\n",
       " 'setembro',\n",
       " 'ministra',\n",
       " '-',\n",
       " 'tripulantes',\n",
       " 'convocaram',\n",
       " 'greve',\n",
       " 'noticiou',\n",
       " 'diário',\n",
       " 'económico',\n",
       " 'paralisação',\n",
       " 'pessoal',\n",
       " 'voo',\n",
       " 'aviação',\n",
       " 'civil',\n",
       " 'novembro',\n",
       " 'dezembro',\n",
       " 'francisco',\n",
       " 'george',\n",
       " 'diretor-geral',\n",
       " 'ocidental',\n",
       " 'descontrolada',\n",
       " 'continente',\n",
       " 'elevar',\n",
       " 'entanto',\n",
       " 'tal',\n",
       " 'director-geral',\n",
       " 'europa',\n",
       " 'polícia',\n",
       " 'seu',\n",
       " 'declarou',\n",
       " 'passado',\n",
       " 'meu',\n",
       " 'transparência',\n",
       " 'adiantou',\n",
       " 'ficar',\n",
       " 'ajustar',\n",
       " 'dinâmica',\n",
       " 'assembleias',\n",
       " 'horas',\n",
       " 'estando',\n",
       " 'provinciais',\n",
       " 'frelimo',\n",
       " 'partido',\n",
       " 'mdm',\n",
       " 'concorrem',\n",
       " 'nomeadamente',\n",
       " 'dezassete',\n",
       " 'nacionais',\n",
       " 'unidos',\n",
       " 'profissional',\n",
       " 'infetado',\n",
       " 'texas',\n",
       " 'dallas',\n",
       " 'pessoas',\n",
       " 'estiveram',\n",
       " 'thomas',\n",
       " 'enfermeira',\n",
       " 'pham',\n",
       " 'retomar',\n",
       " 'voos',\n",
       " 'ministro',\n",
       " 'botche',\n",
       " 'candé',\n",
       " '«total',\n",
       " 'segurança»',\n",
       " 'companhia',\n",
       " 'olsi',\n",
       " 'rama',\n",
       " 'primeiro-ministro',\n",
       " 'albanês',\n",
       " 'incidente',\n",
       " 'interrupção',\n",
       " 'oficial',\n",
       " 'sérvia',\n",
       " 'encontro',\n",
       " 'federação',\n",
       " 'cristiano',\n",
       " 'ronaldo',\n",
       " 'quaresma',\n",
       " 'vitória',\n",
       " 'dinamarca',\n",
       " 'minutos',\n",
       " 'saudades',\n",
       " 'conseguiu',\n",
       " 'record',\n",
       " 'plataforma',\n",
       " 'informática',\n",
       " 'comarca',\n",
       " 'faro',\n",
       " 'ontem',\n",
       " 'responsável',\n",
       " 'informático',\n",
       " 'instituto',\n",
       " 'gestão',\n",
       " 'financeira',\n",
       " 'equipamentos',\n",
       " 'justiça',\n",
       " 'carlos',\n",
       " 'brito',\n",
       " 'citius',\n",
       " 'operacional',\n",
       " 'todas',\n",
       " 'comarcas',\n",
       " 'nova',\n",
       " 'meia-noite',\n",
       " 'disse',\n",
       " 'noite',\n",
       " 'agência',\n",
       " 'lusa',\n",
       " 'nível',\n",
       " 'novo',\n",
       " 'mapa',\n",
       " 'judiciário',\n",
       " 'funcionar',\n",
       " 'sem',\n",
       " 'sindicato',\n",
       " 'afirmou',\n",
       " 'apesar',\n",
       " 'vão',\n",
       " 'processo',\n",
       " 'tap',\n",
       " 'outubro',\n",
       " 'cita',\n",
       " 'seus',\n",
       " 'saúde',\n",
       " 'situação',\n",
       " 'áfrica',\n",
       " 'europeu',\n",
       " 'isso',\n",
       " 'vai',\n",
       " 'contágio',\n",
       " 'mas',\n",
       " 'vírus',\n",
       " 'ébola',\n",
       " 'parlamento',\n",
       " 'problemas',\n",
       " 'guiné-bissau',\n",
       " 'risco',\n",
       " 'caso',\n",
       " 'devido',\n",
       " 'entre',\n",
       " 'ele',\n",
       " 'diz',\n",
       " 'estado',\n",
       " 'interna',\n",
       " 'necessário',\n",
       " 'portugueses',\n",
       " 'durante',\n",
       " 'assim',\n",
       " 'renamo',\n",
       " 'afonso',\n",
       " 'dhlakama',\n",
       " 'mesas',\n",
       " 'voto',\n",
       " 'eleições',\n",
       " 'gerais',\n",
       " 'moçambique',\n",
       " 'eleitores',\n",
       " 'eleitoral',\n",
       " 'candidato',\n",
       " 'resistência',\n",
       " 'moçambicana',\n",
       " 'maputo',\n",
       " 'terça-feira',\n",
       " 'bem',\n",
       " 'vigiar',\n",
       " 'controlar',\n",
       " 'presidenciais',\n",
       " 'primeira',\n",
       " 'líder',\n",
       " 'até',\n",
       " 'fim',\n",
       " 'ministério',\n",
       " 'cada',\n",
       " 'tinha',\n",
       " 'quando',\n",
       " 'seis',\n",
       " 'antes',\n",
       " 'portugal',\n",
       " 'local',\n",
       " 'outro',\n",
       " 'mil',\n",
       " 'resto',\n",
       " 'cento',\n",
       " 'noventa',\n",
       " 'internacionais',\n",
       " 'estados',\n",
       " 'segundo',\n",
       " 'acordo']"
      ]
     },
     "execution_count": 20,
     "metadata": {},
     "output_type": "execute_result"
    }
   ],
   "source": [
    "voc=sorted(idfs, key=idfs.get, reverse=True)[:200]\n",
    "voc"
   ]
  },
  {
   "cell_type": "markdown",
   "metadata": {},
   "source": [
    "Podemos agora voltar acima ao ponto (1) e representar os documentos com este novo vocabulário, definindo novo índice ... \n",
    "Talvez chegue à conclusão que o par de documentos mais similar não é o 3 e o 5."
   ]
  },
  {
   "cell_type": "code",
   "execution_count": null,
   "metadata": {},
   "outputs": [],
   "source": []
  }
 ],
 "metadata": {
  "kernelspec": {
   "display_name": "Python 3",
   "language": "python",
   "name": "python3"
  },
  "language_info": {
   "codemirror_mode": {
    "name": "ipython",
    "version": 3
   },
   "file_extension": ".py",
   "mimetype": "text/x-python",
   "name": "python",
   "nbconvert_exporter": "python",
   "pygments_lexer": "ipython3",
   "version": "3.8.10"
  }
 },
 "nbformat": 4,
 "nbformat_minor": 4
}
