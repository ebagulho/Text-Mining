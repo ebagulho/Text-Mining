{
 "cells": [
  {
   "cell_type": "code",
   "execution_count": null,
   "metadata": {},
   "outputs": [],
   "source": [
    "import sys\n",
    "import gzip\n",
    "import numpy as np\n",
    "import glob\n",
    "import collections\n",
    "import operator\n",
    "from pprint import pprint  "
   ]
  },
  {
   "cell_type": "markdown",
   "metadata": {},
   "source": [
    "Caso esteja a utilizar o google colab, deve seguir as instruções disponíveis no moodle\n",
    "e correr a célula seguinte"
   ]
  },
  {
   "cell_type": "code",
   "execution_count": null,
   "metadata": {},
   "outputs": [],
   "source": [
    "# Apenas para quem usa o google colab\n",
    "from google.colab import drive\n",
    "drive.mount('/content/drive')\n",
    "%cd /content/drive/MyDrive/Iscte/TM/data"
   ]
  },
  {
   "cell_type": "code",
   "execution_count": null,
   "metadata": {},
   "outputs": [],
   "source": [
    "ficheiros=glob.glob(\"../data/pt/tsf.selecionado/*.gz\")\n",
    "print(ficheiros)"
   ]
  },
  {
   "cell_type": "code",
   "execution_count": null,
   "metadata": {},
   "outputs": [],
   "source": [
    "textos = []\n",
    "for fname in ficheiros:\n",
    "    f=gzip.open(fname, \"rt\", encoding=\"utf-8\")\n",
    "    texto = f.readlines()\n",
    "    texto = \"\".join(texto)\n",
    "    textos.append(texto)\n",
    "print(\"Tenho guardados %d documentos\"% len(textos))"
   ]
  },
  {
   "cell_type": "code",
   "execution_count": null,
   "metadata": {},
   "outputs": [],
   "source": [
    "print(textos[0])"
   ]
  },
  {
   "cell_type": "markdown",
   "metadata": {},
   "source": [
    "Agora vamos extrair contagens de palavras (features) a partir dos documentos.\n",
    "\n",
    "Nesta fase talvez não fosse má ideia fazer algum processamento, por exemplo, para passar a ter apenas palavras em letras minúsculas e evitar ter palavras no vocabulário tais como `«perfeito»` ou `«já`..."
   ]
  },
  {
   "cell_type": "code",
   "execution_count": null,
   "metadata": {},
   "outputs": [],
   "source": [
    "def doc2wc(texto):   \n",
    "    palavras = texto.lower().strip().split()\n",
    "    return collections.Counter(palavras)\n",
    "\n",
    "doc2wc(\"A capa do livro do Pedro\")"
   ]
  },
  {
   "cell_type": "code",
   "execution_count": null,
   "metadata": {},
   "outputs": [],
   "source": [
    "docs = []\n",
    "for texto in textos:\n",
    "    contagens = doc2wc(texto)\n",
    "    docs.append(contagens)\n",
    "print(docs[0])"
   ]
  },
  {
   "cell_type": "markdown",
   "metadata": {},
   "source": [
    "Talvez não fosse má ideia fazer algum processamento para, por exemplo:\n",
    " * passar a ter apenas palavras em letras minúsculas\n",
    " * eliminar tokens tais como `(`, `:`, `«`, etc...\n",
    " * evitar ter palavras no vocabulário tais como `«perfeito»` ou `«já`."
   ]
  },
  {
   "cell_type": "markdown",
   "metadata": {},
   "source": [
    "Vamos agora ver qual é o vocabulário que está a ser usado ..."
   ]
  },
  {
   "cell_type": "code",
   "execution_count": null,
   "metadata": {
    "scrolled": true
   },
   "outputs": [],
   "source": [
    "voc = set()\n",
    "for d in docs:\n",
    "    for w in d:\n",
    "        voc.add(w)"
   ]
  },
  {
   "cell_type": "code",
   "execution_count": null,
   "metadata": {
    "scrolled": true,
    "tags": []
   },
   "outputs": [],
   "source": [
    "print(\"O vocabulário tem %d palavras\"% len(voc) )\n",
    "voc"
   ]
  },
  {
   "cell_type": "markdown",
   "metadata": {},
   "source": [
    "### Este vocabulário é agora usado para representar os nossos documentos"
   ]
  },
  {
   "cell_type": "markdown",
   "metadata": {},
   "source": [
    "Vamos agora criar um identificador para cada palavra do vocabulário"
   ]
  },
  {
   "cell_type": "code",
   "execution_count": null,
   "metadata": {
    "scrolled": true
   },
   "outputs": [],
   "source": [
    "def create_index(voc):\n",
    "    indice = {}\n",
    "    for i,w in enumerate(sorted(voc)):\n",
    "        indice[w] = i\n",
    "    return indice"
   ]
  },
  {
   "cell_type": "code",
   "execution_count": null,
   "metadata": {
    "scrolled": true,
    "tags": []
   },
   "outputs": [],
   "source": [
    "indice = create_index(voc)\n",
    "indice"
   ]
  },
  {
   "cell_type": "markdown",
   "metadata": {},
   "source": [
    "Agora sim, vamos representar os nossos documentos em vetores numéricos"
   ]
  },
  {
   "cell_type": "code",
   "execution_count": null,
   "metadata": {
    "scrolled": true
   },
   "outputs": [],
   "source": [
    "docrep = []\n",
    "for d in docs:\n",
    "    valores = np.zeros([len(voc)], dtype=int)\n",
    "    for w in d:\n",
    "        if w in indice:\n",
    "            valores[ indice[w] ] = d[w]\n",
    "    docrep.append ( valores )\n",
    "docrep"
   ]
  },
  {
   "cell_type": "markdown",
   "metadata": {},
   "source": [
    "Vamos lá ver qual o documento mais próximo do terceiro"
   ]
  },
  {
   "cell_type": "code",
   "execution_count": null,
   "metadata": {},
   "outputs": [],
   "source": [
    "from scipy.spatial import distance\n",
    "ref=3\n",
    "for i in range(len(docrep)):\n",
    "    print(\"similarity(%d,%d)=%f\"% (ref,i, 1 - distance.cosine(docrep[ref], docrep[i])) )"
   ]
  },
  {
   "cell_type": "code",
   "execution_count": null,
   "metadata": {},
   "outputs": [],
   "source": [
    "print(textos[ref])"
   ]
  },
  {
   "cell_type": "code",
   "execution_count": null,
   "metadata": {},
   "outputs": [],
   "source": [
    "print(textos[6])"
   ]
  },
  {
   "cell_type": "markdown",
   "metadata": {},
   "source": [
    "## IDF para identificar os termos mais relevantes"
   ]
  },
  {
   "cell_type": "code",
   "execution_count": null,
   "metadata": {},
   "outputs": [],
   "source": [
    "def idf(df, ndocs):\n",
    "    return np.log(ndocs/df)"
   ]
  },
  {
   "cell_type": "code",
   "execution_count": null,
   "metadata": {},
   "outputs": [],
   "source": [
    "tf = collections.Counter()\n",
    "df = collections.Counter()\n",
    "for d in docs:\n",
    "    for w in d:\n",
    "        tf[w] += d[w]\n",
    "        df[w] += 1\n",
    "        \n",
    "idfs = {}\n",
    "for w in tf:\n",
    "    if tf[w] > 1:\n",
    "        idfs[w] = idf(df[w], len(docs))"
   ]
  },
  {
   "cell_type": "code",
   "execution_count": null,
   "metadata": {},
   "outputs": [],
   "source": [
    "for w in [\"em\", \"com\", \"de\", \"uefa\", \"marcador\", \"voto\", \"cristiano\", \"tap\"]:\n",
    "    print(w, tf[w], df[w], len(docs), idf(df[w], len(docs)))"
   ]
  },
  {
   "cell_type": "code",
   "execution_count": null,
   "metadata": {
    "scrolled": true
   },
   "outputs": [],
   "source": [
    "sorted(idfs.items(), key=operator.itemgetter(1), reverse=True)"
   ]
  },
  {
   "cell_type": "markdown",
   "metadata": {},
   "source": [
    "Agora que sabemos quais as palavras mais importantes, podemos definir novo vocabulário ..."
   ]
  },
  {
   "cell_type": "code",
   "execution_count": null,
   "metadata": {
    "scrolled": true
   },
   "outputs": [],
   "source": [
    "voc=sorted(idfs, key=idfs.get, reverse=True)[:200]\n",
    "voc"
   ]
  },
  {
   "cell_type": "markdown",
   "metadata": {},
   "source": [
    "Podemos agora voltar acima e representar os documentos com este novo vocabulário, definindo novo índice ... \n",
    "Talvez chegue à conclusão que o par de documentos mais similar não é o 3 e o 5."
   ]
  },
  {
   "cell_type": "code",
   "execution_count": null,
   "metadata": {},
   "outputs": [],
   "source": []
  }
 ],
 "metadata": {
  "kernelspec": {
   "display_name": "Python 3",
   "language": "python",
   "name": "python3"
  },
  "language_info": {
   "codemirror_mode": {
    "name": "ipython",
    "version": 3
   },
   "file_extension": ".py",
   "mimetype": "text/x-python",
   "name": "python",
   "nbconvert_exporter": "python",
   "pygments_lexer": "ipython3",
   "version": "3.8.10"
  }
 },
 "nbformat": 4,
 "nbformat_minor": 4
}
