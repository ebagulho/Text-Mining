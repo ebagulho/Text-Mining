{
 "cells": [
  {
   "cell_type": "markdown",
   "metadata": {},
   "source": [
    "# Documents"
   ]
  },
  {
   "cell_type": "code",
   "execution_count": null,
   "metadata": {},
   "outputs": [],
   "source": [
    "doc1 = \"Sugar is bad to consume. My sister likes to have sugar, but not my father.\"\n",
    "doc2 = \"My father spends a lot of time driving my sister around to dance practice.\"\n",
    "doc3 = \"Doctors suggest that driving may cause increased stress and blood pressure.\"\n",
    "doc4 = \"Sometimes I feel pressure to perform well at school, but my father never seems to drive my sister to do better.\"\n",
    "doc5 = \"Health experts say that Sugar is not good for your lifestyle.\"\n",
    "\n",
    "# compile documents\n",
    "doc_complete = [doc1, doc2, doc3, doc4, doc5]"
   ]
  },
  {
   "cell_type": "markdown",
   "metadata": {},
   "source": [
    "# Cleaning and Preprocessing"
   ]
  },
  {
   "cell_type": "code",
   "execution_count": null,
   "metadata": {},
   "outputs": [],
   "source": [
    "from nltk.corpus import stopwords\n",
    "from nltk.stem.wordnet import WordNetLemmatizer\n",
    "import string\n",
    "stop = set(stopwords.words('english'))\n",
    "exclude = set(string.punctuation)\n",
    "lemma = WordNetLemmatizer()\n",
    "def clean(doc):\n",
    "    stop_free = \" \".join([i for i in doc.lower().split() if i not in stop])\n",
    "    punc_free = ''.join(ch for ch in stop_free if ch not in exclude)\n",
    "    normalized = \" \".join(lemma.lemmatize(word) for word in punc_free.split())\n",
    "    return normalized\n",
    "\n",
    "doc_clean = [clean(doc).split() for doc in doc_complete]"
   ]
  },
  {
   "cell_type": "markdown",
   "metadata": {},
   "source": [
    "# Document-Term Matrix"
   ]
  },
  {
   "cell_type": "code",
   "execution_count": null,
   "metadata": {},
   "outputs": [],
   "source": [
    "# Importing Gensim\n",
    "import gensim\n",
    "from gensim import corpora\n",
    "from pprint import pprint  \n",
    "\n",
    "# Creating the term dictionary of our courpus, where every unique term is assigned an index.\n",
    "dictionary = corpora.Dictionary(doc_clean)\n",
    "\n",
    "# Converting list of documents (corpus) into Document Term Matrix using dictionary prepared above.\n",
    "doc_term_matrix = [dictionary.doc2bow(doc) for doc in doc_clean]\n",
    "\n",
    "pprint(doc_term_matrix)"
   ]
  },
  {
   "cell_type": "markdown",
   "metadata": {},
   "source": [
    "# LDA Model"
   ]
  },
  {
   "cell_type": "code",
   "execution_count": null,
   "metadata": {},
   "outputs": [],
   "source": [
    "from pprint import pprint  \n",
    "\n",
    "# Creating the object for LDA model using gensim library\n",
    "lda = gensim.models.ldamodel.LdaModel\n",
    "\n",
    "# Running and Trainign LDA model on the document term matrix.\n",
    "ldamodel = lda(doc_term_matrix, num_topics=5, id2word = dictionary, passes=50)\n",
    "\n",
    "# Results\n",
    "pprint(ldamodel.print_topics(num_topics=5, num_words=3))\n",
    "pprint(ldamodel.get_document_topics(doc_term_matrix[1]))"
   ]
  },
  {
   "cell_type": "code",
   "execution_count": null,
   "metadata": {},
   "outputs": [],
   "source": [
    "pprint(ldamodel[doc_term_matrix[1]])"
   ]
  },
  {
   "cell_type": "code",
   "execution_count": null,
   "metadata": {},
   "outputs": [],
   "source": [
    "pprint(ldamodel[dictionary.doc2bow(\"I like sugar very much\".split())])"
   ]
  },
  {
   "cell_type": "code",
   "execution_count": null,
   "metadata": {},
   "outputs": [],
   "source": [
    "ldamodel.get_term_topics(dictionary.token2id[\"sugar\"], minimum_probability=0.001)"
   ]
  },
  {
   "cell_type": "markdown",
   "metadata": {},
   "source": [
    "# LSA Model"
   ]
  },
  {
   "cell_type": "code",
   "execution_count": null,
   "metadata": {},
   "outputs": [],
   "source": [
    "lsa = gensim.models.lsimodel.LsiModel\n",
    "\n",
    "lsamodel = lsa(doc_term_matrix, num_topics=3, id2word = dictionary)\n",
    "\n",
    "pprint(lsamodel.print_topics(num_topics=3, num_words=3))\n",
    "pprint(lsamodel.projection.u[dictionary.token2id[\"father\"]])\n",
    "print(lsamodel.projection.u.shape)\n",
    "pprint(lsamodel.projection.s[1])"
   ]
  },
  {
   "cell_type": "code",
   "execution_count": null,
   "metadata": {},
   "outputs": [],
   "source": [
    "lsamodel.show_topic(0, topn=5)"
   ]
  },
  {
   "cell_type": "code",
   "execution_count": null,
   "metadata": {},
   "outputs": [],
   "source": [
    "print(lsamodel[doc_term_matrix[1]])"
   ]
  },
  {
   "cell_type": "markdown",
   "metadata": {},
   "source": [
    "# Possible Improvements\n",
    "* Filtering\n",
    "* Part of Speech Tag Filter\n",
    "* Chunks (Parsing)\n",
    "* NER"
   ]
  },
  {
   "cell_type": "markdown",
   "metadata": {},
   "source": [
    "## IDF filtering"
   ]
  },
  {
   "cell_type": "code",
   "execution_count": null,
   "metadata": {},
   "outputs": [],
   "source": [
    "tfidf = gensim.models.tfidfmodel.TfidfModel\n",
    "tfidfmodel = tfidf(doc_term_matrix, id2word = dictionary)\n",
    "print(tfidfmodel.id2word)\n",
    "print(tfidfmodel.dfs)"
   ]
  },
  {
   "cell_type": "code",
   "execution_count": null,
   "metadata": {},
   "outputs": [],
   "source": [
    "voc = {}\n",
    "for i in range(len(tfidfmodel.id2word)):\n",
    "    voc[tfidfmodel.id2word[i]] = tfidfmodel.idfs[i]\n",
    "    print(tfidfmodel.id2word[i], tfidfmodel.idfs[i])"
   ]
  },
  {
   "cell_type": "code",
   "execution_count": null,
   "metadata": {},
   "outputs": [],
   "source": [
    "sel_features=sorted(voc, key=voc.__getitem__, reverse=True)[:40]\n",
    "print(sel_features)"
   ]
  },
  {
   "cell_type": "code",
   "execution_count": null,
   "metadata": {},
   "outputs": [],
   "source": [
    "def select(doc, voc):\n",
    "    selected = [i for i in doc.split() if i in voc]\n",
    "    return selected\n",
    "\n",
    "doc_clean = [select(doc, sel_features) for doc in doc_complete]\n",
    "dictionary = corpora.Dictionary(doc_clean)\n",
    "\n",
    "# Converting list of documents (corpus) into Document Term Matrix using dictionary prepared above.\n",
    "doc_term_matrix = [dictionary.doc2bow(doc) for doc in doc_clean]\n",
    "\n",
    "# Now you can create new topic models using the selected vocabulary"
   ]
  },
  {
   "cell_type": "markdown",
   "metadata": {},
   "source": [
    "## Chunking"
   ]
  },
  {
   "cell_type": "code",
   "execution_count": null,
   "metadata": {},
   "outputs": [],
   "source": [
    "import nltk.chunk\n",
    " \n",
    "def conll_tag_chunks(chunk_sents):\n",
    "    tag_sents = [nltk.chunk.tree2conlltags(tree) for tree in chunk_sents]\n",
    "    return [[(t, c) for (w, t, c) in chunk_tags] for chunk_tags in tag_sents]"
   ]
  },
  {
   "cell_type": "code",
   "execution_count": null,
   "metadata": {},
   "outputs": [],
   "source": [
    "import nltk.corpus, nltk.tag\n",
    " \n",
    "def ubt_conll_chunk_accuracy(train_sents, test_sents):\n",
    "    train_chunks = conll_tag_chunks(train_sents)\n",
    "    test_chunks = conll_tag_chunks(test_sents)\n",
    " \n",
    "    u_chunker = nltk.tag.UnigramTagger(train_chunks)\n",
    "    print('u:', u_chunker.evaluate(test_chunks))\n",
    " \n",
    "    ub_chunker = nltk.tag.BigramTagger(train_chunks, backoff=u_chunker)\n",
    "    print('ub:', ub_chunker.evaluate(test_chunks))\n",
    " \n",
    "    ubt_chunker = nltk.tag.TrigramTagger(train_chunks, backoff=ub_chunker)\n",
    "    print('ubt:', ubt_chunker.evaluate(test_chunks))\n",
    " \n",
    "    ut_chunker = nltk.tag.TrigramTagger(train_chunks, backoff=u_chunker)\n",
    "    print('ut:', ut_chunker.evaluate(test_chunks))\n",
    " \n",
    "    utb_chunker = nltk.tag.BigramTagger(train_chunks, backoff=ut_chunker)\n",
    "    print('utb:', utb_chunker.evaluate(test_chunks))\n",
    " \n",
    "# conll chunking accuracy test\n",
    "conll_train = nltk.corpus.conll2000.chunked_sents('train.txt')\n",
    "conll_test = nltk.corpus.conll2000.chunked_sents('test.txt')\n",
    "ubt_conll_chunk_accuracy(conll_train, conll_test)\n",
    "\n",
    "# treebank chunking accuracy test\n",
    "# treebank_sents = nltk.corpus.treebank_chunk.chunked_sents()\n",
    "# ubt_conll_chunk_accuracy(treebank_sents[:2000], treebank_sents[2000:])"
   ]
  },
  {
   "cell_type": "code",
   "execution_count": null,
   "metadata": {},
   "outputs": [],
   "source": [
    "conll_train = nltk.corpus.conll2000.chunked_sents('train.txt')\n",
    "conll_test = nltk.corpus.conll2000.chunked_sents('test.txt')\n",
    "train_chunks = conll_tag_chunks(conll_train)\n",
    "ubt_chunker = nltk.tag.TrigramTagger(train_chunks)"
   ]
  },
  {
   "cell_type": "code",
   "execution_count": null,
   "metadata": {},
   "outputs": [],
   "source": [
    "sentence = 'John ate an apple'\n",
    "print(nltk.pos_tag(sentence.split()))"
   ]
  },
  {
   "cell_type": "code",
   "execution_count": null,
   "metadata": {},
   "outputs": [],
   "source": [
    "pos=[t for w,t in nltk.pos_tag(sentence.split())]\n",
    "ubt_chunker.tag(pos)"
   ]
  },
  {
   "cell_type": "code",
   "execution_count": null,
   "metadata": {},
   "outputs": [],
   "source": [
    "def clean2(doc):\n",
    "    punc_free = ''.join(ch for ch in doc if ch not in exclude)\n",
    "    normalized = \" \".join(lemma.lemmatize(word) for word in punc_free.split())\n",
    "    return normalized\n",
    "\n",
    "tags = [ nltk.pos_tag(clean2(d).split()) for d in doc_complete ]\n",
    "print(\"Doc[0]\", tags[0])"
   ]
  },
  {
   "cell_type": "code",
   "execution_count": null,
   "metadata": {},
   "outputs": [],
   "source": [
    "chunks = [ubt_chunker.tag([t for w,t in d]) for d in tags]\n",
    "print(\"chunks[0]\", chunks[0])"
   ]
  },
  {
   "cell_type": "code",
   "execution_count": null,
   "metadata": {},
   "outputs": [],
   "source": [
    "print([(t,c) for (t,_),(_,c) in zip(tags[0], chunks[0])])"
   ]
  },
  {
   "cell_type": "code",
   "execution_count": null,
   "metadata": {},
   "outputs": [],
   "source": [
    "doc_clean=[]\n",
    "for i in range(len(tags)):\n",
    "    phrase=[]\n",
    "    for (t,_),(_,c) in zip(tags[i], chunks[i]):\n",
    "        if c==None or not c.startswith(\"I\"):\n",
    "            phrase.append(\" \"+t)\n",
    "        else:\n",
    "            phrase.append(\"_\"+t)\n",
    "    t = \"\".join(phrase)\n",
    "    doc_clean.append(t.split())"
   ]
  },
  {
   "cell_type": "code",
   "execution_count": null,
   "metadata": {},
   "outputs": [],
   "source": [
    "doc_clean"
   ]
  },
  {
   "cell_type": "markdown",
   "metadata": {},
   "source": [
    "## Evaluation for LDA"
   ]
  },
  {
   "cell_type": "markdown",
   "metadata": {},
   "source": [
    "### Coherence Models"
   ]
  },
  {
   "cell_type": "code",
   "execution_count": null,
   "metadata": {},
   "outputs": [],
   "source": [
    "from gensim.models import CoherenceModel"
   ]
  },
  {
   "cell_type": "code",
   "execution_count": null,
   "metadata": {},
   "outputs": [],
   "source": [
    "coherence_model_lda = CoherenceModel(model=ldamodel, texts=doc_clean, dictionary=dictionary, coherence='c_v')\n",
    "coherence_lda = coherence_model_lda.get_coherence()\n",
    "print('Coherence Score: ', coherence_lda)"
   ]
  },
  {
   "cell_type": "code",
   "execution_count": null,
   "metadata": {},
   "outputs": [],
   "source": [
    "coherence_model_lsa = CoherenceModel(model=lsamodel, texts=doc_clean, dictionary=dictionary, coherence='c_v')\n",
    "coherence_lsa = coherence_model_lsa.get_coherence()\n",
    "print('Coherence Score: ', coherence_lsa)"
   ]
  }
 ],
 "metadata": {
  "kernelspec": {
   "display_name": "Python 3",
   "language": "python",
   "name": "python3"
  },
  "language_info": {
   "codemirror_mode": {
    "name": "ipython",
    "version": 3
   },
   "file_extension": ".py",
   "mimetype": "text/x-python",
   "name": "python",
   "nbconvert_exporter": "python",
   "pygments_lexer": "ipython3",
   "version": "3.6.8"
  }
 },
 "nbformat": 4,
 "nbformat_minor": 2
}
