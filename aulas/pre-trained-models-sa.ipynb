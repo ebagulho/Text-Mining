{
 "cells": [
  {
   "cell_type": "markdown",
   "id": "95abd988-3d52-4b92-a2eb-8b11f59968ba",
   "metadata": {},
   "source": [
    "# Using pre-trained Sentiment Analysis models"
   ]
  },
  {
   "cell_type": "markdown",
   "id": "9d107b1e-9408-4798-8671-cca99c67e871",
   "metadata": {},
   "source": [
    "## The easy way ..."
   ]
  },
  {
   "cell_type": "code",
   "execution_count": null,
   "id": "6e0db832-1c98-485f-aae1-520a5026ceb6",
   "metadata": {},
   "outputs": [],
   "source": [
    "!pip install -q transformers"
   ]
  },
  {
   "cell_type": "code",
   "execution_count": null,
   "id": "549af846-d1a5-4165-bd24-abb5ec28f89e",
   "metadata": {},
   "outputs": [],
   "source": [
    "from transformers import pipeline"
   ]
  },
  {
   "cell_type": "code",
   "execution_count": null,
   "id": "70e8d357-6b86-4317-b8ba-43e95006c43a",
   "metadata": {},
   "outputs": [],
   "source": [
    "sentiment_pipeline = pipeline(\"sentiment-analysis\")\n",
    "#sentiment_pipeline = pipeline(\"sentiment-analysis\", model=\"finiteautomata/bertweet-base-sentiment-analysis\")"
   ]
  },
  {
   "cell_type": "code",
   "execution_count": null,
   "id": "f013bb23-b285-498e-a75d-8f05d59a7f8f",
   "metadata": {},
   "outputs": [],
   "source": [
    "data = [\"I love you\", \"I hate you\", \"the unemployment is increasing\"]"
   ]
  },
  {
   "cell_type": "code",
   "execution_count": null,
   "id": "71115f01-d260-4bac-8eac-91452ecde5f2",
   "metadata": {},
   "outputs": [],
   "source": [
    "sentiment_pipeline(data)"
   ]
  },
  {
   "cell_type": "markdown",
   "id": "56dba43c-b986-4708-9460-50a0ff6872e7",
   "metadata": {
    "tags": []
   },
   "source": [
    "## Build your own Sentiment Analysis model: fine-tunning\n",
    "\n",
    "Some practical readings...\n",
    "* [Getting Started with Sentiment Analysis using Python](https://huggingface.co/blog/sentiment-analysis-python)\n",
    "* [Sentiment Analysis in 10 Minutes with BERT and TensorFlow](https://towardsdatascience.com/sentiment-analysis-in-10-minutes-with-bert-and-hugging-face-294e8a04b671])"
   ]
  },
  {
   "cell_type": "code",
   "execution_count": null,
   "id": "0ab43f83-0d1f-46d2-a589-52d67546bd99",
   "metadata": {},
   "outputs": [],
   "source": []
  }
 ],
 "metadata": {
  "kernelspec": {
   "display_name": "Python 3",
   "language": "python",
   "name": "python3"
  },
  "language_info": {
   "codemirror_mode": {
    "name": "ipython",
    "version": 3
   },
   "file_extension": ".py",
   "mimetype": "text/x-python",
   "name": "python",
   "nbconvert_exporter": "python",
   "pygments_lexer": "ipython3",
   "version": "3.8.10"
  }
 },
 "nbformat": 4,
 "nbformat_minor": 5
}
