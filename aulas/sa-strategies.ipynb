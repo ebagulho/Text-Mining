{
 "cells": [
  {
   "cell_type": "markdown",
   "id": "c4520835-0e3c-430d-a665-fe6e60c44f81",
   "metadata": {},
   "source": [
    "# Sentiment Analysis\n",
    "\n",
    "Table of contents\n",
    "* [Setup](#intro)\n",
    "* [1. Using a sentiment lexicon](#approach1) (basic approach)\n",
    "* [2. Using existing NLP tools](#approach2) (classical methods)\n",
    "* [3. Using pre-trained transformer-based models](#approach3) (good results)\n",
    "* [4. ChatGPT-like models](#approach4) (excellent results)"
   ]
  },
  {
   "cell_type": "markdown",
   "id": "9b73c523-fef6-441b-804f-59fb1fea77a9",
   "metadata": {},
   "source": [
    "## Setup"
   ]
  },
  {
   "cell_type": "code",
   "execution_count": null,
   "id": "fa4e4229",
   "metadata": {},
   "outputs": [],
   "source": [
    "%pip install textblob\n",
    "%pip install vaderSentiment\n",
    "%pip install -q transformers"
   ]
  },
  {
   "cell_type": "code",
   "execution_count": null,
   "id": "4fa9e49c-4d10-434a-ab4e-651aec750a30",
   "metadata": {},
   "outputs": [],
   "source": [
    "from textblob import TextBlob\n",
    "import pandas as pd\n",
    "import nltk\n",
    "if 'google.colab' in str(get_ipython()):\n",
    "    nltk.download('punkt')"
   ]
  },
  {
   "cell_type": "markdown",
   "id": "258866ce-c40c-415a-b6f5-894037f7ef7d",
   "metadata": {},
   "source": [
    "<p id=\"approach1\"></p>\n",
    "\n",
    "## Approach 1: Applying a sentiment lexicon (basic approach)"
   ]
  },
  {
   "cell_type": "markdown",
   "id": "8e2a80ce-fedf-496e-b64e-961b82beb858",
   "metadata": {},
   "source": [
    "Let's start by reading a sentiment lexicon"
   ]
  },
  {
   "cell_type": "code",
   "execution_count": null,
   "id": "1b19dfc9-3834-443a-a610-7ad39bc73f78",
   "metadata": {},
   "outputs": [],
   "source": [
    "lexname=\"https://raw.githubusercontent.com/fmmb/Text-Mining/main/data/NRC-lexicon.csv\"\n",
    "data = pd.read_csv(lexname, encoding=\"utf-8\", index_col=[\"English\"])"
   ]
  },
  {
   "cell_type": "code",
   "execution_count": null,
   "id": "16923975-1d5a-4fa5-a953-3bbab58ea529",
   "metadata": {},
   "outputs": [],
   "source": [
    "print(f\"Lexicon Size: {len(data)} words\")\n",
    "display(data.sample(5))"
   ]
  },
  {
   "cell_type": "markdown",
   "id": "f39f2bef-1ebf-4527-936a-a7b8725abe20",
   "metadata": {},
   "source": [
    "We will be using the dictionary `lex` instead of the dataframe, since the performance is much better that way"
   ]
  },
  {
   "cell_type": "code",
   "execution_count": null,
   "id": "431bce2a-1534-4a9d-bb25-85c8e6a2be1c",
   "metadata": {},
   "outputs": [],
   "source": [
    "lex = (data['Positive']-data['Negative']).to_dict()"
   ]
  },
  {
   "cell_type": "markdown",
   "id": "85f7fe2b-8c1a-4395-bdc8-63880660496f",
   "metadata": {},
   "source": [
    "Let's test some well-known words"
   ]
  },
  {
   "cell_type": "code",
   "execution_count": null,
   "id": "b8044132-dd94-4593-aa01-4ebc8251c24c",
   "metadata": {},
   "outputs": [],
   "source": [
    "for w in ['good', 'ok', 'dislike', 'bad']:\n",
    "    print(w, \"=>\", lex.get(w, 0))"
   ]
  },
  {
   "cell_type": "markdown",
   "id": "e9d4f695-686a-42dd-9840-c4146c801547",
   "metadata": {},
   "source": [
    "Now, to calculate the sentiment of a sentence, we only have to sum the polarity of each individual word, and check the final result."
   ]
  },
  {
   "cell_type": "code",
   "execution_count": null,
   "id": "76e85c08-1199-4748-b1c4-710d3bb531d4",
   "metadata": {},
   "outputs": [],
   "source": [
    "text = 'This is a lovely and beautiful place , but I hate the corner'\n",
    "polarity = 0\n",
    "for w in text.split():\n",
    "    polarity += lex.get(w, 0)\n",
    "    print(w, lex.get(w, 0) )\n",
    "print(\"Final score:\" , polarity)"
   ]
  },
  {
   "cell_type": "markdown",
   "id": "70181b04-c195-45e9-b421-c3e8f2ced059",
   "metadata": {},
   "source": [
    "Even better with a function ..."
   ]
  },
  {
   "cell_type": "code",
   "execution_count": null,
   "id": "7c5799f9-6b82-4d11-9dfa-c76b9375caf1",
   "metadata": {},
   "outputs": [],
   "source": [
    "def sentiment(text):\n",
    "    score = 0\n",
    "    for w in text.split():\n",
    "        score += lex.get(w, 0)\n",
    "    if score >= 0:\n",
    "        return \"POS\"\n",
    "    else:\n",
    "        return \"NEG\""
   ]
  },
  {
   "cell_type": "code",
   "execution_count": null,
   "id": "3bcfef94-9366-49e4-a7fc-6a7d8fb51cf0",
   "metadata": {},
   "outputs": [],
   "source": [
    "text = 'This is a lovely and beautiful place , but I hate the corner'\n",
    "sentiment(text)"
   ]
  },
  {
   "cell_type": "markdown",
   "id": "465ed0c5-74c7-460d-84f9-f9c4c50e1582",
   "metadata": {},
   "source": [
    "We could now process some texts with our classifier"
   ]
  },
  {
   "cell_type": "code",
   "execution_count": null,
   "id": "5ef58b63-e8b3-4e2c-9d6f-232d06b1f799",
   "metadata": {},
   "outputs": [],
   "source": [
    "texts = [ \"The movie was good.\",\n",
    "          \"I hate the movie\",\n",
    "          \"The movie was not good.\",\n",
    "          \"I really think this product sucks.\",\n",
    "          \"Really great product.\",\n",
    "          \"I don't like this product\"]\n",
    "for text in texts:\n",
    "    print(text, \"=>\", sentiment(text))"
   ]
  },
  {
   "cell_type": "markdown",
   "id": "e77fc1fd-85bc-4fc0-8520-82e2720bdf05",
   "metadata": {
    "tags": []
   },
   "source": [
    "<p id=\"approach2\"></p>\n",
    "\n",
    "## Approach 2: Using existing NLP tools\n",
    "There are many existing tools for sentiment analysis, such as `TextBlob` and `sentiment Vader`, amongst others. This section presents examples on how to use these two tools"
   ]
  },
  {
   "cell_type": "markdown",
   "id": "f7bdc93f-1728-4893-911d-2650151381af",
   "metadata": {},
   "source": [
    "### TextBlob\n",
    "`TextBlob` will be used to perform our initial sentiment analysis tests.\n",
    "Please consider the following list of texts, stored in the variable `texts` "
   ]
  },
  {
   "cell_type": "code",
   "execution_count": null,
   "id": "f8a46c54-7a1b-4fae-8f16-69637a272080",
   "metadata": {},
   "outputs": [],
   "source": [
    "texts = [ \"The movie was good.\",\n",
    "          \"I hate the movie\",\n",
    "          \"The movie was not good.\",\n",
    "          \"I really think this product sucks.\",\n",
    "          \"Really great product.\",\n",
    "          \"I don't like this product\"]"
   ]
  },
  {
   "cell_type": "markdown",
   "id": "6d0a36f1-3653-442b-9b76-0929f685679c",
   "metadata": {},
   "source": [
    "We can now print each one of the individual texts, together with it's sentiment score. A value above 0 means that the sentiment is positive, while a value below 0, means it is negative."
   ]
  },
  {
   "cell_type": "code",
   "execution_count": null,
   "id": "79f998e0-7aa1-4127-b637-b42b0dacb025",
   "metadata": {},
   "outputs": [],
   "source": [
    "for t in texts:\n",
    "    print(t, \"==>\", TextBlob(t).sentiment.polarity)"
   ]
  },
  {
   "cell_type": "markdown",
   "id": "21131a4f-080c-43aa-b42b-7ffc4df98af6",
   "metadata": {},
   "source": [
    "The previous code assumes that the text is already split into sentences, which may not be the case of texts comming from sources, such as *web pages* or *blogs*. However, your can give the whole text to `textblob`, and it is able to automatically split the texts into sentences, as follows."
   ]
  },
  {
   "cell_type": "code",
   "execution_count": null,
   "id": "6339d79d-77d4-4657-b281-b8f0a9fefbb8",
   "metadata": {},
   "outputs": [],
   "source": [
    "mytext = \"\"\"The movie was good. The movie was not good. I really think this product sucks.\n",
    "Really great product. I don't like this product.\"\"\"\n",
    "text=TextBlob(mytext)"
   ]
  },
  {
   "cell_type": "code",
   "execution_count": null,
   "id": "48e8db79-a424-407b-8d3b-3b1a52473da2",
   "metadata": {},
   "outputs": [],
   "source": [
    "for s in text.sentences:\n",
    "    print(s, \"==> \", s.sentiment.polarity)"
   ]
  },
  {
   "cell_type": "markdown",
   "id": "893a1454-57f4-4c01-84e4-cd00fd75c36d",
   "metadata": {},
   "source": [
    "### Evaluation\n",
    "\n",
    "Let's automatically classify a set of texts and evaluate the corresponding performance. \n",
    "\n",
    "In order to be able to do that, one has to provide the true labels together with the data. However, please note that the classification system won't be able to see the true labels. "
   ]
  },
  {
   "cell_type": "code",
   "execution_count": null,
   "id": "078c2ebc-eaf8-4b25-8eac-aba3d5b59533",
   "metadata": {},
   "outputs": [],
   "source": [
    "texts = [\"I love chocolate\",\n",
    "        \"I hate to eat\", \n",
    "        \"I don't love anyone\",\n",
    "        \"I like cakes\",\n",
    "        \"I don't fail\"]\n",
    "tags=[\"pos\", \"neg\", \"neg\", \"pos\", \"pos\"]"
   ]
  },
  {
   "cell_type": "markdown",
   "id": "4aea590b-1963-4891-a84d-c37e40ac0994",
   "metadata": {},
   "source": [
    "Let's do a small test with one of these examples..."
   ]
  },
  {
   "cell_type": "code",
   "execution_count": null,
   "id": "4d8fe65d-aab4-49e2-8ec9-09c3ea61dbc1",
   "metadata": {},
   "outputs": [],
   "source": [
    "print(\"TEXT:\", texts[0])\n",
    "print(\"SENTIMENT:\", TextBlob(texts[0]).sentiment.polarity)"
   ]
  },
  {
   "cell_type": "code",
   "execution_count": null,
   "id": "0aa09316-1f7a-4e98-bf5b-6390f7fb4974",
   "metadata": {},
   "outputs": [],
   "source": [
    "correct=0\n",
    "total=0\n",
    "for i in range(len(texts)):\n",
    "    polarity = TextBlob(texts[i]).sentiment.polarity\n",
    "    print(f\"SCORE: {polarity:4}, TAG: {tags[i]}, TEXT: {texts[i]}\")\n",
    "    if polarity >=0 and tags[i] == \"pos\":\n",
    "        correct +=1\n",
    "    elif polarity <0 and tags[i] == \"neg\":\n",
    "        correct += 1\n",
    "    total += 1\n",
    "\n",
    "print(f\"correct: {correct}, wrong: {total-correct}, accuracy: {correct/total}\")"
   ]
  },
  {
   "cell_type": "markdown",
   "id": "860fbce4-3d50-4c6d-a72a-a738a2c7571f",
   "metadata": {},
   "source": [
    "### Vader Sentiment"
   ]
  },
  {
   "cell_type": "code",
   "execution_count": null,
   "id": "50622de3-9bbd-46fb-8556-634c2e7b231b",
   "metadata": {},
   "outputs": [],
   "source": [
    "from vaderSentiment.vaderSentiment import SentimentIntensityAnalyzer\n",
    "sa = SentimentIntensityAnalyzer()\n",
    "\n",
    "texts = [\n",
    "    \"This food is amazing and tasty !\",\n",
    "    \"Exoplanets are planets outside the solar system\",\n",
    "    \"It is sad to see such a bad behavior\"\n",
    "]\n",
    "\n",
    "for text in texts:\n",
    "    score = sa.polarity_scores(text)[\"compound\"]\n",
    "    print('TEXT:', text)\n",
    "    print('  SENTIMENT:', score)"
   ]
  },
  {
   "cell_type": "markdown",
   "id": "17b6bd1a-d351-4ec5-92c8-44fef0eb2d2f",
   "metadata": {},
   "source": [
    "After computing the polarity score, we can also calculate the proportion of each sentiment in a sentence using the keys: \"pos\", \"neu\" and \"neg\" "
   ]
  },
  {
   "cell_type": "code",
   "execution_count": null,
   "id": "1c762561-c7d6-4319-930c-25b0afe89f5c",
   "metadata": {},
   "outputs": [],
   "source": [
    "for text in texts:\n",
    "    scores = sa.polarity_scores(text)\n",
    "    print('TEXT:', text)\n",
    "    print('  SCORES:', scores)"
   ]
  },
  {
   "cell_type": "markdown",
   "id": "347968a0-11a4-4f08-8245-a8be61a06b5d",
   "metadata": {
    "tags": []
   },
   "source": [
    "<p id=\"approach3\"></p>\n",
    "\n",
    "## Approach 3: Using pre-trained transformer-based models"
   ]
  },
  {
   "cell_type": "markdown",
   "id": "6089b949-473c-4fa4-b427-fedfeaa372e9",
   "metadata": {},
   "source": [
    "### The easy way ..."
   ]
  },
  {
   "cell_type": "code",
   "execution_count": null,
   "id": "549af846-d1a5-4165-bd24-abb5ec28f89e",
   "metadata": {},
   "outputs": [],
   "source": [
    "from transformers import pipeline"
   ]
  },
  {
   "cell_type": "code",
   "execution_count": null,
   "id": "70e8d357-6b86-4317-b8ba-43e95006c43a",
   "metadata": {},
   "outputs": [],
   "source": [
    "#sentiment_pipeline = pipeline(\"sentiment-analysis\")\n",
    "sentiment_pipeline = pipeline(\"text-classification\")\n",
    "#sentiment_pipeline = pipeline(\"sentiment-analysis\", model=\"finiteautomata/bertweet-base-sentiment-analysis\")"
   ]
  },
  {
   "cell_type": "code",
   "execution_count": null,
   "id": "f013bb23-b285-498e-a75d-8f05d59a7f8f",
   "metadata": {},
   "outputs": [],
   "source": [
    "data = [\"I love you\", \"I hate you\", \"the unemployment is increasing\"]"
   ]
  },
  {
   "cell_type": "code",
   "execution_count": null,
   "id": "71115f01-d260-4bac-8eac-91452ecde5f2",
   "metadata": {},
   "outputs": [],
   "source": [
    "sentiment_pipeline(data)"
   ]
  },
  {
   "cell_type": "markdown",
   "id": "80dc01e1-9ae3-44f6-8da7-3bff4c802517",
   "metadata": {
    "tags": []
   },
   "source": [
    "### Fine-tunning: improved models (optional)\n",
    "\n",
    "Some practical readings...\n",
    "* [Getting Started with Sentiment Analysis using Python](https://huggingface.co/blog/sentiment-analysis-python)\n",
    "* [Sentiment Analysis in 10 Minutes with BERT and TensorFlow](https://towardsdatascience.com/sentiment-analysis-in-10-minutes-with-bert-and-hugging-face-294e8a04b671)"
   ]
  },
  {
   "cell_type": "markdown",
   "id": "33198dbb-b565-418e-bb42-8431d420a84f",
   "metadata": {},
   "source": [
    "<p id=\"approach4\"></p>\n",
    "\n",
    "## Approach 4: ChatGPT-like models"
   ]
  },
  {
   "cell_type": "markdown",
   "id": "329e66f6-c31e-4908-99e6-fc05f4dea11c",
   "metadata": {},
   "source": [
    "Please use [ChatGPT](https://chat.openai.com/), [Gemini](https://gemini.google.com/) or a similar model to calculate the sentiment of the following sentences\n",
    "* This food is amazing and tasty!\n",
    "* Exoplanets are planets outside the solar system\n",
    "* It is sad to see such a bad behavior"
   ]
  },
  {
   "cell_type": "markdown",
   "id": "1a45e644-0411-4912-bb5a-375ac5590919",
   "metadata": {},
   "source": [
    "Try changing the prompt as follows:\n",
    "> Calculate the sentiment of the following sentences. Produce the output in the following format: TEXT, SENTIMENT (Positive, Neutral, Negative)\n",
    "            ..."
   ]
  }
 ],
 "metadata": {
  "kernelspec": {
   "display_name": "Python 3",
   "language": "python",
   "name": "python3"
  },
  "language_info": {
   "codemirror_mode": {
    "name": "ipython",
    "version": 3
   },
   "file_extension": ".py",
   "mimetype": "text/x-python",
   "name": "python",
   "nbconvert_exporter": "python",
   "pygments_lexer": "ipython3",
   "version": "3.12.4"
  }
 },
 "nbformat": 4,
 "nbformat_minor": 5
}
