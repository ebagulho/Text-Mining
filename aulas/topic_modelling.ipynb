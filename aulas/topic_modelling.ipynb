{
 "cells": [
  {
   "cell_type": "markdown",
   "metadata": {
    "id": "9EYA1hw8mNhy",
    "tags": []
   },
   "source": [
    "# Topic Modelling"
   ]
  },
  {
   "cell_type": "code",
   "execution_count": null,
   "metadata": {},
   "outputs": [],
   "source": [
    "import nltk\n",
    "from nltk.corpus import stopwords\n",
    "from nltk.stem.wordnet import WordNetLemmatizer\n",
    "import string\n",
    "import gensim\n",
    "from gensim import corpora\n",
    "from pprint import pprint"
   ]
  },
  {
   "cell_type": "markdown",
   "metadata": {},
   "source": [
    "Caso esteja a utilizar o google colab, deve seguir as instruções disponíveis no moodle\n",
    "e correr a célula seguinte"
   ]
  },
  {
   "cell_type": "code",
   "execution_count": null,
   "metadata": {},
   "outputs": [],
   "source": [
    "if 'google.colab' in str(get_ipython()):\n",
    "    from google.colab import drive\n",
    "    drive.mount('/content/drive')\n",
    "    %cd /content/drive/MyDrive/Iscte/TM/data\n",
    "    \n",
    "    nltk.download('stopwords')\n",
    "    nltk.download('wordnet')\n",
    "    nltk.download('omw-1.4')"
   ]
  },
  {
   "cell_type": "markdown",
   "metadata": {},
   "source": [
    "### Defining the documents to process"
   ]
  },
  {
   "cell_type": "code",
   "execution_count": null,
   "metadata": {
    "id": "7FF7rXkxmI06"
   },
   "outputs": [],
   "source": [
    "# topics: health and sugar\n",
    "doc1 = \"sugar is bad to health.\"\n",
    "doc5 = \"health experts say that sugar is not good for your lifestyle.\"\n",
    "doc11 = \"my health is important, so I don't use sugar.\"\n",
    "doc12 = \"a good lifestyle means less blood pressure and a long life.\"\n",
    "doc13 = \"my life is important to me. so I practice sports.\"\n",
    "doc19 = \"My sister likes to have sugar, but not my father\"\n",
    "\n",
    "# driving \n",
    "doc2 = \"my father is driving my sister around to dance practice by car.\"\n",
    "doc7 = \"my father does not need driving me there.\"\n",
    "doc14 = \"I love driving my car.\"\n",
    "doc15 = \"I am driving to relax. I really love my car\"\n",
    "doc16 = \"driving my sister home is realy nice\"\n",
    "\n",
    "# school\n",
    "doc3 = \"my school is great, I love to study there\"\n",
    "doc4 = \"sometimes I feel happy to perform well at school.\"\n",
    "doc6 = \"I am doing well at school, but my sister could study a little more.\"\n",
    "doc17 = \"I study everyday, and I love the school.\"\n",
    "doc18 = \"my school is the best.\"\n",
    "\n",
    "# compile documents\n",
    "doc_complete = [doc1, doc2, doc3, doc4, doc5, doc6, doc7, doc11, doc12, doc13, doc14, doc15, doc16, doc17, doc18, doc19]"
   ]
  },
  {
   "cell_type": "code",
   "execution_count": null,
   "metadata": {},
   "outputs": [],
   "source": [
    "print(doc_complete)"
   ]
  },
  {
   "cell_type": "markdown",
   "metadata": {
    "id": "uwVTWlVtmduh"
   },
   "source": [
    "# Cleaning and Preprocessing"
   ]
  },
  {
   "cell_type": "code",
   "execution_count": null,
   "metadata": {
    "colab": {
     "base_uri": "https://localhost:8080/"
    },
    "id": "3anluKe8mVHP",
    "outputId": "8bfc6ba8-4183-49e7-e5eb-3b7c61ee0b96"
   },
   "outputs": [],
   "source": [
    "stop = set(stopwords.words('english'))\n",
    "exclude = set(string.punctuation)\n",
    "lemma = WordNetLemmatizer()\n",
    "def clean(doc):\n",
    "    stop_free = \" \".join([i for i in doc.lower().split() if i not in stop])\n",
    "    punc_free = ''.join(ch for ch in stop_free if ch not in exclude)\n",
    "    normalized = \" \".join(lemma.lemmatize(word) for word in punc_free.split())\n",
    "    return normalized\n",
    "\n",
    "doc_clean = [clean(doc).split() for doc in doc_complete]\n",
    "print(doc_clean)"
   ]
  },
  {
   "cell_type": "markdown",
   "metadata": {
    "id": "lXZ8vs2dm7h5"
   },
   "source": [
    "# Document-Term Matrix"
   ]
  },
  {
   "cell_type": "code",
   "execution_count": null,
   "metadata": {
    "colab": {
     "base_uri": "https://localhost:8080/"
    },
    "id": "n3U3zG2im5Nj",
    "outputId": "68ce8810-b361-4a2e-8fa8-7bc64f602847"
   },
   "outputs": [],
   "source": [
    "# Creating the term dictionary of our corpus, where every unique term is assigned an index.\n",
    "dictionary = corpora.Dictionary(doc_clean)\n",
    "\n",
    "# Converting list of documents (corpus) into Document Term Matrix using dictionary prepared above.\n",
    "doc_term_matrix = [dictionary.doc2bow(doc) for doc in doc_clean]\n",
    "\n",
    "pprint(doc_term_matrix)"
   ]
  },
  {
   "cell_type": "markdown",
   "metadata": {
    "id": "0ftyo2HSneH3"
   },
   "source": [
    "# LDA Model"
   ]
  },
  {
   "cell_type": "code",
   "execution_count": null,
   "metadata": {
    "colab": {
     "base_uri": "https://localhost:8080/"
    },
    "id": "goyKtl3em_QR",
    "outputId": "a719dd2d-5907-48ed-d757-cc452d2647e0"
   },
   "outputs": [],
   "source": [
    "# Creating the object for the model using gensim library\n",
    "lda = gensim.models.ldamodel.LdaModel\n",
    "\n",
    "# Running and Training the model on the document term matrix.\n",
    "ldamodel = lda(doc_term_matrix, num_topics=3, id2word = dictionary, passes=100)\n",
    "\n",
    "# Results\n",
    "ldamodel.print_topics(num_topics=3, num_words=4)"
   ]
  },
  {
   "cell_type": "code",
   "execution_count": null,
   "metadata": {
    "colab": {
     "base_uri": "https://localhost:8080/"
    },
    "id": "jH_Hpc9mnqip",
    "outputId": "f1560b82-9401-4a8c-b99d-7656e2b30a54"
   },
   "outputs": [],
   "source": [
    "doc = clean(\"My father driving my sister around to dance practice.\")\n",
    "docrep = dictionary.doc2bow(doc.split())\n",
    "pprint(ldamodel.get_document_topics(docrep))"
   ]
  },
  {
   "cell_type": "code",
   "execution_count": null,
   "metadata": {
    "colab": {
     "base_uri": "https://localhost:8080/"
    },
    "id": "Bj3pr_aFnt4C",
    "outputId": "d9f5dd2a-983e-4bf0-e33b-77279f880b80"
   },
   "outputs": [],
   "source": [
    "pprint(ldamodel[docrep])"
   ]
  },
  {
   "cell_type": "code",
   "execution_count": null,
   "metadata": {
    "colab": {
     "base_uri": "https://localhost:8080/"
    },
    "id": "0czXjT-Onv6f",
    "outputId": "e4d0741b-b450-43a9-fe25-9ba0f6a77493"
   },
   "outputs": [],
   "source": [
    "pprint(ldamodel[doc_term_matrix[1]])"
   ]
  },
  {
   "cell_type": "code",
   "execution_count": null,
   "metadata": {
    "colab": {
     "base_uri": "https://localhost:8080/"
    },
    "id": "4puTDKtTnyb2",
    "outputId": "f63f7b4d-8215-4a8d-be65-61406e00da05"
   },
   "outputs": [],
   "source": [
    "doc = clean(\"I like sugar very much\")\n",
    "docrep = dictionary.doc2bow(doc.split())\n",
    "pprint(ldamodel[docrep])"
   ]
  },
  {
   "cell_type": "code",
   "execution_count": null,
   "metadata": {
    "colab": {
     "base_uri": "https://localhost:8080/"
    },
    "id": "cPEljjean8tH",
    "outputId": "764784e1-a323-469c-e825-bcadf1362c4c"
   },
   "outputs": [],
   "source": [
    "ldamodel.get_term_topics(dictionary.token2id[\"sugar\"], minimum_probability=0.001)"
   ]
  },
  {
   "cell_type": "markdown",
   "metadata": {
    "id": "0w9n-iYepITf",
    "tags": []
   },
   "source": [
    "# LSA Model"
   ]
  },
  {
   "cell_type": "code",
   "execution_count": null,
   "metadata": {
    "colab": {
     "base_uri": "https://localhost:8080/"
    },
    "id": "TbwwzXjXoBs3",
    "outputId": "7c0c7df3-3379-470d-abd3-247e7081081b"
   },
   "outputs": [],
   "source": [
    "# Creating the object for the model using gensim library\n",
    "lsa = gensim.models.lsimodel.LsiModel\n",
    "\n",
    "# Running and Training the model on the document term matrix.\n",
    "lsamodel = lsa(doc_term_matrix, num_topics=3, id2word = dictionary)\n",
    "\n",
    "# Results\n",
    "lsamodel.print_topics(num_topics=3, num_words=4)"
   ]
  },
  {
   "cell_type": "code",
   "execution_count": null,
   "metadata": {},
   "outputs": [],
   "source": [
    "pprint(lsamodel.projection.u[dictionary.token2id[\"father\"]])"
   ]
  },
  {
   "cell_type": "code",
   "execution_count": null,
   "metadata": {
    "colab": {
     "base_uri": "https://localhost:8080/"
    },
    "id": "GWWj1s4aoLwl",
    "outputId": "a51c1dca-eaf2-4833-fbf0-bb4349c96825"
   },
   "outputs": [],
   "source": [
    "print(lsamodel.projection.u.shape)\n",
    "pprint(lsamodel.projection.s[2])"
   ]
  },
  {
   "cell_type": "code",
   "execution_count": null,
   "metadata": {
    "colab": {
     "base_uri": "https://localhost:8080/"
    },
    "id": "GAhComT_phbq",
    "outputId": "22df318a-c62b-4da0-af80-bbe15410c6f0"
   },
   "outputs": [],
   "source": [
    "lsamodel.show_topic(0, topn=5)"
   ]
  },
  {
   "cell_type": "code",
   "execution_count": null,
   "metadata": {
    "colab": {
     "base_uri": "https://localhost:8080/"
    },
    "id": "XFTfjkE_po-C",
    "outputId": "05a1fa34-3d7c-4235-bed0-7b0cc3f4fa7e"
   },
   "outputs": [],
   "source": [
    "#print(lsamodel[doc_term_matrix[1]])\n",
    "doc = clean(\"I like sugar very much\")\n",
    "docrep = dictionary.doc2bow(doc.split())\n",
    "print(lsamodel[docrep])"
   ]
  },
  {
   "cell_type": "markdown",
   "metadata": {
    "id": "RuiUlpgcpzBs"
   },
   "source": [
    "# Possible Improvements\n",
    "\n",
    "\n",
    "* Filtering\n",
    "* Part of Speech Tag Filter\n",
    "* Chunks (Parsing)\n",
    "* NER\n"
   ]
  },
  {
   "cell_type": "markdown",
   "metadata": {
    "id": "nTmB-M07qA5e"
   },
   "source": [
    "## IDF Filtering"
   ]
  },
  {
   "cell_type": "code",
   "execution_count": null,
   "metadata": {
    "id": "SpdfxHcfprX1"
   },
   "outputs": [],
   "source": [
    "dictionary = corpora.Dictionary(doc_clean)\n",
    "doc_term_matrix = [dictionary.doc2bow(doc) for doc in doc_clean]"
   ]
  },
  {
   "cell_type": "code",
   "execution_count": null,
   "metadata": {
    "colab": {
     "base_uri": "https://localhost:8080/"
    },
    "id": "fy44CpxPqFMx",
    "outputId": "f67ea558-4345-45d8-cff2-8439028766e9"
   },
   "outputs": [],
   "source": [
    "tfidf = gensim.models.tfidfmodel.TfidfModel\n",
    "tfidfmodel = tfidf(doc_term_matrix, id2word = dictionary)\n",
    "print(tfidfmodel.id2word)\n",
    "print(tfidfmodel.dfs)"
   ]
  },
  {
   "cell_type": "code",
   "execution_count": null,
   "metadata": {
    "colab": {
     "base_uri": "https://localhost:8080/"
    },
    "id": "22NTzg-7qGfC",
    "outputId": "f7fc87a4-f13a-4a83-d636-080a3f30a11f"
   },
   "outputs": [],
   "source": [
    "voc = {}\n",
    "for i in range(len(tfidfmodel.id2word)):\n",
    "    if tfidfmodel.dfs[i] > 1:\n",
    "        voc[tfidfmodel.id2word[i]] = tfidfmodel.idfs[i]\n",
    "print(len(voc), voc)"
   ]
  },
  {
   "cell_type": "code",
   "execution_count": null,
   "metadata": {
    "colab": {
     "base_uri": "https://localhost:8080/"
    },
    "id": "CaM777pQqIWZ",
    "outputId": "f7b698f4-e6f7-4fa2-92c0-de3feb06dc3a"
   },
   "outputs": [],
   "source": [
    "sel_features=sorted(voc, key=voc.__getitem__, reverse=False)\n",
    "print(sel_features)"
   ]
  },
  {
   "cell_type": "code",
   "execution_count": null,
   "metadata": {
    "id": "sBIE2z7AqKBc"
   },
   "outputs": [],
   "source": [
    "new_doc_clean = [[w for w in doc if w in sel_features] for doc in doc_clean]\n",
    "dictionary = corpora.Dictionary(new_doc_clean)\n",
    "\n",
    "# Converting list of documents (corpus) into Document Term Matrix using dictionary prepared above.\n",
    "doc_term_matrix = [dictionary.doc2bow(doc) for doc in new_doc_clean]\n",
    "\n",
    "# Now you can create new topic models using the selected vocabulary"
   ]
  },
  {
   "cell_type": "code",
   "execution_count": null,
   "metadata": {
    "colab": {
     "base_uri": "https://localhost:8080/"
    },
    "id": "PsFLUfhmqL95",
    "outputId": "fe4eaab5-58c6-47a4-e6d9-a0c4793d3aac"
   },
   "outputs": [],
   "source": [
    "print(new_doc_clean)"
   ]
  },
  {
   "cell_type": "markdown",
   "metadata": {
    "id": "qJBavHFnqRPH"
   },
   "source": [
    "## Testing LDA and LSA again"
   ]
  },
  {
   "cell_type": "markdown",
   "metadata": {
    "id": "zTgS8Rj9qYVK"
   },
   "source": [
    "### LDA Model"
   ]
  },
  {
   "cell_type": "code",
   "execution_count": null,
   "metadata": {
    "colab": {
     "base_uri": "https://localhost:8080/"
    },
    "id": "OyjiOa01qOAs",
    "outputId": "d549defc-0e56-4c05-f049-ced0f75d5a2d"
   },
   "outputs": [],
   "source": [
    "lda = gensim.models.ldamodel.LdaModel\n",
    "ldamodel = lda(doc_term_matrix, num_topics=3, id2word = dictionary, passes=100)\n",
    "pprint(ldamodel.print_topics(num_topics=3, num_words=4))"
   ]
  },
  {
   "cell_type": "markdown",
   "metadata": {
    "id": "34qW4omkqf-4"
   },
   "source": [
    "### LSA Model"
   ]
  },
  {
   "cell_type": "code",
   "execution_count": null,
   "metadata": {
    "colab": {
     "base_uri": "https://localhost:8080/"
    },
    "id": "fWzt2Zu1qcN2",
    "outputId": "379d659a-a4c6-423a-b7b3-2d2dd32bb17d"
   },
   "outputs": [],
   "source": [
    "lsa = gensim.models.lsimodel.LsiModel\n",
    "lsamodel = lsa(doc_term_matrix, num_topics=3, id2word = dictionary)\n",
    "\n",
    "pprint(lsamodel.print_topics(num_topics=3, num_words=4))"
   ]
  },
  {
   "cell_type": "code",
   "execution_count": null,
   "metadata": {
    "colab": {
     "base_uri": "https://localhost:8080/"
    },
    "id": "nRSdStljqkNB",
    "outputId": "daf60f09-c4a4-401c-9425-d546712e92cf"
   },
   "outputs": [],
   "source": [
    "print(lsamodel.projection.u.shape)"
   ]
  },
  {
   "cell_type": "markdown",
   "metadata": {
    "id": "-cYOTTpAqqsy"
   },
   "source": [
    "## Chunking"
   ]
  },
  {
   "cell_type": "code",
   "execution_count": null,
   "metadata": {
    "colab": {
     "base_uri": "https://localhost:8080/"
    },
    "id": "Z0BFWIDoqtvX",
    "outputId": "38f59f7f-b02f-4dd1-84e5-8ecc94d6a076"
   },
   "outputs": [],
   "source": [
    "import nltk.chunk\n",
    "\n",
    "nltk.download('conll2000')\n",
    "nltk.download('averaged_perceptron_tagger')\n",
    "nltk.download('punkt')\n",
    "\n",
    "def conll_tag_chunks(chunk_sents):\n",
    "    tag_sents = [nltk.chunk.tree2conlltags(tree) for tree in chunk_sents]\n",
    "    return [[(t, c) for (w, t, c) in chunk_tags] for chunk_tags in tag_sents]\n",
    "\n",
    "conll_train = nltk.corpus.conll2000.chunked_sents('train.txt')\n",
    "conll_test = nltk.corpus.conll2000.chunked_sents('test.txt')\n",
    "train_chunks = conll_tag_chunks(conll_train)\n",
    "ubt_chunker = nltk.tag.TrigramTagger(train_chunks)"
   ]
  },
  {
   "cell_type": "code",
   "execution_count": null,
   "metadata": {
    "colab": {
     "base_uri": "https://localhost:8080/"
    },
    "id": "uA9p1s1irJcV",
    "outputId": "10a04157-761d-4915-eb9f-f443da4b2211"
   },
   "outputs": [],
   "source": [
    "sentence = 'John ate an apple'\n",
    "pos_tags = nltk.pos_tag(sentence.split())\n",
    "print(pos_tags)"
   ]
  },
  {
   "cell_type": "code",
   "execution_count": null,
   "metadata": {
    "colab": {
     "base_uri": "https://localhost:8080/"
    },
    "id": "PpfGgcPfroVg",
    "outputId": "28d84941-decb-4cc7-a6f3-7bae0204d9a8"
   },
   "outputs": [],
   "source": [
    "chunks = ubt_chunker.tag([t for w,t in pos_tags])\n",
    "print(chunks)"
   ]
  },
  {
   "cell_type": "code",
   "execution_count": null,
   "metadata": {
    "colab": {
     "base_uri": "https://localhost:8080/"
    },
    "id": "BrXNxds7rrLW",
    "outputId": "7a992946-329a-486e-e869-8301b55005aa"
   },
   "outputs": [],
   "source": [
    "def get_chunks(docs):\n",
    "    newdocs=[]\n",
    "    for doc in docs:\n",
    "        tags = nltk.pos_tag(nltk.word_tokenize(doc))\n",
    "        chunks = ubt_chunker.tag([t for w,t in tags])\n",
    "        phrase=[]\n",
    "        for i in range(len(tags)):\n",
    "            #print(tags[i], chunks[i])\n",
    "            if chunks[i][1] == None or not chunks[i][1].startswith(\"I\"):\n",
    "                phrase.append(\" \"+tags[i][0])\n",
    "            else:\n",
    "                phrase.append(\"_\"+tags[i][0])\n",
    "        newdocs.append(\"\".join(phrase).split())\n",
    "    return newdocs\n",
    "\n",
    "get_chunks(['John ate an apple', 'the computer is in the machine room'])"
   ]
  },
  {
   "cell_type": "code",
   "execution_count": null,
   "metadata": {
    "colab": {
     "base_uri": "https://localhost:8080/"
    },
    "id": "akVxLb4Ir0r2",
    "outputId": "1a1a87a9-0cf8-4f9c-80e5-328c8e27599c"
   },
   "outputs": [],
   "source": [
    "stop = set(stopwords.words('english'))\n",
    "exclude = set(string.punctuation)\n",
    "\n",
    "def clean2(docs):\n",
    "    res = []\n",
    "    for doc in docs:\n",
    "        punc_free = ' '.join(ch for ch in doc if ch not in exclude)\n",
    "        normalized = \" \".join(lemma.lemmatize(word) for word in punc_free.split())\n",
    "        res.append([w for w in normalized.lower().split() if w not in stop])\n",
    "    return res\n",
    "\n",
    "chunks = get_chunks(['John ate an apple', 'the computer is in the machine room'])\n",
    "clean2(chunks)"
   ]
  },
  {
   "cell_type": "code",
   "execution_count": null,
   "metadata": {
    "colab": {
     "base_uri": "https://localhost:8080/"
    },
    "id": "kQCVN24Jr6bK",
    "outputId": "06c91fd4-ad13-4f1d-e483-213606a4f81c"
   },
   "outputs": [],
   "source": [
    "doc_clean = clean2(get_chunks(doc_complete))\n",
    "print(doc_clean)"
   ]
  },
  {
   "cell_type": "markdown",
   "metadata": {
    "id": "hJeeAIcjqm97"
   },
   "source": [
    "## Testing LDA and LSA again¶"
   ]
  },
  {
   "cell_type": "code",
   "execution_count": null,
   "metadata": {
    "colab": {
     "base_uri": "https://localhost:8080/"
    },
    "id": "m1jBYsSTqmJ1",
    "outputId": "9731a12a-4859-4982-bd45-8d6d80004c95"
   },
   "outputs": [],
   "source": [
    "dictionary = corpora.Dictionary(doc_clean)\n",
    "doc_term_matrix = [dictionary.doc2bow(doc) for doc in doc_clean]\n",
    "print(doc_term_matrix)"
   ]
  },
  {
   "cell_type": "markdown",
   "metadata": {
    "id": "eWhGqz7TsIdX"
   },
   "source": [
    "### LDA Model"
   ]
  },
  {
   "cell_type": "code",
   "execution_count": null,
   "metadata": {
    "colab": {
     "base_uri": "https://localhost:8080/"
    },
    "id": "nH8TrIrdsF07",
    "outputId": "89dd068c-71f9-4832-e33f-eb624b2ed6cf"
   },
   "outputs": [],
   "source": [
    "lda = gensim.models.ldamodel.LdaModel\n",
    "ldamodel = lda(doc_term_matrix, num_topics=3, id2word = dictionary, passes=50)\n",
    "pprint(ldamodel.print_topics(num_topics=3, num_words=4))"
   ]
  },
  {
   "cell_type": "markdown",
   "metadata": {
    "id": "l3WHY40asNUZ"
   },
   "source": [
    "### LSA Model"
   ]
  },
  {
   "cell_type": "code",
   "execution_count": null,
   "metadata": {
    "colab": {
     "base_uri": "https://localhost:8080/"
    },
    "id": "fziAxpMZsMS6",
    "outputId": "56d0a111-1bbb-4d3f-a295-9904bee44651"
   },
   "outputs": [],
   "source": [
    "lsa = gensim.models.lsimodel.LsiModel\n",
    "lsamodel = lsa(doc_term_matrix, num_topics=3, id2word = dictionary)\n",
    "pprint(lsamodel.print_topics(num_topics=3, num_words=4))"
   ]
  },
  {
   "cell_type": "markdown",
   "metadata": {
    "id": "TAmQnCMLsZ2d"
   },
   "source": [
    "# Intrinsic Evaluation"
   ]
  },
  {
   "cell_type": "markdown",
   "metadata": {
    "id": "5v4R4hHMsuHN"
   },
   "source": [
    "## Coherence Models"
   ]
  },
  {
   "cell_type": "code",
   "execution_count": null,
   "metadata": {
    "id": "fAbNLN4WsRSU"
   },
   "outputs": [],
   "source": [
    "from gensim.models import CoherenceModel"
   ]
  },
  {
   "cell_type": "code",
   "execution_count": null,
   "metadata": {
    "colab": {
     "base_uri": "https://localhost:8080/"
    },
    "id": "CGkBzZfzsguZ",
    "outputId": "01962d06-c9a5-44d8-cc33-dbbed1029d11"
   },
   "outputs": [],
   "source": [
    "coherence_model_lda = CoherenceModel(model=ldamodel, texts=doc_clean, dictionary=dictionary, coherence='c_v')\n",
    "coherence_lda = coherence_model_lda.get_coherence()\n",
    "print('Coherence Score: ', coherence_lda)"
   ]
  },
  {
   "cell_type": "code",
   "execution_count": null,
   "metadata": {
    "colab": {
     "base_uri": "https://localhost:8080/"
    },
    "id": "Fxoz6VALsh5z",
    "outputId": "fe2fab2c-4a65-4484-d765-6ade81e896a2"
   },
   "outputs": [],
   "source": [
    "coherence_model_lsa = CoherenceModel(model=lsamodel, texts=doc_clean, dictionary=dictionary, coherence='c_v')\n",
    "coherence_lsa = coherence_model_lsa.get_coherence()\n",
    "print('Coherence Score: ', coherence_lsa)"
   ]
  },
  {
   "cell_type": "markdown",
   "metadata": {
    "id": "wud_2g56tVJU"
   },
   "source": [
    "# Experimenting with an embeddings-based model\n",
    "BERTopic: https://maartengr.github.io/BERTopic/index.html"
   ]
  },
  {
   "cell_type": "code",
   "execution_count": null,
   "metadata": {
    "colab": {
     "base_uri": "https://localhost:8080/"
    },
    "id": "vWYajT59sjy6",
    "outputId": "56d0c843-b54c-4bfd-ed4b-f4b1ab4b5830"
   },
   "outputs": [],
   "source": [
    "#!pip install bertopic"
   ]
  },
  {
   "cell_type": "code",
   "execution_count": null,
   "metadata": {
    "id": "y2ywmf2ataLP"
   },
   "outputs": [],
   "source": [
    "from bertopic import BERTopic\n",
    "topic_model = BERTopic(min_topic_size=3)\n",
    "topics, probs = topic_model.fit_transform(doc_complete)"
   ]
  },
  {
   "cell_type": "code",
   "execution_count": null,
   "metadata": {
    "colab": {
     "base_uri": "https://localhost:8080/",
     "height": 111
    },
    "id": "HQ-zLYDNum7N",
    "outputId": "fc094adb-8a7c-4bd6-e533-5aa1a34e3902"
   },
   "outputs": [],
   "source": [
    "topic_model.get_topic_info()"
   ]
  },
  {
   "cell_type": "code",
   "execution_count": null,
   "metadata": {
    "colab": {
     "base_uri": "https://localhost:8080/"
    },
    "id": "3DINx_Mru2Bg",
    "outputId": "57b4e7af-05d7-46d4-8145-f4e4095ffa3f"
   },
   "outputs": [],
   "source": [
    "topic_model.get_topic(0)"
   ]
  },
  {
   "cell_type": "code",
   "execution_count": null,
   "metadata": {
    "colab": {
     "base_uri": "https://localhost:8080/",
     "height": 342
    },
    "id": "l5UJzvmrwD9P",
    "outputId": "04eb2fc6-100d-48ea-d39d-1bacf55d0f1b"
   },
   "outputs": [],
   "source": [
    "%matplotlib inline\n",
    "topic_model.visualize_barchart()"
   ]
  },
  {
   "cell_type": "code",
   "execution_count": null,
   "metadata": {},
   "outputs": [],
   "source": []
  }
 ],
 "metadata": {
  "colab": {
   "provenance": []
  },
  "kernelspec": {
   "display_name": "Python 3",
   "language": "python",
   "name": "python3"
  },
  "language_info": {
   "codemirror_mode": {
    "name": "ipython",
    "version": 3
   },
   "file_extension": ".py",
   "mimetype": "text/x-python",
   "name": "python",
   "nbconvert_exporter": "python",
   "pygments_lexer": "ipython3",
   "version": "3.8.10"
  }
 },
 "nbformat": 4,
 "nbformat_minor": 4
}
