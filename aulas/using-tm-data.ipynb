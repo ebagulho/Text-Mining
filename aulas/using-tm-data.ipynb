{
 "cells": [
  {
   "cell_type": "markdown",
   "metadata": {},
   "source": [
    "Alguns dos exemplos que iremos utilizar ao longo das próximas sessões utilizam dados que se encontram no ficheiro comprimido \"tm-data.zip\" fornecido pelos docentes.\n",
    "\n",
    "**Aviso: Não deverá disponibilizar nenhum destes ficheiros publicamente.**\n",
    "\n",
    "Caso pretenda correr o seu código através do google colab, deverá executar os seguintes passos:\n",
    "\n",
    "1. Descomprimir o ficheiro \"tm-data.zip\". Será criada a pasta \"data\", dentro da qual poderá encontrar vários ficheiros. \n",
    "2. Entrar na sua pasta Google Drive e criar a seguinte estrutura de pastas, na pasta principal: Iscte/TM\n",
    "3. Deverá agora copiar a pasta \"data\" para dentro de \"Iscte/TM\", por forma a ficar com a estrutura Iscte/TM/data\n",
    "4. Para utilizar estes dados a partir do google colab, poderá fazer a seguinte sequência de instruções"
   ]
  },
  {
   "cell_type": "code",
   "execution_count": null,
   "metadata": {},
   "outputs": [],
   "source": [
    "from google.colab import drive\n",
    "drive.mount('/content/drive')\n",
    "# Deverá ter de autorizar esta operação através do seu browser.\n",
    "\n",
    "# O seguinte comando permite-lhe posicionar-se dentro da diretoria \"data\"\n",
    "%cd /content/drive/MyDrive/Iscte/TM/data\n",
    "\n",
    "# O seguinte exemplo, mostra alguns ficheiros de jornais, com notícias escritas em Português \n",
    "import glob\n",
    "ficheiros=glob.glob(\"pt/tsf.selecionado/*.gz\")\n",
    "print(ficheiros)"
   ]
  },
  {
   "cell_type": "markdown",
   "metadata": {},
   "source": []
  }
 ],
 "metadata": {
  "language_info": {
   "name": "python"
  }
 },
 "nbformat": 4,
 "nbformat_minor": 2
}
