{
 "cells": [
  {
   "cell_type": "markdown",
   "metadata": {},
   "source": [
    "# Text Mining 2022/2023\n",
    "## Fernando Batista e Ricardo Ribeiro\n",
    "Gralhas ou sugestões: `fernando.batista@iscte-iul.pt` ou `ricardo.ribeiro@iscte-iul.pt`"
   ]
  },
  {
   "cell_type": "markdown",
   "metadata": {},
   "source": [
    "## Conteúdo\n",
    "\n",
    "1. Introdução ao Python (opcional)\n",
    "    * [Jupyter notebook e exemplos introdutórios de Python](./aulas/jupyter_notebooks.ipynb)\n",
    "    * Homework: [Introduction to Python](./aulas/01-intro-python.ipynb) and [exercises](./aulas/01-intro-python-hw.ipynb)\n",
    "    * Optional tutorial: [Jupyter Notebooks and Python elements](ABD_tutorial/Tutorial.ipynb) (cedido pelo colega João Oliveira)\n",
    "    * [Leitura de ficheiros CSV](./aulas/read_csv_files.ipynb)\n",
    "2. Pré-processamento com vista à representação de documentos\n",
    "    * [Tokenização](./aulas/tokenization.ipynb) básica, tokenização com NLTK, tokenização de tweets\n",
    "    * [Representação de documentos](./aulas/document_representation.ipynb). Ver também este [tutorial sobre gensim](./aulas/gensim_corpora_and_vector_spaces.ipynb)\n",
    "    * [Natural Language Processing (NLP) libraries](./aulas/nlp_tm_python.ipynb)\n",
    "3. Intelligent word representations\n",
    "    * [Embeddings](./aulas/embeddings.ipynb): word2vec, glove, etc\n",
    "4. [Classificação](./aulas/classificacao.ipynb) de textos\n",
    "5. Análise de Sentimento\n",
    "    * [Exemplos introdutórios](./aulas/SA-intro.ipynb)\n",
    "    * [Features and document representation](./aulas/SA-features.ipynb)\n",
    "    * [Sentiment classification (scikit-learn)](./aulas/SA-sklearn.ipynb)\n",
    "6. [Modelação de tópicos](./aulas/Topic_Modelling.ipynb)"
   ]
  },
  {
   "cell_type": "markdown",
   "metadata": {},
   "source": [
    "## Referências\n",
    "\n",
    "1. [Linguagem python (wikipedia)](https://en.wikipedia.org/wiki/Python_%28programming_language%29)\n",
    "\n",
    "2. [Jupyter notebook beginner's guide](http://jupyter-notebook-beginner-guide.readthedocs.org/en/latest/)"
   ]
  },
  {
   "cell_type": "markdown",
   "metadata": {},
   "source": [
    "## Aviso\n",
    "\n",
    "A diretoria \"TM\" é atualizada periodicamente, consoante a atualização de materiais da UC. Não deve colocar os seus ficheiros neste diretório ou subdiretório, pois serão periodicamente eliminados quando for feita uma atualização. Qualquer alteração a ficheiros desta diretoria será também perdida quando forem feitas atualizações. Coloque os seus diretórios e ficheiros na sua \"home directory\""
   ]
  }
 ],
 "metadata": {
  "kernelspec": {
   "display_name": "Python 3",
   "language": "python",
   "name": "python3"
  },
  "language_info": {
   "codemirror_mode": {
    "name": "ipython",
    "version": 3
   },
   "file_extension": ".py",
   "mimetype": "text/x-python",
   "name": "python",
   "nbconvert_exporter": "python",
   "pygments_lexer": "ipython3",
   "version": "3.8.10"
  }
 },
 "nbformat": 4,
 "nbformat_minor": 4
}
